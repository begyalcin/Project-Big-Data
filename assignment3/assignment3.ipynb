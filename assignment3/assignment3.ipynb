{
 "cells": [
  {
   "cell_type": "markdown",
   "id": "4a2ec1b5",
   "metadata": {},
   "source": [
    "Before you turn this problem in, make sure everything runs as expected. First, **restart the kernel** (in the menubar, select Kernel$\\rightarrow$Restart) and then **run all cells** (in the menubar, select Cell$\\rightarrow$Run All).\n",
    "\n",
    "Make sure you fill in any place that says `YOUR CODE HERE` (you should of course delete `raise NotImplementedError()` which is there only as reminder), while not modifying the other cells (but you should run them to check the output you obtain). Please also fill your first and last name and your VU ID below:"
   ]
  },
  {
   "cell_type": "code",
   "execution_count": 1,
   "id": "107bce2d",
   "metadata": {
    "tags": []
   },
   "outputs": [],
   "source": [
    "STUDENT_FIRST_NAME = \"Begüm\" # e.g. \"John\" (no \"J\", no \"J.\", no \"John S.M.\")\n",
    "STUDENT_LAST_NAME = \"Yalçın\"  # e.g. \"Smith\"\n",
    "VU_ID_NUM = \"2797623\"          # e.g. \"2789012\""
   ]
  },
  {
   "cell_type": "markdown",
   "id": "5457930d",
   "metadata": {},
   "source": [
    "---"
   ]
  },
  {
   "cell_type": "markdown",
   "id": "05173e1c-842e-4ad3-875a-b2ba4a6fa125",
   "metadata": {
    "deletable": false,
    "editable": false,
    "nbgrader": {
     "cell_type": "markdown",
     "checksum": "de09bf6cc1527a033f8f806fd2e33c40",
     "grade": false,
     "grade_id": "intro",
     "locked": true,
     "schema_version": 3,
     "solution": false,
     "task": false
    },
    "tags": []
   },
   "source": [
    "# Assignment 3\n",
    "\n",
    "The goal of this assignment is to make you familiar with statistical data analysis, as well as classification and regression tasks. This assignment is divided into 3 exercises, which are worth different amount of points (total is 100 points). Similar to the previous assignment, **the input and desired output are described either in the text or in the provided function docstrings.**\n",
    "\n",
    "We assume that the folder that you work in is the one obtained by unzipping the given ``assignment3.zip`` file and thus has the following structure. When working on your submission, please respect it, otherwise the autograder will give errors.\n",
    "\n",
    "```\n",
    "assignment3.ipynb\n",
    "data/\n",
    "    hue/...\n",
    "    emails.csv\n",
    "    house_prices.csv\n",
    "```\n",
    "\n",
    "## Important remarks\n",
    "\n",
    "- **Working together**: You are meant to work individually on the first three assignments. You can, of course, brainstorm ideas and discuss issues with your fellow students, but you are required to write your solutions individually. \n",
    "- **Plagiarism**: All your code will be automatically scanned for plagiarism. Furthermore, using the internet as a passive resource is allowed. This means that you can search for help there and partially copy code, as long as you explicitly acknowledge inside your Jupyter notebook which parts have been copied and from where. \n",
    "- **Performance**: You should optimize the computational performance of your functions. Specifically, when grading the assignments, we at times set a hard limit for each cell execution as specified in the exercise description. Function calls that take longer than that time threshold will not be awarded any points.\n",
    "- **Code styling**: Your implementation will not be checked for style. However, we do encourage you to practice good code styling. See, for example, https://docs.python-guide.org/writing/style/.\n",
    "- **Chronological run**: All outputs should be repeatable by doing one full “chronological” run of the notebook without any manual changes to code blocks, including parameters. (try it yourself by clicking ``Kernel -> Restart and run all``, which should give the result as handed in).\n",
    "- **Handing in**: Hand in the .ipynb file of your notebook on the [Canvas page for Assignment 3](https://canvas.vu.nl/courses/68046/assignments/262963) by *Wednesday June 21st 23:59*. . \n",
    "- **Other questions**: If you have doubts/questions about the assignments, feel free to ask them in [this discussion thread](https://canvas.vu.nl/courses/68046/discussion_topics/648149) so that everyone will be able to see them and our answers. "
   ]
  },
  {
   "cell_type": "code",
   "execution_count": 2,
   "id": "36a7516d-cce8-46d1-bf16-dcaa399c9f1a",
   "metadata": {
    "deletable": false,
    "editable": false,
    "nbgrader": {
     "cell_type": "code",
     "checksum": "f7557aa7928f474608f2faca6fa5b067",
     "grade": false,
     "grade_id": "initialize",
     "locked": true,
     "schema_version": 3,
     "solution": false,
     "task": false
    }
   },
   "outputs": [],
   "source": [
    "# Run this cell before anything else to import the packages you are allowed to used for this assignment\n",
    "\n",
    "import numpy as np\n",
    "import pandas as pd\n",
    "import sklearn\n",
    "from scipy import stats\n",
    "import statsmodels.api as sm\n",
    "\n",
    "from numpy.testing import assert_equal, assert_almost_equal\n",
    "\n",
    "pd.options.display.max_rows = 20"
   ]
  },
  {
   "cell_type": "markdown",
   "id": "0e5ceb3b-da25-40ba-bdef-0e873163d0db",
   "metadata": {
    "deletable": false,
    "editable": false,
    "nbgrader": {
     "cell_type": "markdown",
     "checksum": "fe8c6978d4898f91c40a03a4d36322b7",
     "grade": false,
     "grade_id": "Q1-description",
     "locked": true,
     "schema_version": 3,
     "solution": false,
     "task": false
    },
    "tags": []
   },
   "source": [
    "# Exercise 1: Statistical data analysis (20 points)\n",
    "\n",
    "The goal of this part of the assignment is to provide you with practice and experience in some basic data exploration and hypothesis testing with Python. You will work with data from the so-called \"HUE bedtime procrastination study\". A cleaned version of the data is found in (`hue_week_3.csv`), as well as another file that contains data from the post-study questionnaire that participants filled out at the end of the study (`hue_questionnaire.csv`). This file contains the following information:\n",
    "\n",
    "| Column | Description |\n",
    "-----------------------|--------------------------------------------|\n",
    "| `gender`          | 1 = male, 2 = female |\n",
    "| `age`           | Numeric age value | \n",
    "| `chronotype`      |    Single item (7-point scale), do you consider yourself more of a <br> morning (1) or an evening person? (7) |\n",
    "| `bp_scale` | Dutch version of the Bedtime Procrastination Scale |\n",
    "| `motivation` | Questions pertaining to personality traits related to procrastination. <br> Single item (7-point scale), how motivated were you to go to bed on <br> time each night? (1 = not motivated, 7 = very motivated) |\n",
    "| `daytime_sleepiness` | Dutch translation of the Epworth Sleepiness Scale <br> (4-point scale from 0-3; 8 questions, values summed) |\n",
    "| `self_reported_effectiveness` | Single item (7-point scale), <br> do you feel more rested since the intervention |\n",
    "\n",
    "In this part of the assignment, you will use Python to examine the post-questionnaire data in relation to the HUE data file, visualize trends and relationships, look for correlations between factors, test for significant differences between groups and build a regression model to predict bedtime delay. In order to perform the analyses, a number of transformations on the data still need to be done."
   ]
  },
  {
   "cell_type": "markdown",
   "id": "70e54771-4b5d-4c57-8808-3caf478e6dd9",
   "metadata": {
    "deletable": false,
    "editable": false,
    "nbgrader": {
     "cell_type": "markdown",
     "checksum": "44c14d72089d931c5a449ebab42380a1",
     "grade": false,
     "grade_id": "Q1-def",
     "locked": true,
     "schema_version": 3,
     "solution": false,
     "task": false
    }
   },
   "source": [
    "## Importing and cleaning the file (0 points)\n",
    "\n",
    "The read-only cell below already implements the ``read_data`` function, which returns a clean dataframe. The precise steps that the function takes are detailed as follows: \n",
    "\n",
    "- Reads the HUE data file and the questionnaire data file into two separate pandas DataFrames.\n",
    "\n",
    "- Creates a new DataFrame that contains the following Series:\n",
    "    \n",
    "| Column | Description |\n",
    "-----------------------|--------------------------------------------|\n",
    "| `ID` | Participant ID |\n",
    "| `group` | Participant group (1 for experimental, 0 for control) |\n",
    "| `delay_nights` | The number of nights the participant delayed their bedtime (range: 0-12) |\n",
    "| `delay_time` | The mean time in seconds a participant delayed their bedtime <br> (total delay in seconds, divided by the number of observations <br> measured for each individual, rounded to nearest second) |\n",
    "| `sleep_time` | The mean in-bed time in seconds of a participant (rounded to nearest second) <br> Average should be taken over the ``In Bed`` columns. Disregard inconsistencies with the difference ``Rise Time`` - ``Bed Time``  |\n",
    "    \n",
    "    \n",
    "- Sets the index of this new DataFrame to `ID`. Note that there should only be a single row per participant ID.    \n",
    "\n",
    "- Fills this new DataFrame by transforming data from the DataFrame about participants' bedtimes (from the HUE data file).\n",
    "\n",
    "- Merges this new DataFrame with the post-questionnaire data and store the resulting DataFrame in a new variable. Perform this merging operation of the two DataFrames in such a way that the resulting Data Frame only contains IDs that were present in both datasets.\n",
    "\n",
    "- Removes the rows that have NaN values in this merged DataFrame."
   ]
  },
  {
   "cell_type": "code",
   "execution_count": 3,
   "id": "bf1eb563-bc0a-4fe9-a8a7-f290110c8ac2",
   "metadata": {
    "deletable": false,
    "editable": false,
    "nbgrader": {
     "cell_type": "code",
     "checksum": "196731ee70a2f6e90ac86be98418ccbf",
     "grade": false,
     "grade_id": "Q1-answer",
     "locked": true,
     "schema_version": 3,
     "solution": false,
     "task": false
    }
   },
   "outputs": [],
   "source": [
    "def read_data(sleepdatafile, surveydatafile):\n",
    "    \n",
    "    def calculate_number_and_time_delay(row):\n",
    "        numberDelayNights = 0\n",
    "        sumDelayTime = 0\n",
    "        meanDelayTime = 0\n",
    "        isNan = True\n",
    "\n",
    "        i = 4\n",
    "        while i <= 114:\n",
    "            if not np.isnan(row[i]):\n",
    "                isNan = False\n",
    "                if float(row[i]) >= 0:\n",
    "                    numberDelayNights += 1\n",
    "                    sumDelayTime = sumDelayTime + float(row[i])\n",
    "            i = i + 10\n",
    "        if numberDelayNights > 0:\n",
    "            meanDelayTime = round(sumDelayTime / numberDelayNights, 0)\n",
    "        elif isNan:\n",
    "            meanDelayTime = np.nan\n",
    "            numberDelayNights = np.nan\n",
    "        return numberDelayNights, meanDelayTime\n",
    "\n",
    "\n",
    "    def create_new_dataframe(sleepDf):\n",
    "        df = pd.DataFrame(columns=['group', 'delay_nights', 'delay_time'])\n",
    "        dfs_to_concat = []\n",
    "\n",
    "        for index, row in sleepDf.iterrows():\n",
    "            ID = index\n",
    "            group = row[0]\n",
    "            numberDelayNights, meanDelayTime = calculate_number_and_time_delay(row)\n",
    "            new_row = pd.Series({'group': group, 'delay_nights': numberDelayNights, 'delay_time': meanDelayTime}, name=ID)\n",
    "            dfs_to_concat.append(new_row)\n",
    "\n",
    "        df = pd.concat(dfs_to_concat, axis=1).T\n",
    "\n",
    "        return df\n",
    "\n",
    "\n",
    "    def merge_dataFrames(transformedDf, surveyDf):\n",
    "        return pd.merge(transformedDf, surveyDf, how = 'inner', left_index = True, right_index = True)\n",
    "\n",
    "\n",
    "    def calculate_sleep_duration(sleepDf, mergedDf):\n",
    "        mergedDf[\"sleep_duration\"] = np.nan\n",
    "\n",
    "        for index,row in sleepDf.iterrows():\n",
    "            numberNights = 0\n",
    "            sumTime = 0\n",
    "            meanTime = 0\n",
    "            isNan = True\n",
    "\n",
    "            if index in mergedDf.index:\n",
    "                i = 7\n",
    "                while i <= 117:\n",
    "                    if not np.isnan(row[i]):\n",
    "                        isNan = False\n",
    "                        numberNights += 1\n",
    "                        sumTime = sumTime + float(row[i])\n",
    "                    i = i + 10\n",
    "\n",
    "                if numberNights > 0:\n",
    "                    meanTime = round(sumTime / numberNights, 0)\n",
    "                elif isNan:\n",
    "                    meanTime = np.nan\n",
    "                mergedDf.at[index, 'sleep_duration']=meanTime\n",
    "\n",
    "    sleepDf = pd.read_csv(sleepdatafile, delimiter = ',', index_col = 0)\n",
    "    surveyDf = pd.read_csv(surveydatafile, delimiter = ',', index_col = 0)\n",
    "    \n",
    "    transformedDf = create_new_dataframe(sleepDf)\n",
    "    mergedDf = merge_dataFrames(transformedDf, surveyDf)\n",
    "    calculate_sleep_duration(sleepDf, mergedDf)\n",
    "    mergedDfNoNan = mergedDf.dropna()\n",
    "    mergedDfNoNan.loc[:, 'group'] = mergedDfNoNan['group'].astype('int64')\n",
    "    \n",
    "    return mergedDfNoNan"
   ]
  },
  {
   "cell_type": "code",
   "execution_count": 4,
   "id": "34887b02-eec8-4339-a7e8-2deaafadaf42",
   "metadata": {
    "deletable": false,
    "editable": false,
    "nbgrader": {
     "cell_type": "code",
     "checksum": "da367e823cc9318a3fed1f8cd5b0ffad",
     "grade": false,
     "grade_id": "Q1-check",
     "locked": true,
     "schema_version": 3,
     "solution": false,
     "task": false
    }
   },
   "outputs": [
    {
     "name": "stderr",
     "output_type": "stream",
     "text": [
      "/var/folders/0m/4f8p309n38dgcm6s7hjkbtx00000gn/T/ipykernel_12746/2107794122.py:76: SettingWithCopyWarning: \n",
      "A value is trying to be set on a copy of a slice from a DataFrame.\n",
      "Try using .loc[row_indexer,col_indexer] = value instead\n",
      "\n",
      "See the caveats in the documentation: https://pandas.pydata.org/pandas-docs/stable/user_guide/indexing.html#returning-a-view-versus-a-copy\n",
      "  mergedDfNoNan.loc[:, 'group'] = mergedDfNoNan['group'].astype('int64')\n"
     ]
    },
    {
     "data": {
      "text/html": [
       "<div>\n",
       "<style scoped>\n",
       "    .dataframe tbody tr th:only-of-type {\n",
       "        vertical-align: middle;\n",
       "    }\n",
       "\n",
       "    .dataframe tbody tr th {\n",
       "        vertical-align: top;\n",
       "    }\n",
       "\n",
       "    .dataframe thead th {\n",
       "        text-align: right;\n",
       "    }\n",
       "</style>\n",
       "<table border=\"1\" class=\"dataframe\">\n",
       "  <thead>\n",
       "    <tr style=\"text-align: right;\">\n",
       "      <th></th>\n",
       "      <th>group</th>\n",
       "      <th>delay_nights</th>\n",
       "      <th>delay_time</th>\n",
       "      <th>gender</th>\n",
       "      <th>age</th>\n",
       "      <th>chronotype</th>\n",
       "      <th>bp_scale</th>\n",
       "      <th>motivation</th>\n",
       "      <th>daytime_sleepiness</th>\n",
       "      <th>self_reported_effectiveness</th>\n",
       "      <th>sleep_duration</th>\n",
       "    </tr>\n",
       "  </thead>\n",
       "  <tbody>\n",
       "    <tr>\n",
       "      <th>1</th>\n",
       "      <td>0</td>\n",
       "      <td>10.0</td>\n",
       "      <td>6030.0</td>\n",
       "      <td>2</td>\n",
       "      <td>20</td>\n",
       "      <td>7</td>\n",
       "      <td>6.11</td>\n",
       "      <td>4</td>\n",
       "      <td>17</td>\n",
       "      <td>4</td>\n",
       "      <td>31193.0</td>\n",
       "    </tr>\n",
       "    <tr>\n",
       "      <th>2</th>\n",
       "      <td>0</td>\n",
       "      <td>7.0</td>\n",
       "      <td>2494.0</td>\n",
       "      <td>2</td>\n",
       "      <td>25</td>\n",
       "      <td>5</td>\n",
       "      <td>5.22</td>\n",
       "      <td>4</td>\n",
       "      <td>21</td>\n",
       "      <td>2</td>\n",
       "      <td>27852.0</td>\n",
       "    </tr>\n",
       "    <tr>\n",
       "      <th>4</th>\n",
       "      <td>1</td>\n",
       "      <td>7.0</td>\n",
       "      <td>4149.0</td>\n",
       "      <td>2</td>\n",
       "      <td>30</td>\n",
       "      <td>1</td>\n",
       "      <td>6.67</td>\n",
       "      <td>5</td>\n",
       "      <td>14</td>\n",
       "      <td>5</td>\n",
       "      <td>30343.0</td>\n",
       "    </tr>\n",
       "    <tr>\n",
       "      <th>5</th>\n",
       "      <td>1</td>\n",
       "      <td>9.0</td>\n",
       "      <td>2620.0</td>\n",
       "      <td>2</td>\n",
       "      <td>27</td>\n",
       "      <td>5</td>\n",
       "      <td>2.67</td>\n",
       "      <td>6</td>\n",
       "      <td>12</td>\n",
       "      <td>6</td>\n",
       "      <td>32573.0</td>\n",
       "    </tr>\n",
       "    <tr>\n",
       "      <th>6</th>\n",
       "      <td>0</td>\n",
       "      <td>7.0</td>\n",
       "      <td>5417.0</td>\n",
       "      <td>1</td>\n",
       "      <td>27</td>\n",
       "      <td>6</td>\n",
       "      <td>5.11</td>\n",
       "      <td>6</td>\n",
       "      <td>14</td>\n",
       "      <td>3</td>\n",
       "      <td>29822.0</td>\n",
       "    </tr>\n",
       "    <tr>\n",
       "      <th>...</th>\n",
       "      <td>...</td>\n",
       "      <td>...</td>\n",
       "      <td>...</td>\n",
       "      <td>...</td>\n",
       "      <td>...</td>\n",
       "      <td>...</td>\n",
       "      <td>...</td>\n",
       "      <td>...</td>\n",
       "      <td>...</td>\n",
       "      <td>...</td>\n",
       "      <td>...</td>\n",
       "    </tr>\n",
       "    <tr>\n",
       "      <th>52</th>\n",
       "      <td>1</td>\n",
       "      <td>9.0</td>\n",
       "      <td>1947.0</td>\n",
       "      <td>1</td>\n",
       "      <td>18</td>\n",
       "      <td>7</td>\n",
       "      <td>5.56</td>\n",
       "      <td>3</td>\n",
       "      <td>11</td>\n",
       "      <td>3</td>\n",
       "      <td>29001.0</td>\n",
       "    </tr>\n",
       "    <tr>\n",
       "      <th>55</th>\n",
       "      <td>0</td>\n",
       "      <td>5.0</td>\n",
       "      <td>3672.0</td>\n",
       "      <td>1</td>\n",
       "      <td>26</td>\n",
       "      <td>4</td>\n",
       "      <td>5.00</td>\n",
       "      <td>2</td>\n",
       "      <td>15</td>\n",
       "      <td>1</td>\n",
       "      <td>26984.0</td>\n",
       "    </tr>\n",
       "    <tr>\n",
       "      <th>58</th>\n",
       "      <td>0</td>\n",
       "      <td>11.0</td>\n",
       "      <td>3622.0</td>\n",
       "      <td>1</td>\n",
       "      <td>35</td>\n",
       "      <td>7</td>\n",
       "      <td>6.33</td>\n",
       "      <td>6</td>\n",
       "      <td>12</td>\n",
       "      <td>2</td>\n",
       "      <td>28370.0</td>\n",
       "    </tr>\n",
       "    <tr>\n",
       "      <th>61</th>\n",
       "      <td>0</td>\n",
       "      <td>9.0</td>\n",
       "      <td>5707.0</td>\n",
       "      <td>2</td>\n",
       "      <td>39</td>\n",
       "      <td>7</td>\n",
       "      <td>5.89</td>\n",
       "      <td>5</td>\n",
       "      <td>19</td>\n",
       "      <td>1</td>\n",
       "      <td>30725.0</td>\n",
       "    </tr>\n",
       "    <tr>\n",
       "      <th>63</th>\n",
       "      <td>0</td>\n",
       "      <td>6.0</td>\n",
       "      <td>1090.0</td>\n",
       "      <td>2</td>\n",
       "      <td>59</td>\n",
       "      <td>6</td>\n",
       "      <td>4.00</td>\n",
       "      <td>5</td>\n",
       "      <td>15</td>\n",
       "      <td>3</td>\n",
       "      <td>31125.0</td>\n",
       "    </tr>\n",
       "  </tbody>\n",
       "</table>\n",
       "<p>38 rows × 11 columns</p>\n",
       "</div>"
      ],
      "text/plain": [
       "    group  delay_nights  delay_time  gender  age  chronotype  bp_scale  \\\n",
       "1       0          10.0      6030.0       2   20           7      6.11   \n",
       "2       0           7.0      2494.0       2   25           5      5.22   \n",
       "4       1           7.0      4149.0       2   30           1      6.67   \n",
       "5       1           9.0      2620.0       2   27           5      2.67   \n",
       "6       0           7.0      5417.0       1   27           6      5.11   \n",
       "..    ...           ...         ...     ...  ...         ...       ...   \n",
       "52      1           9.0      1947.0       1   18           7      5.56   \n",
       "55      0           5.0      3672.0       1   26           4      5.00   \n",
       "58      0          11.0      3622.0       1   35           7      6.33   \n",
       "61      0           9.0      5707.0       2   39           7      5.89   \n",
       "63      0           6.0      1090.0       2   59           6      4.00   \n",
       "\n",
       "    motivation  daytime_sleepiness  self_reported_effectiveness  \\\n",
       "1            4                  17                            4   \n",
       "2            4                  21                            2   \n",
       "4            5                  14                            5   \n",
       "5            6                  12                            6   \n",
       "6            6                  14                            3   \n",
       "..         ...                 ...                          ...   \n",
       "52           3                  11                            3   \n",
       "55           2                  15                            1   \n",
       "58           6                  12                            2   \n",
       "61           5                  19                            1   \n",
       "63           5                  15                            3   \n",
       "\n",
       "    sleep_duration  \n",
       "1          31193.0  \n",
       "2          27852.0  \n",
       "4          30343.0  \n",
       "5          32573.0  \n",
       "6          29822.0  \n",
       "..             ...  \n",
       "52         29001.0  \n",
       "55         26984.0  \n",
       "58         28370.0  \n",
       "61         30725.0  \n",
       "63         31125.0  \n",
       "\n",
       "[38 rows x 11 columns]"
      ]
     },
     "metadata": {},
     "output_type": "display_data"
    }
   ],
   "source": [
    "# Run this cell to correctly import the dataframe (and ignore the warnings)\n",
    "\n",
    "sleepdatafile   = 'data/hue/hue_week_3.csv'\n",
    "surveydatafile  = 'data/hue/hue_questionnaire.csv'\n",
    "mergedDf = read_data(sleepdatafile, surveydatafile)\n",
    "display(mergedDf)"
   ]
  },
  {
   "cell_type": "markdown",
   "id": "3e6ee1c4-4c0c-41cc-bc0c-56483c061505",
   "metadata": {
    "deletable": false,
    "editable": false,
    "nbgrader": {
     "cell_type": "markdown",
     "checksum": "5488af6cd961183dfbbf979ffcd41fcc",
     "grade": false,
     "grade_id": "Q1a-task",
     "locked": true,
     "schema_version": 3,
     "solution": false,
     "task": false
    },
    "tags": []
   },
   "source": [
    "## Correlation coefficients (5 points)\n",
    "\n",
    "Use the `scipy.stats` package and, respectively, the Pearson correlation test and the Kendall rank correlation test, to calculate the following correlation coefficients for the dataframe ``mergedDf`` defined above:\n",
    "\n",
    "- the Pearson correlation coefficient between bedtime procrastination scale ( `bp_scale`, a personality trait) and mean time spent delaying bedtime,    \n",
    "\n",
    "- the Pearson correlation coefficient between mean time spent delaying bedtime and daytime sleepiness,\n",
    "\n",
    "- the Kendall rank correlation coefficient between age and mean time spent delaying bedtime.\n",
    "\n",
    "Save them into the variables `r1`, `r2`, `tau` without any rounding. Save also the respective p-values into the variables `pvalue1`, `pvalue2`, `pvalue3` (also without any rounding)."
   ]
  },
  {
   "cell_type": "code",
   "execution_count": 5,
   "id": "abfcac9e-264a-4d4e-8936-aabe0970c064",
   "metadata": {
    "deletable": false,
    "nbgrader": {
     "cell_type": "code",
     "checksum": "c3d4d2d5e780af6c2b30bb98f7a623a9",
     "grade": false,
     "grade_id": "Q1a-code",
     "locked": false,
     "schema_version": 3,
     "solution": true,
     "task": false
    }
   },
   "outputs": [],
   "source": [
    "def calculate_correlations(mergedDf):\n",
    "    r1, pvalue1 = stats.pearsonr(mergedDf['bp_scale'], mergedDf['delay_time'])\n",
    "    r2, pvalue2 = stats.pearsonr(mergedDf['delay_time'], mergedDf['daytime_sleepiness'])\n",
    "    tau, pvalue3 = stats.kendalltau(mergedDf['age'], mergedDf['delay_time'])\n",
    "    return r1, pvalue1, r2, pvalue2, tau, pvalue3\n",
    "    \n",
    "# YOUR CODE HERE\n",
    "#raise NotImplementedError()"
   ]
  },
  {
   "cell_type": "code",
   "execution_count": 6,
   "id": "19d0914c-957b-44e8-ae72-83be63ba7b54",
   "metadata": {
    "deletable": false,
    "editable": false,
    "nbgrader": {
     "cell_type": "code",
     "checksum": "1015b973f1c74c697ce2691fcb7bb899",
     "grade": true,
     "grade_id": "Q1a-test",
     "locked": true,
     "points": 5,
     "schema_version": 3,
     "solution": false,
     "task": false
    },
    "tags": []
   },
   "outputs": [
    {
     "name": "stdout",
     "output_type": "stream",
     "text": [
      "Correlation tests:\n",
      "\n",
      "The value of the test statistic is: 0.5926593048409182\n",
      "The p-value is: 8.837285991335382e-05 \n",
      "\n",
      "The value of the test statistic is: 0.0821236747349586\n",
      "The p-value is: 0.6240188835001698 \n",
      "\n",
      "The value of the test statistic is: -0.08238035084305242\n",
      "The p-value is: 0.4725232598663073 \n",
      "\n"
     ]
    }
   ],
   "source": [
    "r1, pvalue1, r2, pvalue2, tau, pvalue3 = calculate_correlations(mergedDf)\n",
    "\n",
    "statistics = [r1,r2,tau]\n",
    "pvalues = [pvalue1, pvalue2, pvalue3]\n",
    "\n",
    "print(\"Correlation tests:\\n\")\n",
    "for (statistic, pvalue) in zip(statistics, pvalues):\n",
    "    print('The value of the test statistic is:',statistic)\n",
    "    print('The p-value is:', pvalue,'\\n')\n"
   ]
  },
  {
   "cell_type": "markdown",
   "id": "14d3b3d3-1a24-4f66-878d-8cdeae2bd43e",
   "metadata": {
    "deletable": false,
    "editable": false,
    "nbgrader": {
     "cell_type": "markdown",
     "checksum": "7bcdbaf8e13dccd098e50e0f8e9c0730",
     "grade": false,
     "grade_id": "Q1b-def",
     "locked": true,
     "schema_version": 3,
     "solution": false,
     "task": false
    },
    "tags": []
   },
   "source": [
    "## Significant differences (5 points)\n",
    "\n",
    "We keep analyzing the dataframe ``mergedDf`` defined above. Use the `scipy.stats` package to determine whether there are significant differences (at 5\\% significance level) between the experimental group and the control group in terms of:\n",
    "<br></li>\n",
    "<li>\n",
    "    the time participants spent in bed each night,   \n",
    "<br></li>\n",
    "<li>\n",
    "    the number of nights participants delayed their bedtime,\n",
    "<br></li>\n",
    "<li>\n",
    "    the mean time participants spent delaying their bedtime.\n",
    "</li>\n",
    "</ul> \n",
    "\n",
    "Use the t-test or the Wilcoxon rank-sum test to reach a conclusion and use knowledge gained in the courses Statistics and Statistical Data Analysis to determine which statistical test is appropriate. Save the conclusions - either the string `'significant difference'` or `'no significant difference'` - into the variables `diff1`, `diff2`, `diff3`.\n",
    "\n",
    "\\* Note that in this exercise you are not expected to explicitly motivate the choice of an appropriate test, but you will be in the final project."
   ]
  },
  {
   "cell_type": "code",
   "execution_count": 7,
   "id": "7215c01f-beae-4039-90e4-67f8ce6d3529",
   "metadata": {
    "deletable": false,
    "nbgrader": {
     "cell_type": "code",
     "checksum": "a6fbedc9996f0d56afcdda1d5b2f0d51",
     "grade": false,
     "grade_id": "Q1b-code",
     "locked": false,
     "schema_version": 3,
     "solution": true,
     "task": false
    },
    "tags": []
   },
   "outputs": [],
   "source": [
    "def perform_tests(mergedDf):\n",
    "    control_group = mergedDf[mergedDf['group']==0]\n",
    "    experimental_group = mergedDf[mergedDf['group']==1]\n",
    "    stat1, pvalue1 = stats.ttest_ind(experimental_group['sleep_duration'], control_group['sleep_duration'])\n",
    "    difference_1 = 'significant difference' if pvalue1 <=0.05 else 'no significant difference'\n",
    "    stat2, pvalue2 = stats.ranksums(experimental_group['delay_nights'], control_group['delay_nights'])\n",
    "    difference_2 = 'significant difference' if pvalue2 <=0.05 else 'no significant difference'\n",
    "    stat3, pvalue3 = stats.ranksums(experimental_group['delay_time'], control_group['delay_time'])\n",
    "    difference_3 = 'significant difference' if pvalue3 <=0.05 else 'no significant difference'\n",
    "    \n",
    "    return difference_1, difference_2, difference_3\n",
    "# YOUR CODE HERE\n",
    "#raise NotImplementedError()"
   ]
  },
  {
   "cell_type": "code",
   "execution_count": 8,
   "id": "60143b1b-98da-4bcf-8883-8567021fbc67",
   "metadata": {
    "deletable": false,
    "editable": false,
    "nbgrader": {
     "cell_type": "code",
     "checksum": "e9d480dfd8d0d904d8a0696101ad8bde",
     "grade": true,
     "grade_id": "Q1b-test",
     "locked": true,
     "points": 5,
     "schema_version": 3,
     "solution": false,
     "task": false
    },
    "tags": []
   },
   "outputs": [
    {
     "name": "stdout",
     "output_type": "stream",
     "text": [
      "The time participants spent in bed each night: no significant difference\n",
      "The number of nights participants delayed their bedtime: no significant difference\n",
      "The mean time participants spent delaying their bedtime: significant difference\n"
     ]
    }
   ],
   "source": [
    "diff1, diff2, diff3 = perform_tests(mergedDf) \n",
    "\n",
    "print('The time participants spent in bed each night:', diff1)\n",
    "print('The number of nights participants delayed their bedtime:', diff2)\n",
    "print('The mean time participants spent delaying their bedtime:', diff3)\n"
   ]
  },
  {
   "cell_type": "markdown",
   "id": "13e75ab0-f02c-44e6-9cec-0c08e1f1fba5",
   "metadata": {
    "deletable": false,
    "editable": false,
    "nbgrader": {
     "cell_type": "markdown",
     "checksum": "9d8dc9c4b19d8700a3f351e2ec88837b",
     "grade": false,
     "grade_id": "Q1c-def",
     "locked": true,
     "schema_version": 3,
     "solution": false,
     "task": false
    },
    "tags": []
   },
   "source": [
    "## Ordinary Least Squares regression (10 points)\n",
    "\n",
    "Also for this last question, you will use the dataframe ``mergedDf`` defined above. Use `statsmodels.api` to build a (OLS) regression model for `delay_time` on the predictors `age`, `bp_scale`, and  `chronotype` (in this order!). \n",
    "\n",
    "Return the coefficients and the conclusion on significance of the model. More specifically, into the variable `parameters` directly save the output of `*.params` applied to the model (without any rounding), and into the variable `conclusion` save the string 'significant' or 'not significant'.\n",
    "\n",
    "\\* Convince yourself that the basic diagnostics for this model are OK. Note that here you are not expected to explicitly check the diagnostics, but you will be in the final project."
   ]
  },
  {
   "cell_type": "code",
   "execution_count": 9,
   "id": "d3c72082-2690-4cdf-9c68-96c4525f8f19",
   "metadata": {
    "deletable": false,
    "nbgrader": {
     "cell_type": "code",
     "checksum": "e516cf25a8f44166b4bc9bdf0c8e13fd",
     "grade": false,
     "grade_id": "Q1c-code",
     "locked": false,
     "schema_version": 3,
     "solution": true,
     "task": false
    },
    "tags": []
   },
   "outputs": [],
   "source": [
    "def regression_analysis(mergedDf):\n",
    "    predictors_list = ['age', 'bp_scale','chronotype']\n",
    "    X=sm.add_constant(mergedDf[predictors_list])\n",
    "    y= mergedDf['delay_time']\n",
    "    model = sm.OLS(y, X).fit()\n",
    "    params= model.params\n",
    "    conclusion = 'significant' if model.f_pvalue <= 0.05 else 'not_significant'\n",
    "    return params, conclusion\n",
    "# YOUR CODE HERE\n",
    "#raise NotImplementedError()"
   ]
  },
  {
   "cell_type": "code",
   "execution_count": 10,
   "id": "d72eb642-faf7-46ef-9860-d3b27634855c",
   "metadata": {
    "deletable": false,
    "editable": false,
    "nbgrader": {
     "cell_type": "code",
     "checksum": "0bf669a45919c84036395357549a5e77",
     "grade": true,
     "grade_id": "Q1c-test",
     "locked": true,
     "points": 10,
     "schema_version": 3,
     "solution": false,
     "task": false
    },
    "tags": []
   },
   "outputs": [
    {
     "name": "stdout",
     "output_type": "stream",
     "text": [
      "The parameters of the model are:\n",
      "const        -1399.595480\n",
      "age            -25.178161\n",
      "bp_scale       882.064704\n",
      "chronotype      99.552661\n",
      "dtype: float64\n",
      "\n",
      "The model is significant\n"
     ]
    }
   ],
   "source": [
    "parameters, conclusion = regression_analysis(mergedDf)\n",
    "\n",
    "print('The parameters of the model are:')\n",
    "print(parameters)\n",
    "print('\\nThe model is', conclusion)\n"
   ]
  },
  {
   "cell_type": "markdown",
   "id": "748d09d7-5792-4b53-82e7-63c8703740af",
   "metadata": {
    "deletable": false,
    "editable": false,
    "nbgrader": {
     "cell_type": "markdown",
     "checksum": "5ccaaf286efef5b2defab1d2054b886d",
     "grade": false,
     "grade_id": "Q2-intro",
     "locked": true,
     "schema_version": 3,
     "solution": false,
     "task": false
    },
    "tags": []
   },
   "source": [
    "# Exercise 2: Classification SPAM vs. HAM (40 points)\n",
    "\n",
    "The goal of this exercise is to build a classifier that is able to recognize spam email. \"Ham\" is e-mail that is not spam. The email data is provided in the following dataframe:"
   ]
  },
  {
   "cell_type": "code",
   "execution_count": 11,
   "id": "4267570d-1c91-473e-ae70-9f47719092e0",
   "metadata": {
    "deletable": false,
    "editable": false,
    "nbgrader": {
     "cell_type": "code",
     "checksum": "5e5386d88dc6aade83959cc1ee528608",
     "grade": false,
     "grade_id": "Q2-import",
     "locked": true,
     "schema_version": 3,
     "solution": false,
     "task": false
    }
   },
   "outputs": [
    {
     "data": {
      "text/html": [
       "<div>\n",
       "<style scoped>\n",
       "    .dataframe tbody tr th:only-of-type {\n",
       "        vertical-align: middle;\n",
       "    }\n",
       "\n",
       "    .dataframe tbody tr th {\n",
       "        vertical-align: top;\n",
       "    }\n",
       "\n",
       "    .dataframe thead th {\n",
       "        text-align: right;\n",
       "    }\n",
       "</style>\n",
       "<table border=\"1\" class=\"dataframe\">\n",
       "  <thead>\n",
       "    <tr style=\"text-align: right;\">\n",
       "      <th></th>\n",
       "      <th>text</th>\n",
       "      <th>label</th>\n",
       "    </tr>\n",
       "  </thead>\n",
       "  <tbody>\n",
       "    <tr>\n",
       "      <th>0</th>\n",
       "      <td>Subject: anshuman shrivastava\\n sandeep : vinc...</td>\n",
       "      <td>0</td>\n",
       "    </tr>\n",
       "    <tr>\n",
       "      <th>1</th>\n",
       "      <td>Subject: asset sales chart\\n please see the at...</td>\n",
       "      <td>0</td>\n",
       "    </tr>\n",
       "    <tr>\n",
       "      <th>2</th>\n",
       "      <td>&gt;&gt;&gt;&gt;&gt; \"G\" == Gordon Mohr  writes:    G&gt; Gary L...</td>\n",
       "      <td>0</td>\n",
       "    </tr>\n",
       "    <tr>\n",
       "      <th>3</th>\n",
       "      <td>Subject: stockmarket smail - cap profiie\\n bis...</td>\n",
       "      <td>1</td>\n",
       "    </tr>\n",
       "    <tr>\n",
       "      <th>4</th>\n",
       "      <td>Subject: yukos oil\\n dear friend ,\\n i am mr o...</td>\n",
       "      <td>1</td>\n",
       "    </tr>\n",
       "  </tbody>\n",
       "</table>\n",
       "</div>"
      ],
      "text/plain": [
       "                                                text  label\n",
       "0  Subject: anshuman shrivastava\\n sandeep : vinc...      0\n",
       "1  Subject: asset sales chart\\n please see the at...      0\n",
       "2  >>>>> \"G\" == Gordon Mohr  writes:    G> Gary L...      0\n",
       "3  Subject: stockmarket smail - cap profiie\\n bis...      1\n",
       "4  Subject: yukos oil\\n dear friend ,\\n i am mr o...      1"
      ]
     },
     "execution_count": 11,
     "metadata": {},
     "output_type": "execute_result"
    }
   ],
   "source": [
    "df = pd.read_csv('data/emails.csv')\n",
    "df.head()"
   ]
  },
  {
   "cell_type": "markdown",
   "id": "9a11ec7d-315c-4fba-8329-ec10a53cb72c",
   "metadata": {
    "deletable": false,
    "editable": false,
    "nbgrader": {
     "cell_type": "markdown",
     "checksum": "c9c1d3c0c5e12177853f67809fbee62a",
     "grade": false,
     "grade_id": "Q2-text",
     "locked": true,
     "schema_version": 3,
     "solution": false,
     "task": false
    }
   },
   "source": [
    "The data contains two columns. The `text` column contains the email content and `label` contains the corresponding labels, i.e., whether the email is spam (1) or ham (0). In the following, we will use the variables `X` and `y` to denote the text features matrix and target vector, respectively.\n",
    "\n",
    "The goal is to implement any model of your choice that predicts whether a message is spam or ham.\n",
    "\n",
    "- You are free to choose any model, including random forests, support vector machines, etc. \n",
    "- Your model will be evaluated on a hidden test that is not included in the given data set, but shares the same characteristics. Therefore, if you want to obtain a high score on this hidden test set, you have to make sure to follow the best practices in training your model to prevent underfitting and overfitting.\n",
    "- The hidden test contains 1498 entries.\n",
    "- Your score is determined based on the F1 score on the hidden test set. To get non-zero points, your model should get an F1-score of at least **95%** on the hidden test. To get the maximum amount of points, your model should get an F1-score of **99%** or higher.\n",
    "- The training of your model should take no longer than **45 seconds**."
   ]
  },
  {
   "cell_type": "code",
   "execution_count": 12,
   "id": "694bd0b9-a122-4caa-81a0-0565cb8a1866",
   "metadata": {
    "deletable": false,
    "editable": false,
    "nbgrader": {
     "cell_type": "code",
     "checksum": "87a474fdbf93241282f4cb4c8c3412af",
     "grade": false,
     "grade_id": "Q2-import2",
     "locked": true,
     "schema_version": 3,
     "solution": false,
     "task": false
    }
   },
   "outputs": [],
   "source": [
    "X = df['text'].values\n",
    "y = df['label'].values"
   ]
  },
  {
   "cell_type": "code",
   "execution_count": 25,
   "id": "80e5bcfc-76dc-4452-98ae-a1a935b1a1a6",
   "metadata": {
    "deletable": false,
    "nbgrader": {
     "cell_type": "code",
     "checksum": "7b208232a375f5bc72f2faceb6675416",
     "grade": false,
     "grade_id": "Q2-code",
     "locked": false,
     "schema_version": 3,
     "solution": true,
     "task": false
    },
    "tags": []
   },
   "outputs": [],
   "source": [
    "from sklearn.pipeline import make_pipeline\n",
    "from sklearn.feature_extraction.text import CountVectorizer\n",
    "from sklearn.naive_bayes import MultinomialNB\n",
    "\n",
    "\n",
    "def best_spamham(X, y):\n",
    "    pipeline= make_pipeline(CountVectorizer(), MultinomialNB())\n",
    "    pipeline.fit(X,y)\n",
    "    return pipeline\n",
    "    \n",
    "# YOUR CODE HERE\n",
    "#raise NotImplementedError()"
   ]
  },
  {
   "cell_type": "code",
   "execution_count": 26,
   "id": "8c971432-ca77-4026-ab9b-823417d80ebf",
   "metadata": {
    "deletable": false,
    "editable": false,
    "nbgrader": {
     "cell_type": "code",
     "checksum": "69814048f997e57c858818d2a23ea764",
     "grade": true,
     "grade_id": "Q2-test",
     "locked": true,
     "points": 40,
     "schema_version": 3,
     "solution": false,
     "task": false
    },
    "tags": []
   },
   "outputs": [
    {
     "name": "stdout",
     "output_type": "stream",
     "text": [
      "Your model took 2.796 seconds to be trained.\n",
      "\n",
      "Evaluation for function best_spamham. Your F1 score is 0.9749 on the public test set.\n",
      "\n"
     ]
    }
   ],
   "source": [
    "# No test available; the code shows how your model will be evaluated\n",
    "\n",
    "from sklearn.metrics import f1_score\n",
    "from sklearn.model_selection import train_test_split\n",
    "import time\n",
    "\n",
    "t0 = time.perf_counter()\n",
    "X_train, X_test, y_train, y_test = train_test_split(X, y, test_size=0.2, random_state=42)\n",
    "best = best_spamham(X_train, y_train)\n",
    "predicted = best.predict(X_test)\n",
    "t1 = time.perf_counter()\n",
    "print(f'Your model took {t1-t0:.4} seconds to be trained.\\n')\n",
    "\n",
    "# The F1 score will be used to evaluate your score\n",
    "test_score = f1_score(y_test, predicted)\n",
    "print(f\"Evaluation for function best_spamham. Your F1 score is {test_score:.4} on the public test set.\\n\")\n"
   ]
  },
  {
   "cell_type": "markdown",
   "id": "1e079c26-81d0-4b8b-9dc2-5316ce470bb2",
   "metadata": {
    "deletable": false,
    "editable": false,
    "nbgrader": {
     "cell_type": "markdown",
     "checksum": "dd6e4471c0ed370ac2b038a06c79b682",
     "grade": false,
     "grade_id": "Q3",
     "locked": true,
     "schema_version": 3,
     "solution": false,
     "task": false
    },
    "tags": []
   },
   "source": [
    "# Exercise 3: Regression on Californian house prices (40 points)"
   ]
  },
  {
   "cell_type": "markdown",
   "id": "7eb9b2d0-0d16-42d5-865c-715bc309e75f",
   "metadata": {
    "deletable": false,
    "editable": false,
    "nbgrader": {
     "cell_type": "markdown",
     "checksum": "b8de434df71fbee833dcada834abc4b3",
     "grade": false,
     "grade_id": "Q3-text",
     "locked": true,
     "schema_version": 3,
     "solution": false,
     "task": false
    },
    "tags": []
   },
   "source": [
    "The goal of this exercise to apply regression to predict house prices in California. Here is a brief description of the data set:"
   ]
  },
  {
   "cell_type": "markdown",
   "id": "c2b40dee-ed28-46d6-9348-487d3967007b",
   "metadata": {
    "deletable": false,
    "editable": false,
    "nbgrader": {
     "cell_type": "markdown",
     "checksum": "4a7d7261e2907221bf71f85bcd746511",
     "grade": false,
     "grade_id": "Q3-description",
     "locked": true,
     "schema_version": 3,
     "solution": false,
     "task": false
    },
    "tags": []
   },
   "source": [
    "```\n",
    "California Housing dataset\n",
    "--------------------------\n",
    "\n",
    "**Data Set Characteristics:**\n",
    "\n",
    "    :Number of Attributes: 8 numeric, predictive attributes and the target\n",
    "\n",
    "    :Attribute Information:\n",
    "        - MedInc        median income in block group\n",
    "        - HouseAge      median house age in block group\n",
    "        - AveRooms      average number of rooms per household\n",
    "        - AveBedrms     average number of bedrooms per household\n",
    "        - Population    block group population\n",
    "        - AveOccup      average number of household members\n",
    "        - Latitude      block group latitude\n",
    "        - Longitude     block group longitude\n",
    "\n",
    "    :Missing Attribute Values: None\n",
    "\n",
    "This dataset was obtained from the StatLib repository.\n",
    "https://www.dcc.fc.up.pt/~ltorgo/Regression/cal_housing.html\n",
    "\n",
    "The target variable is the median house value for California districts,\n",
    "expressed in hundreds of thousands of dollars ($100,000).\n",
    "\n",
    "This dataset was derived from the 1990 U.S. census, using one row per census\n",
    "block group. A block group is the smallest geographical unit for which the U.S.\n",
    "Census Bureau publishes sample data (a block group typically has a population\n",
    "of 600 to 3,000 people).\n",
    "\n",
    "An household is a group of people residing within a home. Since the average\n",
    "number of rooms and bedrooms in this dataset are provided per household, these\n",
    "columns may take surpinsingly large values for block groups with few households\n",
    "and many empty houses, such as vacation resorts.\n",
    "```"
   ]
  },
  {
   "cell_type": "markdown",
   "id": "a0849577-4bf2-4e5d-9da8-a3a516f880ff",
   "metadata": {
    "deletable": false,
    "editable": false,
    "nbgrader": {
     "cell_type": "markdown",
     "checksum": "0626297c5ad0affd67538598a9fcb896",
     "grade": false,
     "grade_id": "Q3-text2",
     "locked": true,
     "schema_version": 3,
     "solution": false,
     "task": false
    },
    "tags": []
   },
   "source": [
    "Here is the dataframe of the housing prices."
   ]
  },
  {
   "cell_type": "code",
   "execution_count": 27,
   "id": "f6f066cc-c928-4cbd-b587-c5b8a7483667",
   "metadata": {
    "deletable": false,
    "editable": false,
    "nbgrader": {
     "cell_type": "code",
     "checksum": "b890e608f40137524a54d4bf9f8dd86c",
     "grade": false,
     "grade_id": "Q3-import",
     "locked": true,
     "schema_version": 3,
     "solution": false,
     "task": false
    }
   },
   "outputs": [
    {
     "data": {
      "text/html": [
       "<div>\n",
       "<style scoped>\n",
       "    .dataframe tbody tr th:only-of-type {\n",
       "        vertical-align: middle;\n",
       "    }\n",
       "\n",
       "    .dataframe tbody tr th {\n",
       "        vertical-align: top;\n",
       "    }\n",
       "\n",
       "    .dataframe thead th {\n",
       "        text-align: right;\n",
       "    }\n",
       "</style>\n",
       "<table border=\"1\" class=\"dataframe\">\n",
       "  <thead>\n",
       "    <tr style=\"text-align: right;\">\n",
       "      <th></th>\n",
       "      <th>MedInc</th>\n",
       "      <th>HouseAge</th>\n",
       "      <th>AveRooms</th>\n",
       "      <th>AveBedrms</th>\n",
       "      <th>Population</th>\n",
       "      <th>AveOccup</th>\n",
       "      <th>Latitude</th>\n",
       "      <th>Longitude</th>\n",
       "      <th>MedHouseVal</th>\n",
       "    </tr>\n",
       "  </thead>\n",
       "  <tbody>\n",
       "    <tr>\n",
       "      <th>13646</th>\n",
       "      <td>1.9234</td>\n",
       "      <td>43.0</td>\n",
       "      <td>4.821023</td>\n",
       "      <td>1.099432</td>\n",
       "      <td>1181.0</td>\n",
       "      <td>3.355114</td>\n",
       "      <td>34.08</td>\n",
       "      <td>-117.31</td>\n",
       "      <td>0.746</td>\n",
       "    </tr>\n",
       "    <tr>\n",
       "      <th>163</th>\n",
       "      <td>3.2250</td>\n",
       "      <td>46.0</td>\n",
       "      <td>4.326640</td>\n",
       "      <td>1.117805</td>\n",
       "      <td>1373.0</td>\n",
       "      <td>1.838019</td>\n",
       "      <td>37.81</td>\n",
       "      <td>-122.25</td>\n",
       "      <td>2.188</td>\n",
       "    </tr>\n",
       "    <tr>\n",
       "      <th>18240</th>\n",
       "      <td>2.5208</td>\n",
       "      <td>52.0</td>\n",
       "      <td>3.908163</td>\n",
       "      <td>1.035714</td>\n",
       "      <td>448.0</td>\n",
       "      <td>2.285714</td>\n",
       "      <td>37.40</td>\n",
       "      <td>-122.08</td>\n",
       "      <td>3.167</td>\n",
       "    </tr>\n",
       "    <tr>\n",
       "      <th>12061</th>\n",
       "      <td>5.1929</td>\n",
       "      <td>27.0</td>\n",
       "      <td>6.424460</td>\n",
       "      <td>1.032374</td>\n",
       "      <td>939.0</td>\n",
       "      <td>3.377698</td>\n",
       "      <td>33.87</td>\n",
       "      <td>-117.57</td>\n",
       "      <td>1.650</td>\n",
       "    </tr>\n",
       "    <tr>\n",
       "      <th>14177</th>\n",
       "      <td>3.0446</td>\n",
       "      <td>32.0</td>\n",
       "      <td>4.895075</td>\n",
       "      <td>1.002141</td>\n",
       "      <td>1741.0</td>\n",
       "      <td>3.728051</td>\n",
       "      <td>32.72</td>\n",
       "      <td>-117.08</td>\n",
       "      <td>1.019</td>\n",
       "    </tr>\n",
       "  </tbody>\n",
       "</table>\n",
       "</div>"
      ],
      "text/plain": [
       "       MedInc  HouseAge  AveRooms  AveBedrms  Population  AveOccup  Latitude  \\\n",
       "13646  1.9234      43.0  4.821023   1.099432      1181.0  3.355114     34.08   \n",
       "163    3.2250      46.0  4.326640   1.117805      1373.0  1.838019     37.81   \n",
       "18240  2.5208      52.0  3.908163   1.035714       448.0  2.285714     37.40   \n",
       "12061  5.1929      27.0  6.424460   1.032374       939.0  3.377698     33.87   \n",
       "14177  3.0446      32.0  4.895075   1.002141      1741.0  3.728051     32.72   \n",
       "\n",
       "       Longitude  MedHouseVal  \n",
       "13646    -117.31        0.746  \n",
       "163      -122.25        2.188  \n",
       "18240    -122.08        3.167  \n",
       "12061    -117.57        1.650  \n",
       "14177    -117.08        1.019  "
      ]
     },
     "execution_count": 27,
     "metadata": {},
     "output_type": "execute_result"
    }
   ],
   "source": [
    "housing = pd.read_csv('data/house_prices.csv', index_col=0)\n",
    "housing.head()"
   ]
  },
  {
   "cell_type": "markdown",
   "id": "0bc7ce95-8af1-4ad4-ad49-6e4506790a8b",
   "metadata": {
    "deletable": false,
    "editable": false,
    "nbgrader": {
     "cell_type": "markdown",
     "checksum": "1a5d53d1b10e74165c8c5cfc7a38f543",
     "grade": false,
     "grade_id": "Q3-text3",
     "locked": true,
     "schema_version": 3,
     "solution": false,
     "task": false
    },
    "tags": []
   },
   "source": [
    "`X` contains the features and `y` contains the target values."
   ]
  },
  {
   "cell_type": "code",
   "execution_count": 28,
   "id": "900cc39c-f4b5-4fc0-9352-92a684342877",
   "metadata": {
    "deletable": false,
    "editable": false,
    "nbgrader": {
     "cell_type": "code",
     "checksum": "819f825ed4657d0ec21d4e611e9e5fcf",
     "grade": false,
     "grade_id": "Q3-import2",
     "locked": true,
     "schema_version": 3,
     "solution": false,
     "task": false
    },
    "tags": []
   },
   "outputs": [],
   "source": [
    "X = housing.drop(['MedHouseVal'], axis=1).values\n",
    "y = housing['MedHouseVal'].values"
   ]
  },
  {
   "cell_type": "markdown",
   "id": "468ac3a7-8f1d-4ba2-b30a-6c2f3af6922d",
   "metadata": {
    "deletable": false,
    "editable": false,
    "nbgrader": {
     "cell_type": "markdown",
     "checksum": "655f0b900a4db5fe5e2e317f933b3bfb",
     "grade": false,
     "grade_id": "Q3-task",
     "locked": true,
     "schema_version": 3,
     "solution": false,
     "task": false
    },
    "tags": []
   },
   "source": [
    "The goal is to implement any model of your choice that predicts the house prices.\n",
    "- You are free to choose any model for this exercise.\n",
    "- Your model will be evaluated on a hidden test that is not included in the given data set, but shares the same characteristics. Therefore, to ensure a high score on this hidden test set, you should make sure to follow the best practices in validating your model (i.e., train, validation and test set) to avoid underfitting and overfitting.\n",
    "- The hidden test set contains 1640 entries.\n",
    "- Your score is determined based on the root mean square error (RMSE) score evaluated on the hidden test set. To get non-zero points, your model should obtain an RMSE lower than **0.7** on the hidden test. To get the maximum number of points, your model should obtain an RMSE of at most **0.29**.\n",
    "- The training of your model should take no longer than **45 seconds**."
   ]
  },
  {
   "cell_type": "code",
   "execution_count": 29,
   "id": "3efe1378",
   "metadata": {
    "deletable": false,
    "editable": false,
    "nbgrader": {
     "cell_type": "code",
     "checksum": "faabb73745a94107a5069b9821fe9350",
     "grade": false,
     "grade_id": "Q3-rmse",
     "locked": true,
     "schema_version": 3,
     "solution": false,
     "task": false
    },
    "tags": []
   },
   "outputs": [],
   "source": [
    "from sklearn.metrics import mean_squared_error\n",
    "\n",
    "def rmse(target, predicted):\n",
    "    \"\"\"\n",
    "    Return the root mean squared error between the target and predicted vector.\n",
    "    \"\"\"\n",
    "    return mean_squared_error(target, predicted, squared=False)"
   ]
  },
  {
   "cell_type": "code",
   "execution_count": 36,
   "id": "d5928865",
   "metadata": {
    "deletable": false,
    "nbgrader": {
     "cell_type": "code",
     "checksum": "cdf389a084d57180e863ea0f606b996b",
     "grade": false,
     "grade_id": "Q3-code",
     "locked": false,
     "schema_version": 3,
     "solution": true,
     "task": false
    },
    "tags": []
   },
   "outputs": [],
   "source": [
    "from sklearn.ensemble import RandomForestRegressor\n",
    "\n",
    "def best_model(X, y):\n",
    "\n",
    "    model=RandomForestRegressor()\n",
    "    model.fit(X,y)\n",
    "    return model\n",
    "\n",
    "# YOUR CODE HERE\n",
    "#raise NotImplementedError()"
   ]
  },
  {
   "cell_type": "code",
   "execution_count": 37,
   "id": "9bbc04e8",
   "metadata": {
    "deletable": false,
    "editable": false,
    "nbgrader": {
     "cell_type": "code",
     "checksum": "7ccf80cd846808313553d061e9770bbb",
     "grade": true,
     "grade_id": "Q3-test",
     "locked": true,
     "points": 40,
     "schema_version": 3,
     "solution": false,
     "task": false
    },
    "tags": []
   },
   "outputs": [
    {
     "name": "stdout",
     "output_type": "stream",
     "text": [
      "Your model took 12.17 seconds to be trained.\n",
      "\n",
      "Your RMSE score on public test set is 0.4956.\n"
     ]
    }
   ],
   "source": [
    "# No test available; the code shows how your model will be evaluated\n",
    "\n",
    "import time\n",
    "\n",
    "X_train, X_test, y_train, y_test = train_test_split(X, y, test_size=0.15, random_state=42)\n",
    "\n",
    "t0 = time.perf_counter()\n",
    "best = best_model(X_train, y_train)\n",
    "predicted = best.predict(X_test)\n",
    "t1 = time.perf_counter()\n",
    "print(f'Your model took {t1-t0:.4} seconds to be trained.\\n')\n",
    "\n",
    "# The RMSE will be used to evaluate your score\n",
    "result = rmse(y_test, predicted)\n",
    "print(f'Your RMSE score on public test set is {result:.4}.')\n"
   ]
  },
  {
   "cell_type": "code",
   "execution_count": null,
   "id": "2e0a7558",
   "metadata": {},
   "outputs": [],
   "source": []
  }
 ],
 "metadata": {
  "kernelspec": {
   "display_name": "Python 3 (ipykernel)",
   "language": "python",
   "name": "python3"
  },
  "language_info": {
   "codemirror_mode": {
    "name": "ipython",
    "version": 3
   },
   "file_extension": ".py",
   "mimetype": "text/x-python",
   "name": "python",
   "nbconvert_exporter": "python",
   "pygments_lexer": "ipython3",
   "version": "3.9.13"
  },
  "toc-autonumbering": true,
  "toc-showcode": false
 },
 "nbformat": 4,
 "nbformat_minor": 5
}
