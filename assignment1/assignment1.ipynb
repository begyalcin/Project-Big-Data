{
 "cells": [
  {
   "cell_type": "markdown",
   "metadata": {},
   "source": [
    "Before you turn this problem in, make sure everything runs as expected. First, **restart the kernel** (in the menubar, select Kernel$\\rightarrow$Restart) and then **run all cells** (in the menubar, select Cell$\\rightarrow$Run All).\n",
    "\n",
    "Make sure you fill in any place that says `YOUR CODE HERE` (you should of course delete `raise NotImplementedError()` which is there only as reminder), while not modifying the other cells (but you should run them to check the output you obtain). Please also fill your first and last name and your VU ID below:"
   ]
  },
  {
   "cell_type": "code",
   "execution_count": 1,
   "metadata": {
    "tags": []
   },
   "outputs": [],
   "source": [
    "STUDENT_FIRST_NAME = \"Begüm\" # e.g. \"John\" (no \"J\", no \"J.\", no \"John S.M.\")\n",
    "STUDENT_LAST_NAME = \"Yalçın\"  # e.g. \"Smith\"\n",
    "VU_ID_NUM = \"2797623\"          # e.g. \"2789012\""
   ]
  },
  {
   "cell_type": "markdown",
   "metadata": {},
   "source": [
    "---"
   ]
  },
  {
   "cell_type": "markdown",
   "metadata": {
    "deletable": false,
    "editable": false,
    "nbgrader": {
     "cell_type": "markdown",
     "checksum": "ab6953bf8f15f1757d75d5d4de50a528",
     "grade": false,
     "grade_id": "intro",
     "locked": true,
     "schema_version": 3,
     "solution": false,
     "task": false
    },
    "pycharm": {
     "name": "#%% md\n"
    }
   },
   "source": [
    "# Assignment 1\n",
    "\n",
    "The goal of this assignment is to make you familiar with Python's syntax, data types, and file I/O. This assignment is divided into 9 exercises, which are worth different amount of points (total is 100 points).\n",
    "\n",
    "We assume that the folder that you work in is the one obtained by unzipping the given ``assignment1.zip`` file and thus has the following structure. When working on your submission, please respect it, otherwise the autograder will give errors.\n",
    "\n",
    "<code>\n",
    "assignment1.ipynb\n",
    "data/...\n",
    "</code>\n",
    "\n",
    "\n",
    "## Important remarks\n",
    "- **Working together**: You are meant to work individually on the first three assignments. You can, of course, brainstorm ideas and discuss issues with your fellow students, but you are required to write your solutions individually. \n",
    "- **Plagiarism**: All your code will be automatically scanned for plagiarism. Furthermore, using the internet as a passive resource is allowed. This means that you can search for help there and partially copy code, as long as you explicitly acknowledge inside your Jupyter notebook which parts have been copied and from where. \n",
    "- **Performance**: You should optimize the computational performance of your functions. Specifically, when grading the assignments, we set a hard limit of 15 seconds for each cell execution. This should be sufficient to cover each of the test cases. Function calls that take longer than 15 seconds will not be awarded any points.\n",
    "- **Code styling**: Your implementation will not be checked for style. However, we do encourage you to practice good code styling. See, for example, https://docs.python-guide.org/writing/style/.\n",
    "- **Chronological run**: All outputs should be repeatable by doing one full “chronological” run of the notebook without any manual changes to code blocks, including parameters. (try it yourself by clicking ``Kernel -> Restart and run all``, which should give the result as handed in).\n",
    "- **Handing in**: Hand in the .ipynb file of your notebook on the [Canvas page for Assignment 1](https://canvas.vu.nl/courses/68046/assignments/262961) by *Sunday June 11th 23:59*. \n",
    "- **Other questions**: If you have doubts/questions about the assignments, feel free to ask them in [this discussion thread](https://canvas.vu.nl/courses/68046/discussion_topics/648148) so that everyone will be able to see them and our answers. "
   ]
  },
  {
   "cell_type": "code",
   "execution_count": 35,
   "metadata": {
    "ExecuteTime": {
     "end_time": "2022-05-05T01:23:07.478739Z",
     "start_time": "2022-05-05T01:23:07.476426Z"
    },
    "deletable": false,
    "editable": false,
    "nbgrader": {
     "cell_type": "code",
     "checksum": "5736970b67610e3955749259b8ebff09",
     "grade": false,
     "grade_id": "initialize",
     "locked": true,
     "schema_version": 3,
     "solution": false,
     "task": false
    },
    "pycharm": {
     "name": "#%%\n"
    },
    "tags": []
   },
   "outputs": [],
   "source": [
    "# Remember to run this cell before any of the following ones\n",
    "\n",
    "import random\n",
    "import numpy as np\n",
    "from numpy.testing import assert_equal"
   ]
  },
  {
   "cell_type": "markdown",
   "metadata": {
    "deletable": false,
    "editable": false,
    "nbgrader": {
     "cell_type": "markdown",
     "checksum": "debbcc52e797b8c76f809b64ab3d607d",
     "grade": false,
     "grade_id": "Q1-task",
     "locked": true,
     "schema_version": 3,
     "solution": false,
     "task": false
    },
    "tags": []
   },
   "source": [
    "## Exercise 1: Type specific operations (5 points)\n",
    "\n",
    "Write a function that performs operations depending on specific types of the input.\n",
    "- `bool`: return the negation\n",
    "- `int`: square the number and subtract 1\n",
    "- `float`: round the number to three decimal places\n",
    "- `complex`: return the difference between the real part and the imaginary part (for example, given the number $5 + 3 \\mathrm{i}$, the answer should be $5-3=2$)\n",
    "- `string`: return the palindrome string whose first half is the given string, e.g., 'abc' becomes 'abccba'\n",
    "- `list`: move the first element to the last, e.g., `[1, 2, 3]` -> `[2, 3, 1]`\n",
    "- `tuple`: replace the first element of the tuple with the last element, e.g., `(1, 'b', [3])` -> `([3], 'b', [3])`\n",
    "- `set`: remove all elements that are not integers or floats, e.g., `{'1', 2, 'c', 4.222, (5, 67)}` -> `{2, 4.222}`\n",
    "- `dict`: reverse all (key, value) pairs. If the value is not hashable, then remove the (key, value) pair. You may assume that all keys and values are unique.\n",
    "- For any other type, return `None`.\n",
    "\n",
    "Be aware that your function will be tested with inputs of length up to 50000 items."
   ]
  },
  {
   "cell_type": "code",
   "execution_count": 36,
   "metadata": {
    "deletable": false,
    "nbgrader": {
     "cell_type": "code",
     "checksum": "eada3cf0590ffbf12a57bd7c2cf57b04",
     "grade": false,
     "grade_id": "Q1-code",
     "locked": false,
     "schema_version": 3,
     "solution": true,
     "task": false
    },
    "tags": []
   },
   "outputs": [],
   "source": [
    "def operate(item):\n",
    "    if isinstance(item, bool):\n",
    "        return not item\n",
    "    elif isinstance(item, int):\n",
    "        return item**2 - 1\n",
    "    elif isinstance(item, float):\n",
    "        return round(item, 3)\n",
    "    elif isinstance(item, complex):\n",
    "        return item.real - item.imag\n",
    "    elif isinstance(item, str):\n",
    "        return item+ item[::-1]\n",
    "    elif isinstance(item, list):\n",
    "        return item[1:] +[item[0]]\n",
    "    elif isinstance(item, tuple):\n",
    "        return (item[-1],) + item[1:]\n",
    "    elif isinstance(item, set):\n",
    "        res = set()\n",
    "        for i in item:\n",
    "            if isinstance(i, (int, float)):\n",
    "                res.add(i)\n",
    "        return res\n",
    "    elif isinstance(item, dict):\n",
    "        new_dict = {}\n",
    "        for key, value in item.items():\n",
    "            try:\n",
    "                hash(value)\n",
    "                new_dict[value] =key       \n",
    "            except TypeError:\n",
    "                pass\n",
    "        return new_dict\n",
    "\n",
    "    else:\n",
    "        return None\n",
    "\n",
    "# YOUR CODE HERE\n",
    "#raise NotImplementedError()"
   ]
  },
  {
   "cell_type": "code",
   "execution_count": 37,
   "metadata": {
    "deletable": false,
    "editable": false,
    "nbgrader": {
     "cell_type": "code",
     "checksum": "abadbd4017d195d82a282f17637d087b",
     "grade": true,
     "grade_id": "Q1-test",
     "locked": true,
     "points": 5,
     "schema_version": 3,
     "solution": false,
     "task": false
    },
    "tags": []
   },
   "outputs": [],
   "source": [
    "# Test your function on some possible inputs\n",
    "\n",
    "assert_equal(operate(True), False)\n",
    "assert_equal(operate(99), 99**2-1)\n",
    "assert_equal(operate(0.987654321), 0.988)\n",
    "assert_equal(operate(0.9), 0.9)\n",
    "assert_equal(operate(complex(10, 4)), 6)\n",
    "assert_equal(operate(\"abc\"), \"abccba\")\n",
    "assert_equal(operate([1, 2, 3]), [2, 3, 1])\n",
    "assert_equal(operate((1, \"b\", [3])), ([3], \"b\", [3]))\n",
    "assert_equal(operate({\"1\", 2, \"c\", 4.222, (5, 67)}), {2, 4.222})\n",
    "assert_equal(operate({\"a\": 1, \"b\": [2], \"c\": (3,)}), {(3,): \"c\", 1: \"a\"})\n"
   ]
  },
  {
   "cell_type": "markdown",
   "metadata": {
    "deletable": false,
    "editable": false,
    "nbgrader": {
     "cell_type": "markdown",
     "checksum": "b4641e50c96fded620c528fdff27ca8d",
     "grade": false,
     "grade_id": "Q2-task",
     "locked": true,
     "schema_version": 3,
     "solution": false,
     "task": false
    },
    "pycharm": {
     "name": "#%% md\n"
    },
    "tags": []
   },
   "source": [
    "## Exercise 2: Coin flips streaks (5 points)\n",
    "\n",
    "Write a Python function that takes as input a single string of any length describing a sequence of coin flips with possible outcome head (``'H'``) or tail (``'T'``) and returns only the length of the longest coin flip streak. \n",
    "\n",
    "The function should return always an integer and, in particular, should return ``0`` if the string is empty. You can check the correctness of your function using some instances of strings provided below with the corresponding correct answers. \n",
    "\n",
    "Your function will be tested with string consisting of up to 1 million coin flips. To generate yourself longer strings of length ``l`` with probability of head equal to ``p`` (and tail then equal to ``1-p``), you can use the command \n",
    "\n",
    "```coin_flips = ''.join(random.choices(['H','T'], weights = [p,1-p], k = l))```\n",
    "\n",
    "If you do so, remember to use the command ```random.seed(number)``` to get reproducible results."
   ]
  },
  {
   "cell_type": "code",
   "execution_count": 38,
   "metadata": {
    "ExecuteTime": {
     "end_time": "2022-05-05T01:23:08.535335Z",
     "start_time": "2022-05-05T01:23:08.531249Z"
    },
    "deletable": false,
    "nbgrader": {
     "cell_type": "code",
     "checksum": "1577e12d2c5ac72592b4ed0ab64dd028",
     "grade": false,
     "grade_id": "Q2-code",
     "locked": false,
     "schema_version": 3,
     "solution": true,
     "task": false
    },
    "pycharm": {
     "name": "#%%\n"
    },
    "tags": []
   },
   "outputs": [],
   "source": [
    "def find_longest_streak(coin_flips):\n",
    "    longest = 1\n",
    "    current = 1\n",
    "    #check if empty\n",
    "    if len(coin_flips)==0:\n",
    "        return 0\n",
    "    for i in range(len(coin_flips)-1):\n",
    "        if coin_flips[i]== coin_flips[i-1]:\n",
    "            current=current+1\n",
    "            if current> longest:\n",
    "                longest = current #update longest\n",
    "        else:\n",
    "            current=1 # reset current \n",
    "        \n",
    "    return longest\n",
    "    \n",
    "#raise NotImplementedError()"
   ]
  },
  {
   "cell_type": "code",
   "execution_count": 39,
   "metadata": {
    "ExecuteTime": {
     "end_time": "2022-05-05T01:23:10.200782Z",
     "start_time": "2022-05-05T01:23:09.716172Z"
    },
    "deletable": false,
    "editable": false,
    "nbgrader": {
     "cell_type": "code",
     "checksum": "c5fdad492948114d8fa0cdfd63125811",
     "grade": true,
     "grade_id": "Q2-test",
     "locked": true,
     "points": 5,
     "schema_version": 3,
     "solution": false,
     "task": false
    },
    "pycharm": {
     "name": "#%%\n"
    },
    "tags": []
   },
   "outputs": [],
   "source": [
    "# Test your function on some possible coin flip sequences\n",
    "\n",
    "assert_equal(find_longest_streak(\"\"), 0)\n",
    "assert_equal(find_longest_streak(\"T\"), 1)\n",
    "assert_equal(find_longest_streak(\"HTTHT\"), 2)\n",
    "assert_equal(find_longest_streak(\"TTHTTTHHTHHH\"), 3)\n",
    "assert_equal(find_longest_streak(\"HTHHTTTHTHTHHHTTHHHHHHTHTTTHHTHHHTHTHTHTTTHHHHHTHTHTTH\"),6)\n"
   ]
  },
  {
   "cell_type": "markdown",
   "metadata": {
    "deletable": false,
    "editable": false,
    "nbgrader": {
     "cell_type": "markdown",
     "checksum": "3d602b637315638d58ee68e828b9050e",
     "grade": false,
     "grade_id": "Q3-task",
     "locked": true,
     "schema_version": 3,
     "solution": false,
     "task": false
    },
    "tags": []
   },
   "source": [
    "## Exercise 3: parsing unique words in a text (5 points)\n",
    "\n",
    "Write a function that takes a .txt file as input and returns the list of unique words contained in that text. Note that:\n",
    "\n",
    "- Ignore capitalized letters, namely if a words appears both capitalized (e.g., ``'Until'``) and not capitalized (e.g., ``'until'``), it should appear only once in the final unique word list;\n",
    "- The text might appear in various paragraphs separated by new lines and/or have empty lines;\n",
    "- The text has punctuation, which your function should ignore. Specifically, you should ignore all (and only) the punctuation returned by ``string.punctuation``\n",
    "- Related to the previous point, you can assume the text has **no abbreviations** (e.g., *don't*), no **English possessive** (e.g., *John's*) and no **hypened words** (e.g., *full-scale*)\n",
    "- Numbers should be processed according to the above rules (regardless of whether they appear in time/date/percentages/decimals). For instance, processing the text ``On June 7th, at 9:00am`` should return the unique words ``['on','june','7th','at','900am']``.\n",
    "\n",
    "Note that you can use the Python `string` module (imported below), but *no* other packages for this exercise."
   ]
  },
  {
   "cell_type": "code",
   "execution_count": 40,
   "metadata": {
    "deletable": false,
    "nbgrader": {
     "cell_type": "code",
     "checksum": "ef2e9c46b03a6d948a9f4868866d3ffa",
     "grade": false,
     "grade_id": "Q3-code",
     "locked": false,
     "schema_version": 3,
     "solution": true,
     "task": false
    },
    "tags": []
   },
   "outputs": [],
   "source": [
    "import string\n",
    "\n",
    "def unique_words_parser(filename):\n",
    "    set_words = set()\n",
    "    try:\n",
    "        with open(filename, \"r\") as f:           \n",
    "            content= f.read()\n",
    "            # remove punctuation\n",
    "            for punctuation in string.punctuation:\n",
    "                content = content.replace(punctuation, \"\")\n",
    "            words = content.split()\n",
    "            for word in words:\n",
    "                word= word.lower() #lowercase\n",
    "                word = word.strip() #strip \n",
    "                set_words.add(word)\n",
    "        return list(set_words) #convert set to list \n",
    "    except FileNotFoundError:\n",
    "        print(\"File not found.\")\n",
    "        return None \n",
    "\n",
    "#raise NotImplementedError()"
   ]
  },
  {
   "cell_type": "code",
   "execution_count": 41,
   "metadata": {
    "deletable": false,
    "editable": false,
    "nbgrader": {
     "cell_type": "code",
     "checksum": "9b8c0fe6c542778995a9c147d7376306",
     "grade": true,
     "grade_id": "Q4-test",
     "locked": true,
     "points": 5,
     "schema_version": 3,
     "solution": false,
     "task": false
    },
    "tags": []
   },
   "outputs": [],
   "source": [
    "# Test your function on some possible input files. Note that only the length of the returned word list is checked.\n",
    "# The autograder, however, will check the exact word list.\n",
    "\n",
    "assert_equal(len(unique_words_parser(\"data/text_input0.txt\")), 85)\n",
    "assert_equal(len(unique_words_parser(\"data/text_input1.txt\")), 149)\n"
   ]
  },
  {
   "cell_type": "markdown",
   "metadata": {
    "deletable": false,
    "editable": false,
    "nbgrader": {
     "cell_type": "markdown",
     "checksum": "6c496b3189f1b13732475d4b12b73fcc",
     "grade": false,
     "grade_id": "Q4a-task",
     "locked": true,
     "schema_version": 3,
     "solution": false,
     "task": false
    },
    "tags": []
   },
   "source": [
    "## Exercise 4: Scrabble (15 points)\n",
    "\n",
    "### Part A (5 points)\n",
    "Given a list ``letters`` of (possibly repeated) available letters, write a function should return a list with:\n",
    "- *the longest word* that can be formed using the letters in the list ``letters`` that is a valid Scrabble word, and\n",
    "- *its length* (that is, the number of its letters).\n",
    "\n",
    "If there are multiple words with the same length, the function returns the **last** one in alphabetical order. If there are no words that can be formed using the letters in the list, the function returns the empty string and its length. The list of all admissible Scrabble words is provided in a csv file whose ``filename`` should also be passed as first argument. \n",
    "\n",
    "Your function will be tested with list of letters of size up to 50 and on different dictionary .csv files, not necessarily alphabetically sorted. Your function should not edit the input .csv file nor create any other file. The provided tests all use the file ``data/dictionary.csv``, which contains all admissible English Scrabble words.\n",
    "\n",
    "You can use the package ``csv`` (imported below) but you cannot import any other package."
   ]
  },
  {
   "cell_type": "code",
   "execution_count": 42,
   "metadata": {
    "deletable": false,
    "nbgrader": {
     "cell_type": "code",
     "checksum": "d675d86cb1074a351c9e5f913943caf5",
     "grade": false,
     "grade_id": "Q4a-code",
     "locked": false,
     "schema_version": 3,
     "solution": true,
     "task": false
    },
    "tags": []
   },
   "outputs": [],
   "source": [
    "import csv\n",
    "\n",
    "def find_longest_word(filename, letters):\n",
    "    longest_word = \"\"\n",
    "    length = 0\n",
    "\n",
    "    with open(filename, 'r') as f:\n",
    "        csv_file = csv.reader(f)\n",
    "        for row in csv_file:\n",
    "            is_valid = True\n",
    "            word = row[0]   \n",
    "            for letter in word:\n",
    "                # if a word occurs more than letters it is not valid \n",
    "                if word.count(letter) >letters.count(letter):\n",
    "                    is_valid = False\n",
    "                    break\n",
    "            if is_valid:\n",
    "                # check if word şs longer than longest\n",
    "                if len(word) > length or (len(word) == length and word > longest_word):\n",
    "                    longest_word = word\n",
    "                    length = len(word)\n",
    "    return longest_word, length\n",
    "    \n",
    "# YOUR CODE HERE\n",
    "#raise NotImplementedError()"
   ]
  },
  {
   "cell_type": "code",
   "execution_count": 43,
   "metadata": {
    "deletable": false,
    "editable": false,
    "nbgrader": {
     "cell_type": "code",
     "checksum": "a85b254413ad14efde1f026ec15530fe",
     "grade": true,
     "grade_id": "Q4a-test",
     "locked": true,
     "points": 5,
     "schema_version": 3,
     "solution": false,
     "task": false
    },
    "tags": []
   },
   "outputs": [],
   "source": [
    "# Test your function on a few possible inputs\n",
    "\n",
    "filename = \"data/dictionary.csv\"\n",
    "assert_equal(find_longest_word(filename, []), (\"\", 0))\n",
    "assert_equal(find_longest_word(filename, [\"a\", \"a\", \"m\", \"m\", \"m\", \"n\", \"w\", \"i\", \"n\"]), (\"manna\", 5))\n",
    "assert_equal(find_longest_word(filename, [\"q\", \"z\", \"i\", \"u\", \"k\", \"l\", \"e\", \"a\", \"y\"]), ('quaylike', 8))\n",
    "assert_equal(find_longest_word(filename, [\"x\", \"l\", \"f\", \"d\", \"n\", \"z\", \"w\"]), (\"\", 0))\n",
    "assert_equal(find_longest_word(filename, [\"w\", \"e\", \"a\", \"e\", \"t\", \"h\", \"l\", \"z\"]), ('wealth', 6))\n",
    "assert_equal(find_longest_word(filename, [\"q\", \"l\", \"d\", \"f\", \"c\", \"o\", \"a\", \"l\", \"m\", \"n\", \"w\", \"l\", \"o\", \"o\", \"n\"]), (\"monoclonal\", 10))\n"
   ]
  },
  {
   "cell_type": "markdown",
   "metadata": {
    "deletable": false,
    "editable": false,
    "nbgrader": {
     "cell_type": "markdown",
     "checksum": "0dae7c5e7035e4bf4246c762b9879cde",
     "grade": false,
     "grade_id": "Q4b-task",
     "locked": true,
     "schema_version": 3,
     "solution": false,
     "task": false
    },
    "tags": []
   },
   "source": [
    "### Part B (10 points)\n",
    "\n",
    "Given a list ``letters`` of (possibly repeated) available letters, write a function should return a list with:\n",
    "- *the most valuable word* that can be formed using the letters in the list ``letters`` that is a valid Scrabble word, and\n",
    "- *its value*.\n",
    "\n",
    "The value of a word is equal to the sum of the values of its letters. The value of each letter is given by a dictionary ``letter_values``, which should be passed as second argument to the function. \n",
    "\n",
    "If there are multiple words with the same value, the function returns the **first** one in alphabetical order. If there are no words that can be formed using the letters in the list, the function returns the empty string and its length. The list of all admissible Scrabble words is provided in a csv file whose ``filename`` should also be passed as first argument. \n",
    "\n",
    "Your function will be tested with list of letters of size up to 20 and on different dictionary .csv files, not necessarily alphabetically sorted. You can assume the words in the dictionary are all lowercase. Your function should not edit the input .csv file nor create any other file. You can use the packages ``csv`` but you cannot import any other package."
   ]
  },
  {
   "cell_type": "code",
   "execution_count": 44,
   "metadata": {
    "deletable": false,
    "nbgrader": {
     "cell_type": "code",
     "checksum": "961061ff8ee02cff86aaeee34f8d5aee",
     "grade": false,
     "grade_id": "Q4b-code",
     "locked": false,
     "schema_version": 3,
     "solution": true,
     "task": false
    },
    "tags": []
   },
   "outputs": [],
   "source": [
    "def find_most_valuable_word(filename, letters, letter_values):\n",
    "    most_valuable_word = \"\"\n",
    "    valuable_value = 0\n",
    "    with open(filename, 'r') as f:\n",
    "        csv_file = csv.reader(f)\n",
    "        for row in csv_file:\n",
    "            word = row[0]\n",
    "            # check if word can be formed \n",
    "            if len(word) <= len(letters):\n",
    "                is_valid = True\n",
    "                for letter in word:\n",
    "                    # if a word occurs more than letters it is not valid \n",
    "                    if word.count(letter) >letters.count(letter):\n",
    "                        is_valid = False\n",
    "                        break\n",
    "                if is_valid:\n",
    "                    word_value = 0\n",
    "                    for letter in word:\n",
    "                        # sum values of letters \n",
    "                        word_value += letter_values.get(letter, 0)\n",
    "                    # check if word şs more valuable  than most valuable\n",
    "                    if word_value > valuable_value or (word < most_valuable_word and word_value == valuable_value):\n",
    "                        most_valuable_word = word\n",
    "                        valuable_value = word_value\n",
    "\n",
    "    return most_valuable_word, valuable_value\n",
    "# YOUR CODE HERE\n",
    "#raise NotImplementedError()"
   ]
  },
  {
   "cell_type": "code",
   "execution_count": 45,
   "metadata": {
    "deletable": false,
    "editable": false,
    "nbgrader": {
     "cell_type": "code",
     "checksum": "d48687b536f84e907b14e2a41908d5fc",
     "grade": true,
     "grade_id": "Q4b-test",
     "locked": true,
     "points": 10,
     "schema_version": 3,
     "solution": false,
     "task": false
    },
    "tags": []
   },
   "outputs": [],
   "source": [
    "# Test your function on a few possible inputs\n",
    "\n",
    "filename = \"data/dictionary.csv\"\n",
    "letter_values = {\n",
    "    \"a\": 1, \"b\": 3, \"c\": 3, \"d\": 2, \"e\": 1, \"f\": 4, \"g\": 2, \"h\": 4,\n",
    "    \"i\": 1, \"j\": 8, \"k\": 5, \"l\": 1, \"m\": 3, \"n\": 1, \"o\": 1, \"p\": 3,\n",
    "    \"q\": 10, \"r\": 1, \"s\": 1, \"t\": 1, \"u\": 1, \"v\": 4, \"w\": 4, \"x\": 8,\n",
    "    \"y\": 4, \"z\": 10\n",
    "}\n",
    "\n",
    "assert_equal(find_most_valuable_word(filename, [], letter_values), (\"\", 0))\n",
    "assert_equal(find_most_valuable_word(filename, [\"a\", \"a\", \"m\", \"m\", \"m\", \"n\", \"w\", \"i\", \"n\"], letter_values), (\"mamma\", 11))\n",
    "assert_equal(find_most_valuable_word(filename, [\"q\", \"z\", \"i\", \"u\", \"k\", \"l\", \"e\", \"a\", \"y\"], letter_values), ('queazy', 27))\n",
    "assert_equal(find_most_valuable_word(filename, [\"x\", \"l\", \"f\", \"d\", \"n\", \"z\", \"w\"], letter_values), (\"\", 0))\n",
    "assert_equal(find_most_valuable_word(filename, [\"w\", \"e\", \"a\", \"e\", \"t\", \"h\", \"l\", \"z\"], letter_values), ('hazel', 17))\n",
    "assert_equal(find_most_valuable_word(filename, [\"q\", \"l\", \"d\", \"f\", \"c\", \"o\", \"a\", \"l\", \"m\", \"n\", \"w\", \"l\", \"o\", \"o\", \"n\"], letter_values), ('downfall', 15))\n"
   ]
  },
  {
   "cell_type": "markdown",
   "metadata": {
    "deletable": false,
    "editable": false,
    "nbgrader": {
     "cell_type": "markdown",
     "checksum": "b2cf2d73ce2060f1439aec33d68ae265",
     "grade": false,
     "grade_id": "Q5-task",
     "locked": true,
     "schema_version": 3,
     "solution": false,
     "task": false
    },
    "tags": []
   },
   "source": [
    "## Exercise 5: Nasty numbers (10 points)\n",
    "\n",
    "A positive integer is said to be **nasty** if it has a prime number of ones in its binary representation. Write a Python function with two arguments, two nonnegative integers ``a`` and ``b``, the second of which has to be optional.\n",
    "- If only ``a`` is provided, the function should return the list of all nasty numbers between ``0`` and ``a`` (included).\n",
    "- If both ``a`` and ``b`` are provided, the function should return the list of all nasty numbers between them (both included), regardless if $a\\leq b$ or $a>b$.\n",
    "\n",
    "Note that you can use the Python `math` module (imported below), but *no* other packages for this exercise."
   ]
  },
  {
   "cell_type": "code",
   "execution_count": 46,
   "metadata": {
    "deletable": false,
    "nbgrader": {
     "cell_type": "code",
     "checksum": "5cfcf63ad4918f97c4df816c2234101f",
     "grade": false,
     "grade_id": "Q5-code",
     "locked": false,
     "schema_version": 3,
     "solution": true,
     "task": false
    },
    "tags": []
   },
   "outputs": [],
   "source": [
    "import math\n",
    "\n",
    "def check_prime(n):\n",
    "    if n<2:\n",
    "        return False\n",
    "    if n==2:\n",
    "        return True\n",
    "    root = int(math.isqrt(n))\n",
    "    for i in range(2, root+1):\n",
    "        if n%i==0:\n",
    "            return False\n",
    "    return True\n",
    "\n",
    "def nasty_numbers(a, b = None):\n",
    "    nasty_numbers = []\n",
    "    if b is None:\n",
    "        first = 0\n",
    "        last = a\n",
    "    else:\n",
    "        first = min(a,b)\n",
    "        last = max(a,b)\n",
    "    for i in range(first, last+ 1):\n",
    "        # convert to binary representation\n",
    "        binary = bin(i)[2:]\n",
    "        # count occurences of binary \n",
    "        cnt = binary.count(\"1\")\n",
    "        # check if count is prime \n",
    "        if check_prime(cnt):\n",
    "            nasty_numbers.append(i)\n",
    "\n",
    "    return nasty_numbers\n",
    "   \n",
    "#raise NotImplementedError()"
   ]
  },
  {
   "cell_type": "code",
   "execution_count": 47,
   "metadata": {
    "deletable": false,
    "editable": false,
    "nbgrader": {
     "cell_type": "code",
     "checksum": "bbbffcbf1cae016c4d95627b159b31a7",
     "grade": true,
     "grade_id": "Q5-test",
     "locked": true,
     "points": 10,
     "schema_version": 3,
     "solution": false,
     "task": false
    },
    "tags": []
   },
   "outputs": [],
   "source": [
    "# Test your function on some possible input files. \n",
    "\n",
    "assert_equal(nasty_numbers(4,11), [5, 6, 7, 9, 10, 11])\n",
    "assert_equal(nasty_numbers(9), [3, 5, 6, 7, 9])\n",
    "assert_equal(nasty_numbers(23,14), [14, 17, 18, 19, 20, 21, 22])\n"
   ]
  },
  {
   "cell_type": "markdown",
   "metadata": {
    "deletable": false,
    "editable": false,
    "nbgrader": {
     "cell_type": "markdown",
     "checksum": "b8e34aabaad9ac310b3206707c6fd823",
     "grade": false,
     "grade_id": "Q6-task",
     "locked": true,
     "schema_version": 3,
     "solution": false,
     "task": false
    },
    "tags": []
   },
   "source": [
    "## Exercise 6: Light choreography (15 points)\n",
    "\n",
    "For a light art festival, you decide to create a choreography with one million light bulbs on a $1000 \\times 1000$ grid.\n",
    "\n",
    "The rows and columns are both numbered from 0 to 999 and each light bulb is uniquely identified by a pair $r,c$, where $r$ is the row and $c$ is column number where the light bulb lies. In particular the light bulbs at each of the four corner are at 0,0, 0,999, 999,999, and 999,0. "
   ]
  },
  {
   "cell_type": "markdown",
   "metadata": {
    "deletable": false,
    "editable": false,
    "nbgrader": {
     "cell_type": "markdown",
     "checksum": "5e3ab49e49f5a14a70db47ac8b40585b",
     "grade": false,
     "grade_id": "Q6a-task",
     "locked": true,
     "schema_version": 3,
     "solution": false,
     "task": false
    },
    "tags": []
   },
   "source": [
    "### Part A (5 points)\n",
    "\n",
    "The choreography starts with all light bulbs turned off and consists of a set of consecutive instructions describing whether to ``turn on``, ``turn off``, or ``toggle`` various inclusive ranges given as coordinate pairs. Each coordinate pair represents opposite corners of a rectangle, inclusive; a coordinate pair like 0,0 through 2,2 therefore refers to 9 light bulbs in a 3x3 square. \n",
    "\n",
    "For example:\n",
    "- ``turn on 0,0 through 999,999`` would turn on (or leave on) every light bulb.\n",
    "- ``toggle 0,0 through 999,0`` would toggle the first line of 1000 light bulbs, turning off the ones that were on, and turning on the ones that were off.\n",
    "- ``turn off 499,499 through 500,500`` would turn off (or leave off) the middle four light bulbs.\n",
    "\n",
    "Write a Python function that takes as input a .txt file with a list of instructions (with only a single instruction per row) and returns the number of light bulbs that are turned on after executing all the instructions.\n",
    "\n",
    "Note that you can use the Python `numpy` module (imported above), but *no* other packages for this exercise."
   ]
  },
  {
   "cell_type": "code",
   "execution_count": 48,
   "metadata": {
    "deletable": false,
    "nbgrader": {
     "cell_type": "code",
     "checksum": "a4674a9aa901f0ef313a20fefc3d198b",
     "grade": false,
     "grade_id": "Q6a-code",
     "locked": false,
     "schema_version": 3,
     "solution": true,
     "task": false
    },
    "tags": []
   },
   "outputs": [],
   "source": [
    "import numpy as np\n",
    "\n",
    "def do_instruction(line, grid):\n",
    "    splitted = line.strip().split()\n",
    "    # get the mode \n",
    "    mode = splitted[0] if splitted[0] != 'turn' else splitted[1]\n",
    "    # get start and end from splitted parts\n",
    "    start, _, end = splitted[-3:]\n",
    "    firstx, firsty = map(int, start.split(','))\n",
    "    lastx, lasty = map(int, end.split(','))\n",
    "    \n",
    "    # mode cases \n",
    "    if mode== 'on':\n",
    "        grid[firstx:lastx + 1, firsty:lasty+1] =True\n",
    "    elif mode == 'off':\n",
    "        grid[firstx:lastx + 1, firsty:lasty+1] = False\n",
    "    elif mode == 'toggle':\n",
    "        grid[firstx:lastx + 1, firsty:lasty+1] = np.logical_not(grid[firstx:lastx + 1, firsty:lasty+1])\n",
    "    return grid\n",
    "\n",
    "def artlight_partA(filename):    \n",
    "    grid = np.zeros((1000, 1000), dtype=bool)\n",
    "    with open(filename, 'r') as f:\n",
    "        for line in f:\n",
    "            grid = do_instruction(line, grid)\n",
    "    return np.sum(grid)\n",
    "\n",
    "# YOUR CODE HERE\n",
    "#raise NotImplementedError()"
   ]
  },
  {
   "cell_type": "code",
   "execution_count": 49,
   "metadata": {
    "deletable": false,
    "editable": false,
    "nbgrader": {
     "cell_type": "code",
     "checksum": "fd70d30687a5f468f952c567517afb73",
     "grade": true,
     "grade_id": "Q6a-test",
     "locked": true,
     "points": 5,
     "schema_version": 3,
     "solution": false,
     "task": false
    },
    "tags": []
   },
   "outputs": [],
   "source": [
    "# Test your function on some possible input files. \n",
    "\n",
    "assert_equal(artlight_partA(\"data/lights_0.txt\"), 134)\n",
    "assert_equal(artlight_partA(\"data/lights_1.txt\"), 741352)\n",
    "assert_equal(artlight_partA(\"data/lights_2.txt\"), 265609)\n"
   ]
  },
  {
   "cell_type": "markdown",
   "metadata": {
    "deletable": false,
    "editable": false,
    "nbgrader": {
     "cell_type": "markdown",
     "checksum": "f03e832c7e4866defb588cc6056dbc42",
     "grade": false,
     "grade_id": "Q6b-task",
     "locked": true,
     "schema_version": 3,
     "solution": false,
     "task": false
    },
    "tags": []
   },
   "source": [
    "### Part B (10 points)\n",
    "\n",
    "You got the choreography instructions wrong. Each of the light bulb has individual brightness controls, with the brightness being either zero or a positive integer. At the begining of the choreography, the light bulbs all start at zero brightness.\n",
    "\n",
    "- The command ``turn on`` actually means that you should increase the brightness of those light bulbs by $1$.\n",
    "- The command ``turn off`` actually means that you should decrease the brightness of those light bulbs by $1$, to a minimum of $0$.\n",
    "- The command ``toggle`` actually means that you should increase the brightness of those light bulbs by $2$.\n",
    "\n",
    "For example:\n",
    "\n",
    "- ``turn on 0,0 through 0,0`` would increase the total brightness by $1$.\n",
    "- ``toggle 0,0 through 999,999`` would increase the total brightness by $2000000$.\n",
    "\n",
    "Write a Python function that takes as input a .txt file with a list of instructions (with only a single instruction per row) and returns the total brightness of all light bulbs after executing all the instructions."
   ]
  },
  {
   "cell_type": "code",
   "execution_count": 50,
   "metadata": {
    "deletable": false,
    "nbgrader": {
     "cell_type": "code",
     "checksum": "4d987fb277020f89215e183f4cfad900",
     "grade": false,
     "grade_id": "Q6b-code",
     "locked": false,
     "schema_version": 3,
     "solution": true,
     "task": false
    },
    "tags": []
   },
   "outputs": [],
   "source": [
    "def do_instruction(instructions, grid):\n",
    "    for instruction in instructions:\n",
    "        splitted = instruction.strip().split()\n",
    "        first_splitted = splitted[0]\n",
    "        mode = splitted[1]    \n",
    "        # check if first part toggle or turn \n",
    "        if first_splitted == 'turn':\n",
    "            # start and end coordinates \n",
    "            firstx, firsty = map(int, splitted[2].split(','))\n",
    "            lastx, lasty = map(int, splitted[4].split(','))\n",
    "            # apply on or off\n",
    "            if mode == 'on':\n",
    "                grid[firstx:lastx + 1, firsty:lasty+1] += 1\n",
    "            elif mode == 'off':\n",
    "                grid[firstx:lastx + 1, firsty:lasty+1] = np.maximum(grid[firstx:lastx + 1, firsty:lasty+1] - 1, 0)\n",
    "        elif first_splitted == 'toggle':\n",
    "            # start and end coordinates \n",
    "            firstx, firsty = map(int, splitted[1].split(','))\n",
    "            lastx, lasty = map(int, splitted[3].split(','))\n",
    "            \n",
    "            grid[firstx:lastx + 1, firsty:lasty+1] += 2\n",
    "    return grid\n",
    "\n",
    "def artlight_partB(filename):\n",
    "    grid = np.zeros((1000, 1000), dtype=int)  \n",
    "    with open(filename, 'r') as f:\n",
    "        instructions = f.readlines()\n",
    "        grid= do_instruction(instructions, grid)\n",
    "    return np.sum(grid)\n",
    "\n",
    "# YOUR CODE HERE\n",
    "#raise NotImplementedError()"
   ]
  },
  {
   "cell_type": "code",
   "execution_count": 51,
   "metadata": {
    "deletable": false,
    "editable": false,
    "nbgrader": {
     "cell_type": "code",
     "checksum": "ae8b1f0b9df25539b6fdbad93aaf50f3",
     "grade": true,
     "grade_id": "Q6b-test",
     "locked": true,
     "points": 10,
     "schema_version": 3,
     "solution": false,
     "task": false
    },
    "tags": []
   },
   "outputs": [],
   "source": [
    "# Test your function on some possible input files.\n",
    "\n",
    "assert_equal(artlight_partB(\"data/lights_0.txt\"), 247)\n",
    "assert_equal(artlight_partB(\"data/lights_1.txt\"), 2320807)\n",
    "assert_equal(artlight_partB(\"data/lights_2.txt\"), 1313035)\n"
   ]
  },
  {
   "cell_type": "markdown",
   "metadata": {
    "deletable": false,
    "editable": false,
    "nbgrader": {
     "cell_type": "markdown",
     "checksum": "cd3297269260608711c24c3b0d72c56a",
     "grade": false,
     "grade_id": "Q7a-task",
     "locked": true,
     "schema_version": 3,
     "solution": false,
     "task": false
    },
    "tags": []
   },
   "source": [
    "## Exercise 7: Bingo (15 points)\n",
    "\n",
    "### Part A (5 points)\n",
    "\n",
    "Bingo is played on a set of boards each consisting of a `5x5` grid of numbers. Numbers are chosen at random between `0` and `99` (including), and the chosen number is marked on all boards on which it appears. (Numbers may not appear on all boards.) If all numbers in any row or any column of a board are marked, that board wins. (Diagonals don't count.)\n",
    "\n",
    "The file in input contains first a sequence of randomly drawn numbers (without repetition) and a random set of boards. For example:\n",
    "\n",
    "```\n",
    "7,4,9,5,11,17,23,2,0,14,21,24,10,16,13,6,15,25,12,22,18,20,8,19,3,26,1\n",
    "\n",
    "22 13 17 11  0\n",
    " 8  2 23  4 24\n",
    "21  9 14 16  7\n",
    " 6 10  3 18  5\n",
    " 1 12 20 15 19\n",
    "\n",
    " 3 15  0  2 22\n",
    " 9 18 13 17  5\n",
    "19  8  7 25 23\n",
    "20 11 10 24  4\n",
    "14 21 16 12  6\n",
    "\n",
    "14 21 17 24  4\n",
    "10 16 15  9 19\n",
    "18  8 23 26 20\n",
    "22 11 13  6  5\n",
    " 2  0 12  3  7\n",
    "```\n",
    "\n",
    "After the first eleven numbers are drawn (7, 4, 9, 5, 11, 17, 23, 2, 0, 14, and 21), there are no winners. Finally, 24 is drawn and the third board wins because it has at least one complete row or column of marked numbers (in this case, the entire top row is marked: 14 21 17 24 4).\n",
    "\n",
    "The score of the winning board can now be calculated. Start by finding the sum of all unmarked numbers on that board; in this case, the sum is ``188``. Then, multiply that sum by the number that was just called when the board won, ``24``, to get the final score, ``188 * 24 = 4512``.\n",
    "\n",
    "Write the function ``bingo_first`` that finds which board wins first given a specific input file and outputs only the corresponding score (as an ``int``) calculated as detailed above.\n",
    "\n",
    "Note that you can use the Python `numpy` module (imported above), but *no* other packages for this exercise."
   ]
  },
  {
   "cell_type": "code",
   "execution_count": 52,
   "metadata": {
    "deletable": false,
    "nbgrader": {
     "cell_type": "code",
     "checksum": "f25689ecce045236408bf754e0faa9e7",
     "grade": false,
     "grade_id": "Q7a-code",
     "locked": false,
     "schema_version": 3,
     "solution": true,
     "task": false
    },
    "tags": []
   },
   "outputs": [],
   "source": [
    "def bingo_first(filename):\n",
    "      with open(filename, 'r') as f:\n",
    "        content = f.readlines()\n",
    "        line = content.pop(0)\n",
    "        boards_array = get_boards(content)\n",
    "        winning_board_index = -1\n",
    "        num_array = np.array(list(map(int, line.strip(\"\").split(','))))\n",
    "        score = None\n",
    "        for num in num_array: \n",
    "            indices = np.where(boards_array == num)\n",
    "            if len(indices) > 0:\n",
    "                is_found = False\n",
    "                # get indices of numbers \n",
    "                for i in range(len(indices[0])):\n",
    "                    x = indices[0][i]\n",
    "                    y = indices[1][i]\n",
    "                    z = indices[2][i] \n",
    "                    boards_array[x, y, z] = -1\n",
    "                    # checks if a row or column has all -1 \n",
    "                    if np.all(boards_array[x, :, z] == -1):\n",
    "                        winning_board_index = x\n",
    "                        is_found = True\n",
    "                        break\n",
    "                    elif np.all(boards_array[x, y, :] == -1):\n",
    "                        winning_board_index = x\n",
    "                        is_found = True\n",
    "                        break\n",
    "                    else:\n",
    "                        isFound = False\n",
    "                if is_found:\n",
    "                    break       \n",
    "        if winning_board_index != -1:\n",
    "            unmarked_sum = boards_array[x][boards_array[x] > 0].sum()\n",
    "            score = unmarked_sum * num  \n",
    "        return score\n",
    "\n",
    "def get_boards(content):\n",
    "    boards_list = []\n",
    "    board = np.zeros((5, 5), dtype=int)\n",
    "    for i, line in enumerate(content):\n",
    "        lines = []\n",
    "        for x in line.strip(\"\").split():\n",
    "            lines.append(int(x))\n",
    "        # check if it is last line of board \n",
    "        if i % 6== 5:  \n",
    "            loc =(i % 6) - 1\n",
    "            board[loc] = lines\n",
    "            boards_list.append(board)\n",
    "            board = np.zeros((5, 5), dtype=int)\n",
    "        elif i %6 !=0:\n",
    "            loc =(i % 6) - 1\n",
    "            board[loc] = lines\n",
    "    return np.array(boards_list)\n",
    "    \n",
    "# YOUR CODE HERE\n",
    "#raise NotImplementedError()"
   ]
  },
  {
   "cell_type": "code",
   "execution_count": 53,
   "metadata": {
    "deletable": false,
    "editable": false,
    "nbgrader": {
     "cell_type": "code",
     "checksum": "ef7472661e173c74d3686d35121d4aaa",
     "grade": true,
     "grade_id": "Q7a-test",
     "locked": true,
     "points": 5,
     "schema_version": 3,
     "solution": false,
     "task": false
    },
    "tags": []
   },
   "outputs": [],
   "source": [
    "# Test your function with any one of the following test input files\n",
    "\n",
    "assert_equal(bingo_first('data/bingo_input0.txt'), 79789)\n",
    "assert_equal(bingo_first('data/bingo_input1.txt'), 64780)\n",
    "assert_equal(bingo_first('data/bingo_input2.txt'), 63424)\n"
   ]
  },
  {
   "cell_type": "markdown",
   "metadata": {
    "deletable": false,
    "editable": false,
    "nbgrader": {
     "cell_type": "markdown",
     "checksum": "dbf1c98c1b84abcc4712c7b51f1a3307",
     "grade": false,
     "grade_id": "Q7b-task",
     "locked": true,
     "schema_version": 3,
     "solution": false,
     "task": false
    },
    "tags": []
   },
   "source": [
    "### Part B (10 points)\n",
    "\n",
    "We are now interested in finding out which board would win **last**. In the above example, the second board is the last to win, which happens after 13 is eventually called and its middle column is completely marked. If you were to keep playing until this point, the second board would have a sum of unmarked numbers equal to ``148`` for a final score of ``148 * 13 = 1924``.\n",
    "\n",
    "Write the function ``bingo_last`` that finds which board wins last for a given input file and outputs only the corresponding score (as an ``int``) calculated as detailed above."
   ]
  },
  {
   "cell_type": "code",
   "execution_count": 54,
   "metadata": {
    "deletable": false,
    "nbgrader": {
     "cell_type": "code",
     "checksum": "a733ec5f658fe227407c686de3c80f7c",
     "grade": false,
     "grade_id": "Q7b-code",
     "locked": false,
     "schema_version": 3,
     "solution": true,
     "task": false
    },
    "tags": []
   },
   "outputs": [],
   "source": [
    "def get_boards(content):\n",
    "    boards_list = []\n",
    "    board = np.zeros((5, 5), dtype=int)\n",
    "    for i, line in enumerate(content):\n",
    "        lines = []\n",
    "        for x in line.strip(\"\").split():\n",
    "            lines.append(int(x))\n",
    "        if i % 6== 5:  \n",
    "            loc =(i % 6) - 1\n",
    "            board[loc] = lines\n",
    "            boards_list.append(board)\n",
    "            board = np.zeros((5, 5), dtype=int)\n",
    "        # check if it is last line of board \n",
    "\n",
    "        elif i %6 !=0:\n",
    "            loc =(i % 6) - 1\n",
    "            board[loc] = lines\n",
    "    return np.array(boards_list)\n",
    "\n",
    "def bingo_last(filename):\n",
    "    with open(filename, 'r') as f:\n",
    "        content = f.readlines()\n",
    "    line = content.pop(0)\n",
    "    boards_array = get_boards(content)\n",
    "    winning_board_index = -1\n",
    "    num_array = np.array(list(map(int, line.strip(\"\").split(','))))\n",
    "    game_array = np.full(100, False, dtype=bool)\n",
    "    score = None\n",
    "    for num in num_array:\n",
    "        indices = np.where(boards_array == num)\n",
    "        if len(indices) > 0:\n",
    "            is_found = False\n",
    "            # get indices of numbers \n",
    "            for i in range(len(indices[0])):\n",
    "                x = indices[0][i]\n",
    "                y = indices[1][i]\n",
    "                z = indices[2][i] \n",
    "                boards_array[x, y, z] = -1\n",
    "                # checks if a row or column has all -1 \n",
    "                if np.all(boards_array[x, :, z] == -1):\n",
    "                    game_array[x] = True\n",
    "                    if np.sum(game_array == False)== 0:                        \n",
    "                        winning_board_index = x\n",
    "                        is_found = True\n",
    "                        break\n",
    "                elif np.all(boards_array[x, y, :] == -1):\n",
    "                    game_array[x] = True\n",
    "                    if np.sum(game_array == False)== 0:                        \n",
    "                        winning_board_index = x\n",
    "                        is_found = True\n",
    "                        break\n",
    "                else:\n",
    "                    isFound = False\n",
    "            if is_found:\n",
    "                break\n",
    "    if winning_board_index != -1:\n",
    "        unmarked_sum = boards_array[winning_board_index][boards_array[winning_board_index] > 0].sum()\n",
    "        score = unmarked_sum * num       \n",
    "    return score\n",
    "    \n",
    "# YOUR CODE HERE\n",
    "#raise NotImplementedError()"
   ]
  },
  {
   "cell_type": "code",
   "execution_count": 55,
   "metadata": {
    "deletable": false,
    "editable": false,
    "nbgrader": {
     "cell_type": "code",
     "checksum": "58d491a38cf6d2086f6c7a64fd3743a7",
     "grade": true,
     "grade_id": "Q7b-test",
     "locked": true,
     "points": 10,
     "schema_version": 3,
     "solution": false,
     "task": false
    },
    "tags": []
   },
   "outputs": [],
   "source": [
    "# Test your function with any one of the following test input files\n",
    "\n",
    "assert_equal(bingo_last('data/bingo_input0.txt'),1300)\n",
    "assert_equal(bingo_last('data/bingo_input1.txt'),35224)\n",
    "assert_equal(bingo_last('data/bingo_input2.txt'),23541)\n"
   ]
  },
  {
   "cell_type": "markdown",
   "metadata": {
    "deletable": false,
    "editable": false,
    "nbgrader": {
     "cell_type": "markdown",
     "checksum": "eec94cc66ebffedad9518c40a4d89d6c",
     "grade": false,
     "grade_id": "Q8-task",
     "locked": true,
     "schema_version": 3,
     "solution": false,
     "task": false
    },
    "tags": []
   },
   "source": [
    "## Exercise 8: Bill Splitting (15 points) \n",
    "\n",
    "A restaurant bill is given as a text file, where each line corresponds to a dish, the price, and the names of people that took part in eating that dish. For example:\n",
    "```\n",
    "Pizza Napolitana, 12.00, Bob, Alice\n",
    "Mac and Cheese, 9.00, Bob, Charly\n",
    "```\n",
    "The goal of this exercise is to write a Python function that splits the bill.\n",
    "\n",
    "**Assumptions**:\n",
    "- Dishes may occur more than once on the bill.\n",
    "- For each dish and corresponding names on a line, all people take equal share in eating.\n",
    "- All prices are given as numbers with two decimals. Use floats to represent the numbers."
   ]
  },
  {
   "cell_type": "markdown",
   "metadata": {
    "deletable": false,
    "editable": false,
    "nbgrader": {
     "cell_type": "markdown",
     "checksum": "20d460f12dc9e88102b243e7073eeb00",
     "grade": false,
     "grade_id": "Q8a-task",
     "locked": true,
     "schema_version": 3,
     "solution": false,
     "task": false
    },
    "tags": []
   },
   "source": [
    "### Part A (5 points)\n",
    "Write a function that reads the bill file and returns a list of lists. Each inner list contains as first element the dish name, as second element the price, and as remaining elements the names of people eating from the dish. Assuming that we are given the example bill above as text file, then your function should return\n",
    "```\n",
    "[['Pizza Napolitana', 12.0, 'Bob', 'Alice'], ['Mac and Cheese', 9.0, 'Bob', 'Charly']]\n",
    "```"
   ]
  },
  {
   "cell_type": "code",
   "execution_count": 56,
   "metadata": {
    "deletable": false,
    "nbgrader": {
     "cell_type": "code",
     "checksum": "368d5edc0c9842e5f53f12cd31529210",
     "grade": false,
     "grade_id": "Q8a-code",
     "locked": false,
     "schema_version": 3,
     "solution": true,
     "task": false
    },
    "tags": []
   },
   "outputs": [],
   "source": [
    "def parse_bill(filename):\n",
    "    bill = []\n",
    "    with open(filename, 'r') as f:\n",
    "        for line in f:\n",
    "            dish, price, *names_people = line.strip().split(', ')\n",
    "            bill.append([dish, float(price), *names_people])\n",
    "    return bill\n",
    "    \n",
    "# YOUR CODE HERE\n",
    "#raise NotImplementedError()"
   ]
  },
  {
   "cell_type": "code",
   "execution_count": 57,
   "metadata": {
    "deletable": false,
    "editable": false,
    "nbgrader": {
     "cell_type": "code",
     "checksum": "642466092722e12010197b699aad843d",
     "grade": true,
     "grade_id": "Q8a-test",
     "locked": true,
     "points": 5,
     "schema_version": 3,
     "solution": false,
     "task": false
    },
    "tags": []
   },
   "outputs": [],
   "source": [
    "# Test your function with the provided test input files\n",
    "\n",
    "assert_equal(parse_bill(\"data/billsplit_input0.txt\"), [[\"Etna DOC\", 18.22, \"Michael\"], [\"Crescia\", 11.6, \"Michael\"]])\n",
    "\n",
    "# These tests only verify the length; feel free to modify it accordingly.\n",
    "\n",
    "assert_equal(len(parse_bill(\"data/billsplit_input0.txt\")), 2)\n",
    "assert_equal(len(parse_bill(\"data/billsplit_input1.txt\")), 5)\n",
    "assert_equal(len(parse_bill(\"data/billsplit_input2.txt\")), 8)\n",
    "assert_equal(len(parse_bill(\"data/billsplit_input3.txt\")), 10)\n",
    "assert_equal(len(parse_bill(\"data/billsplit_input4.txt\")), 1000)\n"
   ]
  },
  {
   "cell_type": "markdown",
   "metadata": {
    "deletable": false,
    "editable": false,
    "nbgrader": {
     "cell_type": "markdown",
     "checksum": "06e5d9c8cf857667fb847174441391e2",
     "grade": false,
     "grade_id": "Q8b-task",
     "locked": true,
     "schema_version": 3,
     "solution": false,
     "task": false
    },
    "tags": []
   },
   "source": [
    "### Part B (10 points)\n",
    "Write a function that reads the bill file and returns a dictionary. The dictionary keys are names and the corresponding value should indicate the money that they have to pay. Make sure that all values are rounded down to two decimal numbers. \n",
    "\n",
    "We recommend you to make use of the parsing function that you wrote in **part A**. Be aware that your function will be tested on vary large test files.\n",
    "\n",
    "**Example**: Assume that you are given the bill shown earlier:\n",
    "```\n",
    "Pizza Napolitana, 12.00, Bob, Alice\n",
    "Mac and Cheese, 9.00, Bob, Charly\n",
    "```\n",
    "\n",
    "Your function should output the following:\n",
    "```\n",
    "{'Bob': 10.5, 'Alice': 6.0, 'Charly': 4.5}\n",
    "```\n"
   ]
  },
  {
   "cell_type": "code",
   "execution_count": 58,
   "metadata": {
    "deletable": false,
    "nbgrader": {
     "cell_type": "code",
     "checksum": "5852a95c099a45be298864705657c858",
     "grade": false,
     "grade_id": "Q8b-code",
     "locked": false,
     "schema_version": 3,
     "solution": true,
     "task": false
    },
    "tags": []
   },
   "outputs": [],
   "source": [
    "def split_bill(filename):\n",
    "    bill = parse_bill(filename)\n",
    "    bill_dict = {}   \n",
    "    for dish in bill:\n",
    "        dish_name = dish[0]\n",
    "        price = dish[1]\n",
    "        num_people = len(dish) - 2\n",
    "        price_per_people = price / num_people\n",
    "        names = dish[2:]\n",
    "        # iterate over names \n",
    "        for name in names:\n",
    "            # calculate price per person and add to persons total \n",
    "            bill_dict[name] = price_per_people+ bill_dict.get(name, 0)\n",
    "    for name, value in bill_dict.items():\n",
    "        bill_dict[name] = round(value, 2) # round to 2 \n",
    "    return bill_dict\n",
    "#raise NotImplementedError()"
   ]
  },
  {
   "cell_type": "code",
   "execution_count": 59,
   "metadata": {
    "deletable": false,
    "editable": false,
    "nbgrader": {
     "cell_type": "code",
     "checksum": "edf67842f6ef90e0a4e1291fd4c07102",
     "grade": true,
     "grade_id": "Q8b-test",
     "locked": true,
     "points": 10,
     "schema_version": 3,
     "solution": false,
     "task": false
    },
    "tags": []
   },
   "outputs": [],
   "source": [
    "# Test your function with the provided test input files\n",
    "\n",
    "assert_equal(split_bill(\"data/billsplit_input0.txt\"), {'Michael': 29.82})\n",
    "assert_equal(split_bill(\"data/billsplit_input1.txt\"), \n",
    "            {'Jamie': 24.31,\n",
    "             'Victoria': 10.64,\n",
    "             'Allison': 10.64,\n",
    "             'Amanda': 2.42,\n",
    "             'Samuel': 2.42,\n",
    "             'Peter': 25.88,\n",
    "             'Lisa': 10.37})\n",
    "\n",
    "# These tests only verify the length (i.e., number of people); feel free to modify it accordingly.\n",
    "\n",
    "assert_equal(len(split_bill(\"data/billsplit_input0.txt\")), 1)\n",
    "assert_equal(len(split_bill(\"data/billsplit_input1.txt\")), 7)\n",
    "assert_equal(len(split_bill(\"data/billsplit_input2.txt\")), 18)\n",
    "assert_equal(len(split_bill(\"data/billsplit_input3.txt\")), 45)\n",
    "assert_equal(len(split_bill(\"data/billsplit_input4.txt\")), 142)\n"
   ]
  },
  {
   "cell_type": "markdown",
   "metadata": {
    "deletable": false,
    "editable": false,
    "nbgrader": {
     "cell_type": "markdown",
     "checksum": "d14285fc72e3898c5257bfdb51a3377a",
     "grade": false,
     "grade_id": "Q9-task",
     "locked": true,
     "schema_version": 3,
     "solution": false,
     "task": false
    },
    "tags": []
   },
   "source": [
    "## Exercise 9: Dice math (15 points)\n",
    "\n",
    "In this exercise you will work with .txt files where a number of dice are drawn using characters as follows\n",
    "\n",
    "```\n",
    "+-------+ \n",
    "|       |\n",
    "|   O   |\n",
    "|       |\n",
    "+-------+\n",
    "\n",
    "+-------+\n",
    "| O     |\n",
    "|       |\n",
    "|     O |\n",
    "+-------+\n",
    "\n",
    "+-------+\n",
    "|     O |\n",
    "|       |\n",
    "| O     |\n",
    "+-------+\n",
    "\n",
    "+-------+\n",
    "| O     |\n",
    "|   O   |\n",
    "|     O |\n",
    "+-------+\n",
    "        \n",
    "+-------+\n",
    "|     O |\n",
    "|   O   |\n",
    "| O     |\n",
    "+-------+\n",
    "        \n",
    "+-------+\n",
    "| O   O |\n",
    "|       |\n",
    "| O   O |\n",
    "+-------+\n",
    "       \n",
    "+-------+\n",
    "| O   O |\n",
    "|   O   |\n",
    "| O   O |\n",
    "+-------+\n",
    "       \n",
    "+-------+\n",
    "| O   O |\n",
    "| O   O |\n",
    "| O   O |\n",
    "+-------+\n",
    "\n",
    "+-------+\n",
    "| O O O |\n",
    "|       |\n",
    "| O O O |\n",
    "+-------+\n",
    "```\n",
    "\n",
    "In particular note that the value is drawn using the letter ``O``. Note that any such .txt input file might have no dice as well as up to 25 dice. As illustrated above, some of the dice can have different orientations. Multiple dice do *not* necessarily appear in distinct rows of the file (open some of the provided .txt input files to get a feeling), but they never overlap. "
   ]
  },
  {
   "cell_type": "markdown",
   "metadata": {
    "deletable": false,
    "editable": false,
    "nbgrader": {
     "cell_type": "markdown",
     "checksum": "da91176fe1d73dd2ec4736f9c5aaf294",
     "grade": false,
     "grade_id": "Q9a-task",
     "locked": true,
     "schema_version": 3,
     "solution": false,
     "task": false
    },
    "tags": []
   },
   "source": [
    "### Part A (5 points)\n",
    "Write a function that a .txt file containing the representation of a set of dice and returns only the nonnegative integer number equal to the total sum of the values of the dice."
   ]
  },
  {
   "cell_type": "code",
   "execution_count": 60,
   "metadata": {
    "deletable": false,
    "nbgrader": {
     "cell_type": "code",
     "checksum": "495d5c2c83422667aa58a41aa74da5d6",
     "grade": false,
     "grade_id": "Q9a-code",
     "locked": false,
     "schema_version": 3,
     "solution": true,
     "task": false
    },
    "tags": []
   },
   "outputs": [],
   "source": [
    "def dice_sum(filename):\n",
    "\n",
    "    DICE_WIDTH = 9\n",
    "    DICE_HEIGHT = 5 \n",
    "    total = 0\n",
    "    try:\n",
    "        with open(filename, 'r') as f:\n",
    "            content = f.read()\n",
    "            # get count of 'O'\n",
    "            count = content.count('O')\n",
    "        return count\n",
    "    except FileNotFoundError:\n",
    "        print(\"File not found.\")\n",
    "        return None \n",
    "    \n",
    "# YOUR CODE HERE\n",
    "#raise NotImplementedError()"
   ]
  },
  {
   "cell_type": "code",
   "execution_count": 61,
   "metadata": {
    "deletable": false,
    "editable": false,
    "nbgrader": {
     "cell_type": "code",
     "checksum": "ce5501a69a3e9b9f810e2f09346541d8",
     "grade": true,
     "grade_id": "Q9a-test",
     "locked": true,
     "points": 5,
     "schema_version": 3,
     "solution": false,
     "task": false
    },
    "tags": []
   },
   "outputs": [],
   "source": [
    "# Test your function with the provided test input files\n",
    "\n",
    "assert_equal(dice_sum(\"data/dicemath_input0.txt\"), 39)\n",
    "assert_equal(dice_sum(\"data/dicemath_input1.txt\"), 19)\n",
    "assert_equal(dice_sum(\"data/dicemath_input2.txt\"), 0)\n",
    "assert_equal(dice_sum(\"data/dicemath_input3.txt\"), 16)\n"
   ]
  },
  {
   "cell_type": "markdown",
   "metadata": {
    "deletable": false,
    "editable": false,
    "nbgrader": {
     "cell_type": "markdown",
     "checksum": "4efaed8392efcd43c53790a525526481",
     "grade": false,
     "grade_id": "Q9b-task",
     "locked": true,
     "schema_version": 3,
     "solution": false,
     "task": false
    },
    "tags": []
   },
   "source": [
    "### Part B (10 points)\n",
    "\n",
    "Write a function that reads the .txt file containing the representation of a set of dice and returns only one (possibly negative) integer equal to the difference between the sum of the the even dice minus the sum of the odd dice. "
   ]
  },
  {
   "cell_type": "code",
   "execution_count": 62,
   "metadata": {
    "deletable": false,
    "nbgrader": {
     "cell_type": "code",
     "checksum": "b7a573586423524da03d7e4252052ba1",
     "grade": false,
     "grade_id": "Q9b-code",
     "locked": false,
     "schema_version": 3,
     "solution": true,
     "task": false
    },
    "tags": []
   },
   "outputs": [],
   "source": [
    "def dice_diff(filename):\n",
    "    \n",
    "    DICE_WIDTH = 9\n",
    "    DICE_HEIGHT = 5\n",
    "   \n",
    "    #YOUR CODE HERE\n",
    "    with open(filename, 'r') as f:\n",
    "        content =f.readlines()  \n",
    "    # get number of rows and columns \n",
    "    rows = len(content)\n",
    "    columns = len(content[0])\n",
    "    # find conditions \n",
    "    val_dict =find_conditions(content, rows, columns, DICE_WIDTH, DICE_HEIGHT)\n",
    "    # extract dice values \n",
    "    dice_values =extract_values(content, val_dict, DICE_WIDTH, DICE_HEIGHT)\n",
    "    sum_even_values = calculate_sum_even(dice_values)\n",
    "    sum_odd_values = calculate_sum_odd(dice_values)\n",
    "    difference = sum_even_values - sum_odd_values\n",
    "    return difference\n",
    "\n",
    "def calculate_sum_even(dice_values):\n",
    "    # calculate sum of even values \n",
    "    sum_even_values = 0\n",
    "    for val in dice_values:\n",
    "        if val %2 == 0:\n",
    "            sum_even_values+=val\n",
    "\n",
    "    return sum_even_values\n",
    "\n",
    "def calculate_sum_odd(dice_values):\n",
    "    # calculate sum of odd values \n",
    "\n",
    "    sum_odd_values = 0\n",
    "    for val in dice_values:\n",
    "        if val %2 != 0:\n",
    "            sum_odd_values += val\n",
    "    return sum_odd_values\n",
    "\n",
    "def find_conditions(content, rows, columns, dice_width, dice_height):\n",
    "    val_dict = {}\n",
    "    for i in range(rows):\n",
    "        for j in range(columns):\n",
    "            # check if it is corner or not \n",
    "            if j < columns -dice_width + 1 and content[i][j] == '+':\n",
    "                if content[i][j + dice_width -1] == '+' and content[i + 1][j] == '|':\n",
    "                    val_dict[(i, j)] = 0\n",
    "    return val_dict\n",
    "\n",
    "def is_corner(content, i, j, dice_width, dice_height):\n",
    "    # check if it is corner or not \n",
    "    return content[i][j - dice_width + 1] =='+' and content[i - 1][j] == '|'\n",
    "\n",
    "def extract_values(content, val_dict, dice_width, dice_height):\n",
    "    dice_values = []\n",
    "    for i in range(len(content)):\n",
    "        for j in range(len(content[i])):\n",
    "            letter = content[i][j]\n",
    "            # letter 'O' case \n",
    "            if letter =='O':\n",
    "                for key, value in val_dict.items():\n",
    "                    key_row, key_col = key\n",
    "                    if key_row <i < (key_row +dice_height - 1) and key_col < j < (key_col + dice_width - 1):\n",
    "                        # update key's value by incrementing 1 \n",
    "                        val_dict[key] = value+ 1\n",
    "                        break\n",
    "            # letter 'O' case \n",
    "            if letter == '+' and dice_width - 1< j:\n",
    "                if is_corner(content, i, j, dice_width, dice_height):\n",
    "                    # remove from dictionary \n",
    "                    die_value = val_dict.pop((i - dice_height + 1, j - dice_width + 1))\n",
    "                    dice_values.append(die_value)\n",
    "    return dice_values\n",
    "    #raise NotImplementedError()"
   ]
  },
  {
   "cell_type": "code",
   "execution_count": 63,
   "metadata": {
    "deletable": false,
    "editable": false,
    "nbgrader": {
     "cell_type": "code",
     "checksum": "2df9106fa9105180709e77c4fa5e3a4f",
     "grade": true,
     "grade_id": "Q9b-test",
     "locked": true,
     "points": 10,
     "schema_version": 3,
     "solution": false,
     "task": false
    },
    "tags": []
   },
   "outputs": [],
   "source": [
    "# Test your function with the provided test input files\n",
    "\n",
    "assert_equal(dice_diff(\"data/dicemath_input0.txt\"), -3)\n",
    "assert_equal(dice_diff(\"data/dicemath_input1.txt\"), -15)\n",
    "assert_equal(dice_diff(\"data/dicemath_input2.txt\"), 0)\n",
    "assert_equal(dice_diff(\"data/dicemath_input3.txt\"), 8)\n"
   ]
  },
  {
   "cell_type": "code",
   "execution_count": null,
   "metadata": {},
   "outputs": [],
   "source": []
  }
 ],
 "metadata": {
  "kernelspec": {
   "display_name": "Python 3 (ipykernel)",
   "language": "python",
   "name": "python3"
  },
  "language_info": {
   "codemirror_mode": {
    "name": "ipython",
    "version": 3
   },
   "file_extension": ".py",
   "mimetype": "text/x-python",
   "name": "python",
   "nbconvert_exporter": "python",
   "pygments_lexer": "ipython3",
   "version": "3.9.13"
  },
  "toc": {
   "base_numbering": 1,
   "nav_menu": {},
   "number_sections": true,
   "sideBar": true,
   "skip_h1_title": false,
   "title_cell": "Table of Contents",
   "title_sidebar": "Contents",
   "toc_cell": false,
   "toc_position": {},
   "toc_section_display": true,
   "toc_window_display": false
  },
  "varInspector": {
   "cols": {
    "lenName": 16,
    "lenType": 16,
    "lenVar": 40
   },
   "kernels_config": {
    "python": {
     "delete_cmd_postfix": "",
     "delete_cmd_prefix": "del ",
     "library": "var_list.py",
     "varRefreshCmd": "print(var_dic_list())"
    },
    "r": {
     "delete_cmd_postfix": ") ",
     "delete_cmd_prefix": "rm(",
     "library": "var_list.r",
     "varRefreshCmd": "cat(var_dic_list()) "
    }
   },
   "types_to_exclude": [
    "module",
    "function",
    "builtin_function_or_method",
    "instance",
    "_Feature"
   ],
   "window_display": false
  }
 },
 "nbformat": 4,
 "nbformat_minor": 4
}
