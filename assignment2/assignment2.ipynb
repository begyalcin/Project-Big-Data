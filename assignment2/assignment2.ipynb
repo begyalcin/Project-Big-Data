{
 "cells": [
  {
   "cell_type": "markdown",
   "id": "ca59ac60",
   "metadata": {},
   "source": [
    "Before you turn this problem in, make sure everything runs as expected. First, **restart the kernel** (in the menubar, select Kernel$\\rightarrow$Restart) and then **run all cells** (in the menubar, select Cell$\\rightarrow$Run All).\n",
    "\n",
    "Make sure you fill in any place that says `YOUR CODE HERE` (you should of course delete `raise NotImplementedError()` which is there only as reminder), while not modifying the other cells (but you should run them to check the output you obtain). Please also fill your first and last name and your VU ID below:"
   ]
  },
  {
   "cell_type": "code",
   "execution_count": 1,
   "id": "4d1f2389",
   "metadata": {
    "tags": []
   },
   "outputs": [],
   "source": [
    "STUDENT_FIRST_NAME = \"Begüm\" # e.g. \"John\" (no \"J\", no \"J.\", no \"John S.M.\")\n",
    "STUDENT_LAST_NAME = \"Yalçın\"  # e.g. \"Smith\"\n",
    "VU_ID_NUM = \"2797623\"          # e.g. \"2789012\""
   ]
  },
  {
   "cell_type": "markdown",
   "id": "4f1fa8cc",
   "metadata": {},
   "source": [
    "---"
   ]
  },
  {
   "cell_type": "markdown",
   "id": "49eb603e-dbb2-4a02-8d23-03389719f922",
   "metadata": {
    "deletable": false,
    "editable": false,
    "nbgrader": {
     "cell_type": "markdown",
     "checksum": "9a2d97dbc9eb75b32fa7c466e8e9a52b",
     "grade": false,
     "grade_id": "cell-90e95b98e1572257",
     "locked": true,
     "schema_version": 3,
     "solution": false,
     "task": false
    },
    "tags": []
   },
   "source": [
    "# Assignment 2\n",
    "The goal of this assignment is to make you familiar with the `pandas` library. This assignment is divided into 4 exercises, which are worth different amount of points (total is 100 points). We assume that the folder that you work in is the one obtained by unzipping the given ``assignment2.zip`` file and thus has the following structure. When working on your submission, please respect it, otherwise the autograder will give errors.\n",
    "\n",
    "\n",
    "```\n",
    "assignment2.ipynb\n",
    "data/\n",
    "    babynames/\n",
    "    covid/\n",
    "    movielens/\n",
    "    owid/\n",
    "```\n",
    "\n",
    "## Important remarks\n",
    "- **Working together**: You are meant to work individually on the first three assignments. You can, of course, brainstorm ideas and discuss issues with your fellow students, but you are required to write your solutions individually. \n",
    "- **Plagiarism**: All your code will be automatically scanned for plagiarism. Furthermore, using the internet as a passive resource is allowed. This means that you can search for help there and partially copy code, as long as you explicitly acknowledge inside your Jupyter notebook which parts have been copied and from where. \n",
    "- **Performance**: You should optimize the computational performance of your functions. Specifically, when grading the assignments, we set a hard limit of 15 seconds for each cell execution. This should be sufficient to cover each of the test cases. Function calls that take longer than 15 seconds will not be awarded any points.\n",
    "- **Code styling**: Your implementation will not be checked for style. However, we do encourage you to practice good code styling. See, for example, https://docs.python-guide.org/writing/style/.\n",
    "- **Chronological run**: All outputs should be repeatable by doing one full “chronological” run of the notebook without any manual changes to code blocks, including parameters. (try it yourself by clicking ``Kernel -> Restart and run all``, which should give the result as handed in).\n",
    "- **Handing in**: Hand in the .ipynb file of your notebook on ``Canvas`` before the assignment deadline. \n",
    "- **Other questions**: If you have doubts/questions about the assignments, feel free to ask them in [this discussion thread](https://canvas.vu.nl/courses/68046/discussion_topics/648147) so that everyone will be able to see them and our answers. "
   ]
  },
  {
   "cell_type": "code",
   "execution_count": 2,
   "id": "a3bb093c-d1f7-4ff3-8348-34553ad75123",
   "metadata": {
    "deletable": false,
    "editable": false,
    "nbgrader": {
     "cell_type": "code",
     "checksum": "a9e2d84be1fcc15964e11bef27da04d8",
     "grade": false,
     "grade_id": "initialize",
     "locked": true,
     "schema_version": 3,
     "solution": false,
     "task": false
    },
    "tags": []
   },
   "outputs": [],
   "source": [
    "from typing import Dict, Tuple, List\n",
    "from pathlib import Path\n",
    "\n",
    "import numpy as np\n",
    "import pandas as pd\n",
    "\n",
    "from numpy.testing import assert_equal, assert_allclose"
   ]
  },
  {
   "cell_type": "markdown",
   "id": "22b2d09f-fc67-465a-9706-136c25088ec2",
   "metadata": {
    "deletable": false,
    "editable": false,
    "nbgrader": {
     "cell_type": "markdown",
     "checksum": "038168b5e4c4ade83cef74811911ad0e",
     "grade": false,
     "grade_id": "Q1-task",
     "locked": true,
     "schema_version": 3,
     "solution": false,
     "task": false
    },
    "tags": []
   },
   "source": [
    "# Exercise 1: US Baby names (20 points)\n",
    "The United States Social Security Administration (SSA) has made data available on the frequency of baby names from 1880 through the present. The US SSA makes the data files once per year, each containing the total number of births for each sex/name combination. The raw archive of these files can be obtained from [here](http://www.ssa.gov/oact/babynames/limits.html). \n",
    "\n",
    "Below we ask six questions related to the data set. Moreover, the `names` variable contains a dataframe containing all baby name data from 2000 till 2021 (including). This dataframe will be used for all questions except the first one."
   ]
  },
  {
   "cell_type": "code",
   "execution_count": 3,
   "id": "337e0ada-75b4-41bd-8963-4eb26964c637",
   "metadata": {
    "deletable": false,
    "editable": false,
    "nbgrader": {
     "cell_type": "code",
     "checksum": "fbd14531ca27d999260858e3d90ed5f3",
     "grade": false,
     "grade_id": "Q1-import",
     "locked": true,
     "schema_version": 3,
     "solution": false,
     "task": false
    },
    "tags": []
   },
   "outputs": [],
   "source": [
    "names = pd.read_csv(\"data/babynames/names2000_2021.csv\", index_col=0)"
   ]
  },
  {
   "cell_type": "markdown",
   "id": "ac31c1d6-413f-4925-aeee-219bb6b356c2",
   "metadata": {
    "deletable": false,
    "editable": false,
    "nbgrader": {
     "cell_type": "markdown",
     "checksum": "c4e9c93709df87bba0b42166f81c0b2b",
     "grade": false,
     "grade_id": "Q1a-task",
     "locked": true,
     "schema_version": 3,
     "solution": false,
     "task": false
    },
    "tags": []
   },
   "source": [
    "## `concat_all_files` (4 points)\n",
    "- Write a function called `concat_all_files` that takes no arguments. \n",
    "- The function should read all the text files (from 1990 to 1999) in the directory `data/names/` and combine them into a single pandas DataFrame. \n",
    "- The DataFrame should have four columns named `name`, `sex`, `births`, and `year`, where `year` indicates the year in which the data was published. You will need to add the `year` column yourself. \n",
    "- Sort the new data frame by year, name, births, and sex, respectively.\n",
    "- Make sure that the `name` and `sex` columns are of type `string`, whereas the `births` and `year` columns are of type `int`."
   ]
  },
  {
   "cell_type": "code",
   "execution_count": 4,
   "id": "87f7a8d5-4273-4f09-be1f-41015f42aac0",
   "metadata": {
    "deletable": false,
    "nbgrader": {
     "cell_type": "code",
     "checksum": "3bbdbf975161c410bb54722da3b6a035",
     "grade": false,
     "grade_id": "Q1a-code",
     "locked": false,
     "schema_version": 3,
     "solution": true,
     "task": false
    },
    "tags": []
   },
   "outputs": [],
   "source": [
    "def concat_all_files() -> pd.DataFrame:\n",
    "    directory = Path('data/babynames/')\n",
    "    dataframes = []\n",
    "    files = [f for f in directory.iterdir() if f.suffix =='.txt']\n",
    "    for file in files:\n",
    "        year = int(file.stem)\n",
    "        df = pd.read_csv(file, header=None, names=['name', 'sex', 'births'])\n",
    "        df['year'] = year\n",
    "        dataframes.append(df)\n",
    "    concatenated = pd.concat(dataframes, ignore_index=True)\n",
    "    concatenated['name'] = concatenated['name'].astype(str)\n",
    "    concatenated['sex'] = concatenated['sex'].astype(str)\n",
    "    concatenated['births'] = concatenated['births'].astype(int)\n",
    "    concatenated['year'] = concatenated['year'].astype(int)\n",
    "    concatenated.sort_values(['year', 'name', 'births', 'sex'], inplace=True)\n",
    "    return concatenated\n",
    "    \n",
    "# YOUR CODE HERE\n",
    "#raise NotImplementedError()"
   ]
  },
  {
   "cell_type": "code",
   "execution_count": 5,
   "id": "cf6d76d4",
   "metadata": {},
   "outputs": [
    {
     "name": "stdout",
     "output_type": "stream",
     "text": [
      "           name sex  births  year\n",
      "126867   Aakash   M      15  1990\n",
      "130261    Aalap   M       6  1990\n",
      "114722  Aaliyah   F      12  1990\n",
      "131201    Aamer   M       5  1990\n",
      "126695    Aamir   M      16  1990\n"
     ]
    }
   ],
   "source": [
    "df = concat_all_files()\n",
    "print(df.head())"
   ]
  },
  {
   "cell_type": "code",
   "execution_count": 55,
   "id": "76061446-7e9e-45ab-8b4a-49805d72b675",
   "metadata": {
    "deletable": false,
    "editable": false,
    "nbgrader": {
     "cell_type": "code",
     "checksum": "7987d9d20efd1760af3b887727e977c2",
     "grade": true,
     "grade_id": "Q1a-test",
     "locked": true,
     "points": 4,
     "schema_version": 3,
     "solution": false,
     "task": false
    },
    "tags": []
   },
   "outputs": [],
   "source": [
    "# There is no test available for this question. Instead, you can look\n",
    "# at an example of the desired output for the years 2000-2021 in the \n",
    "# dataframe that is stored in the 'names' variable above, which will\n",
    "# be used for the remaining questions.\n",
    "\n",
    "# You can also try the following prompt (note that it might differ \n",
    "# depending on your implementation):\n",
    "# >>> df = concat_all_files()\n",
    "# >>> print(df.head())\n",
    "#             name sex  births  year\n",
    "# 0         Aakash   M      15  1990\n",
    "# 1          Aalap   M       6  1990\n",
    "# 2        Aaliyah   F      12  1990\n",
    "# 3          Aamer   M       5  1990\n",
    "# 4          Aamir   M      16  1990\n"
   ]
  },
  {
   "cell_type": "markdown",
   "id": "9b93c32e-3743-4cd6-a704-0da6832580da",
   "metadata": {
    "deletable": false,
    "editable": false,
    "nbgrader": {
     "cell_type": "markdown",
     "checksum": "d9f4465bc93184c49350f0aa69f5d9ef",
     "grade": false,
     "grade_id": "Q1b-task",
     "locked": true,
     "schema_version": 3,
     "solution": false,
     "task": false
    },
    "tags": []
   },
   "source": [
    "## `number_unique_female_names` (2 points)\n",
    "-  Write a function called `number_unique_female_names` that takes the `names` dataframe as input. \n",
    "- The function should return the number of unique female names over the entire data set. \n",
    "- The `names` DataFrame has columns named `name` and `sex`, where `name` is a string representing a baby name and `sex` is a string representing the baby's sex ('M' for male and 'F' for female).\n"
   ]
  },
  {
   "cell_type": "code",
   "execution_count": 58,
   "id": "54213213-d161-419c-89cb-65756312d939",
   "metadata": {
    "deletable": false,
    "nbgrader": {
     "cell_type": "code",
     "checksum": "a54f2ad4beab8b820d0836d9f1cfaa73",
     "grade": false,
     "grade_id": "Q1b-code",
     "locked": false,
     "schema_version": 3,
     "solution": true,
     "task": false
    },
    "tags": []
   },
   "outputs": [],
   "source": [
    "def number_unique_female_names(names: pd.DataFrame) -> int:\n",
    "# YOUR CODE HERE\n",
    "    female_names = names[names['sex'] == 'F']['name']\n",
    "    return len(set(female_names))\n",
    "\n",
    "#raise NotImplementedError()"
   ]
  },
  {
   "cell_type": "code",
   "execution_count": 59,
   "id": "8c1f8776-0b75-4c1d-806c-d937138bd07d",
   "metadata": {
    "deletable": false,
    "editable": false,
    "nbgrader": {
     "cell_type": "code",
     "checksum": "89567202b48b23526dcfdf4dfee1e0b0",
     "grade": true,
     "grade_id": "Q1b-test",
     "locked": true,
     "points": 2,
     "schema_version": 3,
     "solution": false,
     "task": false
    },
    "tags": []
   },
   "outputs": [],
   "source": [
    "assert_equal(number_unique_female_names(names[:5]), 5)\n",
    "assert_equal(number_unique_female_names(names[:50001]), 25723)\n"
   ]
  },
  {
   "cell_type": "markdown",
   "id": "cc0dfd5b-d3ed-474e-a9ae-cf3657852625",
   "metadata": {
    "deletable": false,
    "editable": false,
    "nbgrader": {
     "cell_type": "markdown",
     "checksum": "34e96d6218c3eac5bdb77b44e8aea016",
     "grade": false,
     "grade_id": "Q1c-task",
     "locked": true,
     "schema_version": 3,
     "solution": false,
     "task": false
    },
    "tags": []
   },
   "source": [
    "## `most_popular_male_name_by_year` (2 points)\n",
    "-  Write a function called `most_popular_male_name_by_year` that takes two arguments: a `names` dataframe and an integer called `year`. \n",
    "- The function should return the most popular (i.e., highest birth count) male name for the given year. "
   ]
  },
  {
   "cell_type": "code",
   "execution_count": 8,
   "id": "8e96b0bd-d228-4cdd-92db-ebac48c99a5c",
   "metadata": {
    "deletable": false,
    "nbgrader": {
     "cell_type": "code",
     "checksum": "a3b78110dc2ec58442d51e5c78bfc02d",
     "grade": false,
     "grade_id": "Q1c-code",
     "locked": false,
     "schema_version": 3,
     "solution": true,
     "task": false
    },
    "tags": []
   },
   "outputs": [],
   "source": [
    "def most_popular_male_name_by_year(names: pd.DataFrame, year: int) -> str:\n",
    "# YOUR CODE HERE\n",
    "    year = names[(names['sex'] == 'M') & (names['year'] == year)]\n",
    "    most_popular_male_name = year.loc[year['births'].idxmax(),'name']\n",
    "    return most_popular_male_name\n",
    "\n",
    "#raise NotImplementedError()"
   ]
  },
  {
   "cell_type": "code",
   "execution_count": 9,
   "id": "2be2fc30-1cc5-4f5c-8d3d-7ed2b68422f6",
   "metadata": {
    "deletable": false,
    "editable": false,
    "nbgrader": {
     "cell_type": "code",
     "checksum": "a8555afb854ba017d986acd4be6dce9a",
     "grade": true,
     "grade_id": "Q1c-test",
     "locked": true,
     "points": 2,
     "schema_version": 3,
     "solution": false,
     "task": false
    },
    "tags": []
   },
   "outputs": [],
   "source": [
    "assert_equal(most_popular_male_name_by_year(names, 2000), 'Jacob')\n",
    "assert_equal(most_popular_male_name_by_year(names, 2021), 'Liam')"
   ]
  },
  {
   "cell_type": "markdown",
   "id": "619e3ed6-7f52-478c-b001-89ab51f5e6e4",
   "metadata": {
    "deletable": false,
    "editable": false,
    "nbgrader": {
     "cell_type": "markdown",
     "checksum": "9aef5d690a3953d0ef5d1c3088bc1c4b",
     "grade": false,
     "grade_id": "Q1d-task",
     "locked": true,
     "schema_version": 3,
     "solution": false,
     "task": false
    },
    "tags": []
   },
   "source": [
    "## `births_year` (2 points)\n",
    "- Write a function called `births_per_year` that takes two arguments: a `names` dataframe and an integer called `year`.\n",
    "- The function should return the number of births for the given year."
   ]
  },
  {
   "cell_type": "code",
   "execution_count": 10,
   "id": "bb916a4d-af02-4d60-ba1c-86258705f30a",
   "metadata": {
    "deletable": false,
    "nbgrader": {
     "cell_type": "code",
     "checksum": "2fb05683f7602e085f8d564da1acb8a3",
     "grade": false,
     "grade_id": "Q1d-code",
     "locked": false,
     "schema_version": 3,
     "solution": true,
     "task": false
    },
    "tags": []
   },
   "outputs": [],
   "source": [
    "def births_year(names: pd.DataFrame, year: int) -> int:\n",
    "# YOUR CODE HERE\n",
    "    given_year = names[names['year'] == year]\n",
    "    num_births = given_year['births'].sum()\n",
    "    return num_births\n",
    "#raise NotImplementedError()"
   ]
  },
  {
   "cell_type": "code",
   "execution_count": 11,
   "id": "9d5f309c-b7f3-474c-9e22-59eff73c0678",
   "metadata": {
    "deletable": false,
    "editable": false,
    "nbgrader": {
     "cell_type": "code",
     "checksum": "0162da6ceae0b917a9147f7795024a14",
     "grade": true,
     "grade_id": "Q1d-test",
     "locked": true,
     "points": 2,
     "schema_version": 3,
     "solution": false,
     "task": false
    },
    "tags": []
   },
   "outputs": [],
   "source": [
    "assert_equal(births_year(names, 2000), 3779380)"
   ]
  },
  {
   "cell_type": "markdown",
   "id": "a2225829-b8dc-432d-abf8-35e39965d582",
   "metadata": {
    "deletable": false,
    "editable": false,
    "nbgrader": {
     "cell_type": "markdown",
     "checksum": "e7a799680e967caa2a8b72b92bb31b23",
     "grade": false,
     "grade_id": "Q1e-task",
     "locked": true,
     "schema_version": 3,
     "solution": false,
     "task": false
    },
    "tags": []
   },
   "source": [
    "## `difference_female_male_births` (4 points)\n",
    "- Write a function called `difference_female_male_births` that takes two arguments: a `names` dataframe and an integer called `year`.\n",
    "- The function should return the difference in the number of female and male births for a given year.\n",
    "- The difference should be equal to the number female births minus the number of male births."
   ]
  },
  {
   "cell_type": "code",
   "execution_count": 12,
   "id": "0303595c-f3a2-4989-88b3-bb1b76bd53e3",
   "metadata": {
    "deletable": false,
    "nbgrader": {
     "cell_type": "code",
     "checksum": "9267711737dd773c24260292088a58d8",
     "grade": false,
     "grade_id": "Q1e-code",
     "locked": false,
     "schema_version": 3,
     "solution": true,
     "task": false
    },
    "tags": []
   },
   "outputs": [],
   "source": [
    "def difference_female_male_births(names: pd.DataFrame, year: int):\n",
    "# YOUR CODE HERE\n",
    "    female_births = names[(names['sex'] == 'F')&(names['year'] == year)]['births'].sum()\n",
    "    male_births = names[(names['sex'] == 'M')&(names['year'] == year)]['births'].sum()\n",
    "    return female_births-male_births\n",
    "#raise NotImplementedError()"
   ]
  },
  {
   "cell_type": "code",
   "execution_count": 13,
   "id": "1a7934df-0a7a-48f2-a8f7-40af1b152998",
   "metadata": {
    "deletable": false,
    "editable": false,
    "nbgrader": {
     "cell_type": "code",
     "checksum": "d67d111c2cfc4ad9db30b569fa8fed00",
     "grade": true,
     "grade_id": "Q1e-test",
     "locked": true,
     "points": 4,
     "schema_version": 3,
     "solution": false,
     "task": false
    },
    "tags": []
   },
   "outputs": [],
   "source": [
    "assert_equal(difference_female_male_births(names, 2000), -147960)"
   ]
  },
  {
   "cell_type": "markdown",
   "id": "fd6935e5-8b3a-477b-8b8f-5ce487eac2d5",
   "metadata": {
    "deletable": false,
    "editable": false,
    "nbgrader": {
     "cell_type": "markdown",
     "checksum": "04ba594747094d9b1fc688b4a92f2109",
     "grade": false,
     "grade_id": "Q1f-task",
     "locked": true,
     "schema_version": 3,
     "solution": false,
     "task": false
    },
    "tags": []
   },
   "source": [
    "## `last_letter_popularity` (6 points)\n",
    "According to baby name researcher Laura Wattenberg, the distribution of male names has changed significantly over the last years. \n",
    "In particular, male names ending with the letter 'n' have become extremely popular in recent decades [(1)](https://qz.com/1278574/a-large-share-of-us-baby-names-end-with-n-for-some-reason/), whereas names ending with 'd' and 'y' have become less popular.\n",
    "    \n",
    "- Write a function named `last_letter_popularity` that takes three arguments: a `names` dataframe, a list of `years` and a string called `letter`.\n",
    "- The function should return the fraction of births of males that have a name that ends with the given letter relative to the total number of male births over all considered years. \n",
    "- Round the fraction to three decimals places."
   ]
  },
  {
   "cell_type": "code",
   "execution_count": 14,
   "id": "2f589fa1-4d52-440e-98a2-78678bf875f9",
   "metadata": {
    "deletable": false,
    "nbgrader": {
     "cell_type": "code",
     "checksum": "fcc4e1ae7e6918a3fcc252bf2451ac18",
     "grade": false,
     "grade_id": "Q1f-code",
     "locked": false,
     "schema_version": 3,
     "solution": true,
     "task": false
    },
    "tags": []
   },
   "outputs": [],
   "source": [
    "def last_letter_popularity(names: pd.DataFrame, years: List[int], letter: str) -> float:\n",
    "# YOUR CODE HERE\n",
    "    male_names = names[(names['sex'] == 'M')&(names['year'].isin(years))]\n",
    "    sum_male_births = male_names['births'].sum()\n",
    "    names_ending = male_names[male_names['name'].str.endswith(letter)]\n",
    "    births_ending = names_ending['births'].sum()\n",
    "    return round(births_ending / sum_male_births, 3)\n",
    "#raise NotImplementedError()"
   ]
  },
  {
   "cell_type": "code",
   "execution_count": 15,
   "id": "553790c3-1b36-47b3-bb4b-e61356c3319f",
   "metadata": {
    "deletable": false,
    "editable": false,
    "nbgrader": {
     "cell_type": "code",
     "checksum": "2ccf3fa7a96fc519825441597875f6f0",
     "grade": true,
     "grade_id": "Q1f-test",
     "locked": true,
     "points": 6,
     "schema_version": 3,
     "solution": false,
     "task": false
    },
    "tags": []
   },
   "outputs": [],
   "source": [
    "one_year = list(range(2000, 2001))\n",
    "one_decade = list(range(2000, 2010))\n",
    "two_decades = list(range(2000, 2020))\n",
    "\n",
    "assert_equal(last_letter_popularity(names, one_year, 'd'),  0.033)\n",
    "assert_equal(last_letter_popularity(names, one_decade, 'd'),  0.027)\n",
    "assert_equal(last_letter_popularity(names, two_decades, 'd'),  0.025)\n"
   ]
  },
  {
   "cell_type": "markdown",
   "id": "1513514b-1304-4654-817c-0f380f313f68",
   "metadata": {
    "deletable": false,
    "editable": false,
    "nbgrader": {
     "cell_type": "markdown",
     "checksum": "8bcae4da503ce1fbabdc9682137994c2",
     "grade": false,
     "grade_id": "Q2",
     "locked": true,
     "schema_version": 3,
     "solution": false,
     "task": false
    },
    "tags": []
   },
   "source": [
    "# Exercise 2: Movielens (36 points)\n",
    "[Movielens](https://grouplens.org/datasets/movielens/) is a well-known data set for movie ratings. We have stored the classic 100K Movielens data in the `data/movielens/` directory. Here are brief descriptions of the data.\n",
    "- `u.data`: The user rating data set, 100000 ratings by 943 users on 1682 items. Each user has rated at least 20 movies.  Users and items are numbered consecutively from 1.  The data is randomly ordered. This is a tab separated list of user id | item id | rating | timestamp. The time stamps are unix seconds since 1/1/1970 UTC\n",
    "\n",
    "- `u.user`: Demographic information about the users; this is a tab separated list of user id | age | gender | occupation | zip code The user ids are the ones used in the u.data data set.\n",
    "\n",
    "- `u.item`: Information about the items (movies); this is a tab separated list of movie id | movie title | release date | video release date | IMDb URL | unknown | Action | Adventure | Animation | Children's | Comedy | Crime | Documentary | Drama | Fantasy | Film-Noir | Horror | Musical | Mystery | Romance | Sci-Fi | Thriller | War | Western | The last 19 fields are the genres, a 1 indicates the movie is of that genre, a 0 indicates it is not; movies can be in several genres at once. The movie ids are the ones used in the u.data data set.\n",
    "\n",
    "\n",
    "The goal of this assignment is to analyze the provided Movielens data sets. This exercise consists of eight questions. To help you start, the code below loads each file as dataframe."
   ]
  },
  {
   "cell_type": "code",
   "execution_count": 16,
   "id": "77da7758-a95b-4d62-8b0b-53af37ca82fb",
   "metadata": {
    "deletable": false,
    "editable": false,
    "nbgrader": {
     "cell_type": "code",
     "checksum": "a6a961a1b93cf1d6caed2ca6ffbf72ea",
     "grade": false,
     "grade_id": "Q2-initialize",
     "locked": true,
     "schema_version": 3,
     "solution": false,
     "task": false
    },
    "tags": []
   },
   "outputs": [],
   "source": [
    "data_dir = 'data/movielens/'\n",
    "\n",
    "CATEGORIES = [\"Action\", \"Adventure\", \"Animation\", \"Children's\", \"Comedy\", \"Crime\", \"Documentary\", \"Drama\", \"Fantasy\", \"Film-Noir\", \"Horror\", \"Musical\", \"Mystery\", \"Romance\", \"Sci-Fi\", \"Thriller\", \"War\", \"Western\"]\n",
    "movie_headers = [\"movie id\", \"movie title\", \"release date\", \"video release date\", \"IMDb URL\", \"unknown\"] + CATEGORIES\n",
    "\n",
    "ratings = pd.read_csv(data_dir + 'u.data', sep='\\t', names=['user_id', 'item_id', 'rating', 'timestamp'])\n",
    "users = pd.read_csv(data_dir + 'u.user', sep='|', names=['age', 'gender', 'occupation', 'zip code'])\n",
    "movies = pd.read_csv(data_dir + 'u.item', sep='|', index_col=0, encoding='latin-1', names=movie_headers)"
   ]
  },
  {
   "cell_type": "markdown",
   "id": "1510f742-8d7b-4beb-9a64-6da27c8b3b2c",
   "metadata": {
    "deletable": false,
    "editable": false,
    "nbgrader": {
     "cell_type": "markdown",
     "checksum": "210fc758c3755763d1c51628092e5947",
     "grade": false,
     "grade_id": "Q2a-task",
     "locked": true,
     "schema_version": 3,
     "solution": false,
     "task": false
    },
    "tags": []
   },
   "source": [
    "## `num_ratings` (2 points)\n",
    "-  Write a function called `num_ratings` that takes a DataFrame of ratings as input.\n",
    "- The function should return the number of ratings in the list as an integer."
   ]
  },
  {
   "cell_type": "code",
   "execution_count": 17,
   "id": "0b6786a7-772a-42ef-94d9-99e466ad8061",
   "metadata": {
    "deletable": false,
    "nbgrader": {
     "cell_type": "code",
     "checksum": "f7708d39e0706a1e38ce351da7aecdd3",
     "grade": false,
     "grade_id": "Q2a-code",
     "locked": false,
     "schema_version": 3,
     "solution": true,
     "task": false
    },
    "tags": []
   },
   "outputs": [],
   "source": [
    "def num_ratings(ratings: pd.DataFrame):\n",
    "# YOUR CODE HERE\n",
    "    num_ratings = ratings.shape[0]\n",
    "    return num_ratings\n",
    "#raise NotImplementedError()"
   ]
  },
  {
   "cell_type": "code",
   "execution_count": 18,
   "id": "8fee8f8d-7bc4-48ed-bf74-94f054fbddf0",
   "metadata": {
    "deletable": false,
    "editable": false,
    "nbgrader": {
     "cell_type": "code",
     "checksum": "fa8743055d5ff6ab8a9b977111485a9f",
     "grade": true,
     "grade_id": "Q2a-test",
     "locked": true,
     "points": 2,
     "schema_version": 3,
     "solution": false,
     "task": false
    },
    "tags": []
   },
   "outputs": [],
   "source": [
    "assert_equal(num_ratings(ratings[:100]), 100)"
   ]
  },
  {
   "cell_type": "markdown",
   "id": "d3402e90-248e-428b-8602-d177f73ab0b4",
   "metadata": {
    "deletable": false,
    "editable": false,
    "nbgrader": {
     "cell_type": "markdown",
     "checksum": "2af1878af916e68b85763b47a7b71733",
     "grade": false,
     "grade_id": "Q2b-task",
     "locked": true,
     "schema_version": 3,
     "solution": false,
     "task": false
    },
    "tags": []
   },
   "source": [
    "## `stats_ratings` (2 points)\n",
    "- Write a function called `stats_ratings` that takes a list of ratings as input.\n",
    "- The function should return a tuple containing the average and standard deviation of ratings as floats.\n",
    "- The average and standard deviation should be rounded to two decimal places.\n",
    "- Use the `pd.DataFrame.describe` method to obtain the mean and standard deviation."
   ]
  },
  {
   "cell_type": "code",
   "execution_count": 19,
   "id": "03fda403-eb4e-4fb3-8737-d06b5af5ae0c",
   "metadata": {
    "deletable": false,
    "nbgrader": {
     "cell_type": "code",
     "checksum": "bf95e104fedc42473f33ce067592aed1",
     "grade": false,
     "grade_id": "Q2b-code",
     "locked": false,
     "schema_version": 3,
     "solution": true,
     "task": false
    },
    "tags": []
   },
   "outputs": [],
   "source": [
    "def stats_ratings(ratings: pd.DataFrame):\n",
    "# YOUR CODE HERE\n",
    "    ratings_df = pd.DataFrame(ratings, columns=['rating'])\n",
    "    stats = ratings_df.describe()\n",
    "    avg = round(stats.loc['mean', 'rating'], 2)\n",
    "    std_dev = round(stats.loc['std', 'rating'], 2)\n",
    "    return avg, std_dev\n",
    "#raise NotImplementedError()"
   ]
  },
  {
   "cell_type": "code",
   "execution_count": 20,
   "id": "b9bab66d-1c09-4e20-a03f-db826273debc",
   "metadata": {
    "deletable": false,
    "editable": false,
    "nbgrader": {
     "cell_type": "code",
     "checksum": "228521ba74f3c748c3263879bfbdb8d1",
     "grade": true,
     "grade_id": "Q2b-test",
     "locked": true,
     "points": 2,
     "schema_version": 3,
     "solution": false,
     "task": false
    },
    "tags": []
   },
   "outputs": [],
   "source": [
    "assert_equal(stats_ratings(ratings[:10]), (2.70, 1.25))"
   ]
  },
  {
   "cell_type": "markdown",
   "id": "da8ccb5b-cfd5-4b31-913a-3b7ddeb250e0",
   "metadata": {
    "deletable": false,
    "editable": false,
    "nbgrader": {
     "cell_type": "markdown",
     "checksum": "2f782095dcff7186dd15bdaa6998a1ab",
     "grade": false,
     "grade_id": "Q2c-task",
     "locked": true,
     "schema_version": 3,
     "solution": false,
     "task": false
    },
    "tags": []
   },
   "source": [
    "## ``num_ratings_user`` (2 points)\n",
    "- Write a function called `num_ratings_user` that takes a list of ratings and a `user_id` as inputs.\n",
    "- The function should return the number of ratings that the provided user has made.\n",
    "- The number of ratings should be returned as an integer."
   ]
  },
  {
   "cell_type": "code",
   "execution_count": 21,
   "id": "94ba4305-747a-45c7-8823-6a44fdab2da2",
   "metadata": {
    "deletable": false,
    "nbgrader": {
     "cell_type": "code",
     "checksum": "e1549c5605d09807bc899902aa920477",
     "grade": false,
     "grade_id": "Q2c-code",
     "locked": false,
     "schema_version": 3,
     "solution": true,
     "task": false
    },
    "tags": []
   },
   "outputs": [],
   "source": [
    "def num_ratings_user(ratings: pd.DataFrame, user_id: int):\n",
    "# YOUR CODE HERE\n",
    "    return (ratings['user_id']==user_id).sum()    \n",
    "#raise NotImplementedError()"
   ]
  },
  {
   "cell_type": "code",
   "execution_count": 22,
   "id": "97803a98-44d0-4afe-b4cc-bb24d0fb3a46",
   "metadata": {
    "deletable": false,
    "editable": false,
    "nbgrader": {
     "cell_type": "code",
     "checksum": "dfb9187d7fee98bceadfe0d51bb9b6a4",
     "grade": true,
     "grade_id": "Q2c-test",
     "locked": true,
     "points": 2,
     "schema_version": 3,
     "solution": false,
     "task": false
    },
    "tags": []
   },
   "outputs": [],
   "source": [
    "assert_equal(num_ratings_user(ratings, 13), 636)"
   ]
  },
  {
   "cell_type": "markdown",
   "id": "43e9a480-1400-4e91-8683-4e7c9b5726a1",
   "metadata": {
    "deletable": false,
    "editable": false,
    "nbgrader": {
     "cell_type": "markdown",
     "checksum": "32e13712585698a1b91a3389c41f29dc",
     "grade": false,
     "grade_id": "Q2d-task",
     "locked": true,
     "schema_version": 3,
     "solution": false,
     "task": false
    },
    "tags": []
   },
   "source": [
    "## ``average_per_category`` (6 points)\n",
    "- Write a function called `average_per_category` that takes three inputs: a ratings DataFrame and a movies DataFrame, and a category. \n",
    "- The function should return the average rating for all movies in the given category.\n",
    "- The average rating should be rounded to two decimal places."
   ]
  },
  {
   "cell_type": "code",
   "execution_count": 23,
   "id": "63482861-7d5e-41d2-bfe2-d92fcf42d97a",
   "metadata": {
    "deletable": false,
    "nbgrader": {
     "cell_type": "code",
     "checksum": "c551d06ccc21568feb4465c91e83d80e",
     "grade": false,
     "grade_id": "Q2d-code",
     "locked": false,
     "schema_version": 3,
     "solution": true,
     "task": false
    },
    "tags": []
   },
   "outputs": [],
   "source": [
    "def average_per_category(ratings: pd.DataFrame, movies: pd.DataFrame, category: str):\n",
    "# YOUR CODE HERE\n",
    "    category_movies = movies[movies[category]==1].index\n",
    "    mean = ratings[ratings['item_id'].isin(category_movies)]['rating'].describe()['mean']\n",
    "    return round(mean, 2)\n",
    "\n",
    "#raise NotImplementedError()"
   ]
  },
  {
   "cell_type": "code",
   "execution_count": 24,
   "id": "59fed564-1117-42a4-9d04-a1ce3fceafd8",
   "metadata": {
    "deletable": false,
    "editable": false,
    "nbgrader": {
     "cell_type": "code",
     "checksum": "9968cef0e88109b16c1900eec61840a8",
     "grade": true,
     "grade_id": "Q2d-test",
     "locked": true,
     "points": 6,
     "schema_version": 3,
     "solution": false,
     "task": false
    },
    "tags": []
   },
   "outputs": [],
   "source": [
    "assert_equal(average_per_category(ratings, movies, 'Fantasy'), 3.22)"
   ]
  },
  {
   "cell_type": "markdown",
   "id": "b836471b-8378-4284-a9cd-6f338314de13",
   "metadata": {
    "deletable": false,
    "editable": false,
    "nbgrader": {
     "cell_type": "markdown",
     "checksum": "7550047d489b2c8fc831c8ead8100bc7",
     "grade": false,
     "grade_id": "Q2e-task",
     "locked": true,
     "schema_version": 3,
     "solution": false,
     "task": false
    },
    "tags": []
   },
   "source": [
    "## `most_rated_category_by_occupation` (6 points)\n",
    "- Write a function called `most_rated_category_by_occupation` that takes four inputs: a ratings DataFrame, a users DataFrame, a movies DataFrame, and a user's occupation as string.\n",
    "- The function should return the top 5 most rated movie categories for users that belong to the given occupation.\n",
    "- The returned value should be a list of the top 5 categories in order of decreasing popularity."
   ]
  },
  {
   "cell_type": "code",
   "execution_count": 25,
   "id": "36faca75-bea4-41db-b263-ae2e12d6503b",
   "metadata": {
    "deletable": false,
    "nbgrader": {
     "cell_type": "code",
     "checksum": "0a65e5b10f1792f6bb95546b1d147e3d",
     "grade": false,
     "grade_id": "Q2e-code",
     "locked": false,
     "schema_version": 3,
     "solution": true,
     "task": false
    },
    "tags": []
   },
   "outputs": [],
   "source": [
    "def most_rated_category_by_occupation(ratings: pd.DataFrame, users: pd.DataFrame, movies: pd.DataFrame, occupation: str):\n",
    "# YOUR CODE HERE\n",
    "    category_counts = {}\n",
    "    top_five_categories = []\n",
    "    users_occupation = users[users['occupation'] == occupation]\n",
    "    ratings_occupation =ratings[ratings['user_id'].isin(users_occupation.index)]\n",
    "    for category in movies.columns:\n",
    "        # filter by category\n",
    "        movies_category = movies[movies[category] == 1]\n",
    "        # count number of ratings for people with occupation\n",
    "        category_count = ratings_occupation[ratings_occupation['item_id'].isin(movies_category.index)].shape[0]\n",
    "        category_counts[category] = category_count\n",
    "    # return top five categories \n",
    "    for _ in range(5):\n",
    "        max_category = max(category_counts, key=category_counts.get)\n",
    "        top_five_categories.append(max_category)\n",
    "        del category_counts[max_category]\n",
    "    return top_five_categories\n",
    "\n",
    "#raise NotImplementedError()"
   ]
  },
  {
   "cell_type": "code",
   "execution_count": 26,
   "id": "fb96230e-ea22-46f8-a15b-7b206d979621",
   "metadata": {
    "deletable": false,
    "editable": false,
    "nbgrader": {
     "cell_type": "code",
     "checksum": "b6f74eebf5a91de4348e6068c3ece11b",
     "grade": true,
     "grade_id": "Q2e-test",
     "locked": true,
     "points": 6,
     "schema_version": 3,
     "solution": false,
     "task": false
    },
    "tags": []
   },
   "outputs": [],
   "source": [
    "assert_equal(most_rated_category_by_occupation(ratings[:1000], users, movies, 'engineer'), ['Action', 'Comedy', 'Romance', 'Drama', 'Thriller'])\n"
   ]
  },
  {
   "cell_type": "markdown",
   "id": "f379c2c6-14bb-4edb-8695-5dc3b706a946",
   "metadata": {
    "deletable": false,
    "editable": false,
    "nbgrader": {
     "cell_type": "markdown",
     "checksum": "cce5eabb7e4b3c9ff975c36e9ee3f8c5",
     "grade": false,
     "grade_id": "Q2f-task",
     "locked": true,
     "schema_version": 3,
     "solution": false,
     "task": false
    },
    "tags": []
   },
   "source": [
    "## `highest_rated_movie` (4 points)\n",
    "- Write a function called `highest_rated_movie` that takes three inputs: a ratings DataFrame and a movies DataFrame, and an integer `min_n`.\n",
    "- The function should return the name of the movie with the highest average rating with at least `min_n` ratings.\n",
    "- The movie title returned should be in the format of \"Movie Title (Release Year)\", for example, \"Toy Story (1995)\"."
   ]
  },
  {
   "cell_type": "code",
   "execution_count": 27,
   "id": "f70c30bb-eb17-4b01-852a-5edd66d5f159",
   "metadata": {
    "deletable": false,
    "nbgrader": {
     "cell_type": "code",
     "checksum": "2e57f4f5d133b8e3edc0737ef6265acc",
     "grade": false,
     "grade_id": "Q2f-code",
     "locked": false,
     "schema_version": 3,
     "solution": true,
     "task": false
    },
    "tags": []
   },
   "outputs": [],
   "source": [
    "def highest_rated_movie(ratings, movies, min_n):\n",
    "    num_ratings = ratings.groupby('item_id').size()\n",
    "    #filter movies \n",
    "    indices = num_ratings >= min_n\n",
    "    #take average\n",
    "    avg_ratings = ratings.groupby('item_id')['rating'].mean()\n",
    "    highest_rated_movie = avg_ratings[indices].idxmax()\n",
    "    return movies['movie title'].loc[highest_rated_movie]\n",
    "    \n",
    "# YOUR CODE HERE\n",
    "#raise NotImplementedError()"
   ]
  },
  {
   "cell_type": "code",
   "execution_count": 28,
   "id": "eda83419-69e3-4889-8dda-852f2d7c31c5",
   "metadata": {
    "deletable": false,
    "editable": false,
    "nbgrader": {
     "cell_type": "code",
     "checksum": "3ce420c81d0c29c5946a06e7fa7dfefa",
     "grade": true,
     "grade_id": "Q2f-test",
     "locked": true,
     "points": 4,
     "schema_version": 3,
     "solution": false,
     "task": false
    },
    "tags": []
   },
   "outputs": [],
   "source": [
    "assert_equal(highest_rated_movie(ratings[:100], movies, min_n=3), \"Sabrina (1995)\")\n"
   ]
  },
  {
   "cell_type": "markdown",
   "id": "eac1b23c-be20-4ce9-92fb-a4eaad21cc2b",
   "metadata": {
    "deletable": false,
    "editable": false,
    "nbgrader": {
     "cell_type": "markdown",
     "checksum": "d5f7b808393297cf672b37c15ecf2347",
     "grade": false,
     "grade_id": "Q2g-task",
     "locked": true,
     "schema_version": 3,
     "solution": false,
     "task": false
    },
    "tags": []
   },
   "source": [
    "## `mismatched_release_date` (8 points)\n",
    "\n",
    "All movie titles contain the year of release, e.g., Toy Story (1995).\n",
    "However, if you pay close attention to some of the movie titles, you will notice that\n",
    "these years do not always match the values in the \"release date\" column.\n",
    "For example, the last movie is \"Scream of Stone (Schrei aus Stein) (1991)\"\n",
    "whereas the value in the \"release date\" column is 08-Mar-1996.\n",
    "\n",
    "-  Write a function called `mismatched_release_date` that takes a movies DataFrame as input.\n",
    "- The function should return the number of movies where the year in the movie title does not match the year in the `release date` column.\n",
    "- If a movie title name does not contain a release date, or if the release\n",
    "  date column is empty, then you should ignore the corresponding row entry.\n",
    "- Hint: You may assume that every movie title ends with \"(YEAR)\".\n"
   ]
  },
  {
   "cell_type": "code",
   "execution_count": 29,
   "id": "785f3b7c-acdc-4f76-9206-94ee7e3af5d9",
   "metadata": {
    "deletable": false,
    "nbgrader": {
     "cell_type": "code",
     "checksum": "335fab4d7433fdbda92d4e7f7e05020e",
     "grade": false,
     "grade_id": "Q2g-code",
     "locked": false,
     "schema_version": 3,
     "solution": true,
     "task": false
    },
    "tags": []
   },
   "outputs": [],
   "source": [
    "def mismatched_release_date(movies: pd.DataFrame):\n",
    "    count = 0\n",
    "    for i, row in movies.iterrows():\n",
    "        movie_title = row['movie title']\n",
    "        release_date = row['release date']\n",
    "        # check if release date missing or title doesnt end with )\n",
    "        if pd.isnull(release_date) or not movie_title.endswith(')'):\n",
    "            continue\n",
    "        #take year from title and date\n",
    "        year_title = movie_title[-5:-1]\n",
    "        year_release_date = release_date[-4:]\n",
    "        # if mismatch increment the count by 1\n",
    "        if year_title!= year_release_date:\n",
    "            count += 1\n",
    "    return count\n",
    "\n",
    "# YOUR CODE HERE\n",
    "#raise NotImplementedError()"
   ]
  },
  {
   "cell_type": "code",
   "execution_count": 30,
   "id": "8add9289-241d-48c4-ad6d-6d6426abb9e5",
   "metadata": {
    "deletable": false,
    "editable": false,
    "nbgrader": {
     "cell_type": "code",
     "checksum": "6c53d97544afc44bb0fe54d2437a1708",
     "grade": true,
     "grade_id": "Q2g-test",
     "locked": true,
     "points": 8,
     "schema_version": 3,
     "solution": false,
     "task": false
    },
    "tags": []
   },
   "outputs": [],
   "source": [
    "assert_equal(mismatched_release_date(movies[:20]), 2)\n"
   ]
  },
  {
   "cell_type": "markdown",
   "id": "5d37b86a",
   "metadata": {
    "deletable": false,
    "editable": false,
    "nbgrader": {
     "cell_type": "markdown",
     "checksum": "b0444a1bea8dc9fdbc56a0c32d915439",
     "grade": false,
     "grade_id": "Q2h-task",
     "locked": true,
     "schema_version": 3,
     "solution": false,
     "task": false
    },
    "tags": []
   },
   "source": [
    "## `one_hot_encoding` (6 points)\n",
    "In the `movies` dataframe, all movie genres are one-hot encoded. In more recent versions of the movielens data set, the genres are no longer one-hot encoded, see the `new_movies` dataframe below.\n",
    "\n",
    "Here is a description of the data set:\n",
    "```\n",
    "Movies Data File Structure (movies.csv)\n",
    "---------------------------------------\n",
    "\n",
    "Movie information is contained in the file `movies.csv`. Each line of this file after the header row represents one movie, and has the following format:\n",
    "\n",
    "    movieId,title,genres\n",
    "\n",
    "Movie titles are entered manually or imported from <https://www.themoviedb.org/>, and include the year of release in parentheses. Errors and inconsistencies may exist in these titles.\n",
    "\n",
    "Genres are a pipe-separated list.\n",
    "```"
   ]
  },
  {
   "cell_type": "code",
   "execution_count": 31,
   "id": "e7e4dfaa",
   "metadata": {
    "deletable": false,
    "editable": false,
    "nbgrader": {
     "cell_type": "code",
     "checksum": "9397a4e960c2962692db2bb619f0f323",
     "grade": false,
     "grade_id": "Q2h-initialize",
     "locked": true,
     "schema_version": 3,
     "solution": false,
     "task": false
    },
    "tags": []
   },
   "outputs": [
    {
     "data": {
      "text/html": [
       "<div>\n",
       "<style scoped>\n",
       "    .dataframe tbody tr th:only-of-type {\n",
       "        vertical-align: middle;\n",
       "    }\n",
       "\n",
       "    .dataframe tbody tr th {\n",
       "        vertical-align: top;\n",
       "    }\n",
       "\n",
       "    .dataframe thead th {\n",
       "        text-align: right;\n",
       "    }\n",
       "</style>\n",
       "<table border=\"1\" class=\"dataframe\">\n",
       "  <thead>\n",
       "    <tr style=\"text-align: right;\">\n",
       "      <th></th>\n",
       "      <th>title</th>\n",
       "      <th>genres</th>\n",
       "    </tr>\n",
       "    <tr>\n",
       "      <th>movieId</th>\n",
       "      <th></th>\n",
       "      <th></th>\n",
       "    </tr>\n",
       "  </thead>\n",
       "  <tbody>\n",
       "    <tr>\n",
       "      <th>1</th>\n",
       "      <td>Toy Story (1995)</td>\n",
       "      <td>Adventure|Animation|Children|Comedy|Fantasy</td>\n",
       "    </tr>\n",
       "    <tr>\n",
       "      <th>2</th>\n",
       "      <td>Jumanji (1995)</td>\n",
       "      <td>Adventure|Children|Fantasy</td>\n",
       "    </tr>\n",
       "    <tr>\n",
       "      <th>3</th>\n",
       "      <td>Grumpier Old Men (1995)</td>\n",
       "      <td>Comedy|Romance</td>\n",
       "    </tr>\n",
       "    <tr>\n",
       "      <th>4</th>\n",
       "      <td>Waiting to Exhale (1995)</td>\n",
       "      <td>Comedy|Drama|Romance</td>\n",
       "    </tr>\n",
       "    <tr>\n",
       "      <th>5</th>\n",
       "      <td>Father of the Bride Part II (1995)</td>\n",
       "      <td>Comedy</td>\n",
       "    </tr>\n",
       "  </tbody>\n",
       "</table>\n",
       "</div>"
      ],
      "text/plain": [
       "                                      title  \\\n",
       "movieId                                       \n",
       "1                          Toy Story (1995)   \n",
       "2                            Jumanji (1995)   \n",
       "3                   Grumpier Old Men (1995)   \n",
       "4                  Waiting to Exhale (1995)   \n",
       "5        Father of the Bride Part II (1995)   \n",
       "\n",
       "                                              genres  \n",
       "movieId                                               \n",
       "1        Adventure|Animation|Children|Comedy|Fantasy  \n",
       "2                         Adventure|Children|Fantasy  \n",
       "3                                     Comedy|Romance  \n",
       "4                               Comedy|Drama|Romance  \n",
       "5                                             Comedy  "
      ]
     },
     "execution_count": 31,
     "metadata": {},
     "output_type": "execute_result"
    }
   ],
   "source": [
    "new_movies = pd.read_csv('data/movielens/new_movies.csv', index_col='movieId')\n",
    "new_movies.head()"
   ]
  },
  {
   "cell_type": "markdown",
   "id": "c771a7d5",
   "metadata": {
    "deletable": false,
    "editable": false,
    "nbgrader": {
     "cell_type": "markdown",
     "checksum": "5bc2e2a104588db8e7a6bc0642bd787c",
     "grade": false,
     "grade_id": "Q2h-task-p2",
     "locked": true,
     "schema_version": 3,
     "solution": false,
     "task": false
    },
    "tags": []
   },
   "source": [
    "- Write a function `one_hot_encode` that takes the new movies dataframe as input and one-hot encodes the genres.\n",
    "- The function should return a dataframe that contains a column for each movie genre, and a binary value (0 or 1) to indicate whether the movie belongs to this genre."
   ]
  },
  {
   "cell_type": "code",
   "execution_count": 32,
   "id": "e5ee508d",
   "metadata": {
    "deletable": false,
    "nbgrader": {
     "cell_type": "code",
     "checksum": "91f8ea5aaded00c245cece7c102a52a8",
     "grade": false,
     "grade_id": "Q2h-code",
     "locked": false,
     "schema_version": 3,
     "solution": true,
     "task": false
    },
    "tags": []
   },
   "outputs": [],
   "source": [
    "def one_hot_encode(movies: pd.DataFrame) -> pd.DataFrame:\n",
    "    genres_set = set()\n",
    "    # get and split genres\n",
    "    for genres_list in movies['genres'].str.split('|'):\n",
    "        genres_set.update(genres_list)\n",
    "    genres_set = sorted(genres_set)\n",
    "    one_hot_encoded_dict = {} \n",
    "    # construct one-hot encoded columns with 0\n",
    "    for i, row in movies.iterrows():\n",
    "        one_hot_encoded_dict[i] = {}\n",
    "        for genre in genres_set:\n",
    "            one_hot_encoded_dict[i][genre] = 0\n",
    "    for i, row in movies.iterrows():\n",
    "        for genre in row['genres'].split('|'):\n",
    "            one_hot_encoded_dict[i][genre] = 1 # update columns with 1\n",
    "    # create df wiht one-hot encoded genres\n",
    "    encoded=pd.DataFrame.from_dict(one_hot_encoded_dict, orient='index') \n",
    "    # concat movies with encoded dataframe\n",
    "    result_df = pd.concat([movies, encoded],axis=1)\n",
    "    return result_df\n",
    "    \n",
    "# YOUR CODE HERE\n",
    "#raise NotImplementedError()"
   ]
  },
  {
   "cell_type": "code",
   "execution_count": 33,
   "id": "743236a8",
   "metadata": {
    "deletable": false,
    "editable": false,
    "nbgrader": {
     "cell_type": "code",
     "checksum": "7abaed354368690cf12d4b9f59b504cb",
     "grade": true,
     "grade_id": "Q2h-test",
     "locked": true,
     "points": 6,
     "schema_version": 3,
     "solution": false,
     "task": false
    },
    "tags": []
   },
   "outputs": [],
   "source": [
    "assert_equal(one_hot_encode(new_movies).loc[1, ['Adventure', 'Animation', 'Children']].values, [1, 1, 1])\n",
    "assert_equal(one_hot_encode(new_movies).loc[2, ['Adventure', 'Animation', 'Children']].values, [1, 0, 1])\n",
    "assert_equal(one_hot_encode(new_movies).loc[193581, ['Thriller', 'War', 'Western']].values, [0, 0, 0])\n"
   ]
  },
  {
   "cell_type": "markdown",
   "id": "21c0baa5-d5eb-4bd8-be99-5fb23f6dffe4",
   "metadata": {
    "deletable": false,
    "editable": false,
    "nbgrader": {
     "cell_type": "markdown",
     "checksum": "a38993c602b4c1364a7f63b98bbc7573",
     "grade": false,
     "grade_id": "Q3",
     "locked": true,
     "schema_version": 3,
     "solution": false,
     "task": false
    },
    "tags": []
   },
   "source": [
    "# Exercise 3: COVID-19 (22 points)\n",
    "In this exercise, we use data from the [COVID-19 Data Repository](https://github.com/CSSEGISandData/COVID-19/tree/master/csse_covid_19_data/csse_covid_19_daily_reports_us) by the Center for Systems Science and Engineering (CSSE) at Johns Hopkins University and CDC (Centers for Disease Control and Prevention).\n",
    "\n",
    "We have downloaded all US daily COVID reports from January 2022 till December 2022 and placed it in the `data/covid/` folder.  Each file corresponds to a single day and the documentation of a report can be found [here](https://github.com/CSSEGISandData/COVID-19/tree/master/csse_covid_19_data#usa-daily-state-reports-csse_covid_19_daily_reports_us). \n",
    "\n",
    "This exercise consists of five questions. To help you start, the code below loads each daily report as a dataframe and stores it in a list variable named `dfs`."
   ]
  },
  {
   "cell_type": "code",
   "execution_count": 34,
   "id": "9435efb5-003b-4507-916e-6386e52d7310",
   "metadata": {
    "deletable": false,
    "editable": false,
    "nbgrader": {
     "cell_type": "code",
     "checksum": "686ad4298e0ccba54e21436f41d0c3a4",
     "grade": false,
     "grade_id": "Q3-initalize",
     "locked": true,
     "schema_version": 3,
     "solution": false,
     "task": false
    },
    "tags": []
   },
   "outputs": [],
   "source": [
    "def add_date_column(df, date):\n",
    "    \"\"\"Add a date column.\"\"\"\n",
    "    df['Date'] = date\n",
    "    return df\n",
    "\n",
    "DATA_DIR = Path('data/covid/')\n",
    "dfs = [add_date_column(pd.read_csv(path), path.name.rstrip('.csv')) for path in sorted(DATA_DIR.glob('*.csv'))]"
   ]
  },
  {
   "cell_type": "markdown",
   "id": "5aba552b-f687-4fa7-8f6b-12ce121da24d",
   "metadata": {
    "deletable": false,
    "editable": false,
    "nbgrader": {
     "cell_type": "markdown",
     "checksum": "df97dbe45ea6da202e7e77f407c8a2d3",
     "grade": false,
     "grade_id": "Q3a-task",
     "locked": true,
     "schema_version": 3,
     "solution": false,
     "task": false
    },
    "tags": []
   },
   "source": [
    "## `total_population_size` (2 points)\n",
    "The daily reports do not contain data on the population size, but this can\n",
    "be inferred from the \"Confirmed\" and \"Incident_Rate\" column. \n",
    "\n",
    "-  Return the total US population size for a given daily report dataframe. Round your answer to the nearest integer."
   ]
  },
  {
   "cell_type": "code",
   "execution_count": 35,
   "id": "c950f186-4ec9-40ea-896b-1f2ebecc3d9b",
   "metadata": {
    "deletable": false,
    "nbgrader": {
     "cell_type": "code",
     "checksum": "72e705563896b36c482b161f99986936",
     "grade": false,
     "grade_id": "Q3a-code",
     "locked": false,
     "schema_version": 3,
     "solution": true,
     "task": false
    },
    "tags": []
   },
   "outputs": [],
   "source": [
    "def total_population_size(df: pd.DataFrame):\n",
    "    total = 0\n",
    "    for i in range(len(df)) :\n",
    "        confirmed = df.iloc[i]['Confirmed']\n",
    "        incident_rate = df.iloc[i]['Incident_Rate']\n",
    "        if pd.isnull(confirmed) or pd.isnull(incident_rate):\n",
    "            continue\n",
    "        # calculate with formula 100000 * confirmed cases / incident rate\n",
    "        total = 100000* confirmed/incident_rate + total\n",
    "    return round(total)\n",
    "    \n",
    "# YOUR CODE HERE\n",
    "#raise NotImplementedError()"
   ]
  },
  {
   "cell_type": "code",
   "execution_count": 36,
   "id": "00993c56-3463-4de4-acd4-f68efbaa08d0",
   "metadata": {
    "deletable": false,
    "editable": false,
    "nbgrader": {
     "cell_type": "code",
     "checksum": "bf4db921b25fcbd0ade39ae711f196da",
     "grade": true,
     "grade_id": "Q3a-test",
     "locked": true,
     "points": 2,
     "schema_version": 3,
     "solution": false,
     "task": false
    },
    "tags": []
   },
   "outputs": [],
   "source": [
    "assert_equal(total_population_size(dfs[0]), 332285602)\n"
   ]
  },
  {
   "cell_type": "markdown",
   "id": "af12c4b7-6a46-44ed-b99e-ff55ed887425",
   "metadata": {
    "deletable": false,
    "editable": false,
    "nbgrader": {
     "cell_type": "markdown",
     "checksum": "7351a0b94d2464d5ae60f7689e932eb0",
     "grade": false,
     "grade_id": "Q3b-task",
     "locked": true,
     "schema_version": 3,
     "solution": false,
     "task": false
    },
    "tags": []
   },
   "source": [
    "## `highest_mortality_rate_state` (6 points)\n",
    "-  Write a function called `highest_mortality_rate_state` that takes a daily report DataFrame as input.\n",
    "- The function should add a new column called `Mortality_Rate` to the given DataFrame. Mortality_Rate is the total number of deaths per 100_000 inhabitants.\n",
    "- The function should then return the name of the state with the highest mortality rate and the corresponding mortality rate. The mortality rate should be rounded to two decimal places.\n",
    "\n"
   ]
  },
  {
   "cell_type": "code",
   "execution_count": 37,
   "id": "070e5734-f10c-4a24-8dbd-0008402be3de",
   "metadata": {
    "deletable": false,
    "nbgrader": {
     "cell_type": "code",
     "checksum": "4328726d32884cea4e96149dc5f23d23",
     "grade": false,
     "grade_id": "Q3b-code",
     "locked": false,
     "schema_version": 3,
     "solution": true,
     "task": false
    },
    "tags": []
   },
   "outputs": [],
   "source": [
    "def highest_mortality_rate_state(df: pd.DataFrame) -> Tuple[str, float]:\n",
    "    df['Mortality_Rate'] = 0\n",
    "    for i, row in df.iterrows():\n",
    "        confirmed = row['Confirmed']\n",
    "        incident_rate =row['Incident_Rate']\n",
    "        deaths = row['Deaths']  \n",
    "        # calculate population size by  100000*confirmed cases/incident rate\n",
    "        population_size = 100000*confirmed/incident_rate\n",
    "        # calculate mortality rate by 100000*deaths/population size\n",
    "        mortality_rate = 100000*deaths/population_size\n",
    "        # locate the row with most mortality rate\n",
    "        df.at[i, 'Mortality_Rate'] = round(mortality_rate, 2)\n",
    "    highest = df.loc[df['Mortality_Rate'].idxmax()]\n",
    "    return highest['Province_State'], highest['Mortality_Rate']\n",
    "# YOUR CODE HERE\n",
    "#raise NotImplementedError()"
   ]
  },
  {
   "cell_type": "code",
   "execution_count": 38,
   "id": "85889514-2ea2-4ef6-8a9a-34f5cbd7e1f4",
   "metadata": {
    "deletable": false,
    "editable": false,
    "nbgrader": {
     "cell_type": "code",
     "checksum": "a325b813b4c37a5e1850200ddb201b97",
     "grade": true,
     "grade_id": "Q3b-test",
     "locked": true,
     "points": 6,
     "schema_version": 3,
     "solution": false,
     "task": false
    },
    "tags": []
   },
   "outputs": [],
   "source": [
    "assert_equal(highest_mortality_rate_state(dfs[0]), ('Mississippi', 351.12))\n"
   ]
  },
  {
   "cell_type": "markdown",
   "id": "d8999107-a903-421f-ad0a-e2447515a616",
   "metadata": {
    "deletable": false,
    "editable": false,
    "nbgrader": {
     "cell_type": "markdown",
     "checksum": "e1f7224edf8e96b70a5ddddfb88afb3a",
     "grade": false,
     "grade_id": "Q3c-task",
     "locked": true,
     "schema_version": 3,
     "solution": false,
     "task": false
    },
    "tags": []
   },
   "source": [
    "## `deadliest_month` (6 points)\n",
    "- Write a function called `deadliest_month` that takes the list of daily covid reports dataframes and a state abbreviation as input.\n",
    "- The function should compute the month during which the most deaths have occured for the given state and return that month as an integer.\n",
    "- The data starts on 1 January 2022 and ends on 31 December 2022. To get the death count for a certain day, you need to subtract the \"Deaths\" value for two consecutive days. For example, the number of deaths on January 2nd can be counted by subtracting the \"Deaths\" count of January 2nd with January 1st.\n",
    "- Additionally, the function should not consider data for Dec 31, 2021, hence you may assume that there are 0 deaths on January 1st.\n",
    "- We have provided the `concat_dfs` function that concatenated all dataframes into a single one."
   ]
  },
  {
   "cell_type": "code",
   "execution_count": 39,
   "id": "0b738241",
   "metadata": {
    "deletable": false,
    "editable": false,
    "nbgrader": {
     "cell_type": "code",
     "checksum": "61a4bd3fbea7a3ecdd2f52cc91ca9b00",
     "grade": false,
     "grade_id": "Q3c-initalize",
     "locked": true,
     "schema_version": 3,
     "solution": false,
     "task": false
    },
    "tags": []
   },
   "outputs": [],
   "source": [
    "def concat_data(dfs):\n",
    "    \"\"\"\n",
    "    Returns a single data frame in which all individual data frames are concatenated.\n",
    "    Sorts the dataframe on 1) \"Date\" and 2) \"Province_State\" column. Also reset the index with drop=True.\n",
    "    \"\"\"\n",
    "    new = pd.concat(dfs)\n",
    "    return new.sort_values(['Date', 'Province_State']).reset_index(drop=True)"
   ]
  },
  {
   "cell_type": "code",
   "execution_count": 40,
   "id": "ed7911b4-14e7-45af-985e-7f51cf79bca7",
   "metadata": {
    "deletable": false,
    "nbgrader": {
     "cell_type": "code",
     "checksum": "6df3861ce7c728964ceaccdbb1b612f6",
     "grade": false,
     "grade_id": "Q3c-code",
     "locked": false,
     "schema_version": 3,
     "solution": true,
     "task": false
    },
    "tags": []
   },
   "outputs": [],
   "source": [
    "def deadliest_month(dfs: List[pd.DataFrame], state: str) -> int:\n",
    "    data = concat_data(dfs)\n",
    "    state_data = data[data['Province_State']==state]\n",
    "    deadliest_month = 0\n",
    "    max_deaths = 0\n",
    "    previous_month = 0\n",
    "    previous_deaths = 0\n",
    "    for _, row in state_data.iterrows():\n",
    "        # convert date colum to date object\n",
    "        date=pd.to_datetime(row['Date'])\n",
    "        current_month = date.month\n",
    "        # checks if it is not the previosu month\n",
    "        if current_month != previous_month:\n",
    "            # calculate net death \n",
    "            net_deaths = row['Deaths'] - previous_deaths\n",
    "            # check if net death is bigger than max \n",
    "            if net_deaths >= max_deaths:\n",
    "                max_deaths =net_deaths\n",
    "                deadliest_month = current_month\n",
    "        # update previous month and deaths\n",
    "        previous_month = current_month\n",
    "        previous_deaths = row['Deaths']\n",
    "    return deadliest_month+1\n",
    "        \n",
    "# YOUR CODE HERE\n",
    "\n",
    "#raise NotImplementedError()"
   ]
  },
  {
   "cell_type": "code",
   "execution_count": 41,
   "id": "baf83989-6911-4890-b71d-4ed6ac928c48",
   "metadata": {
    "deletable": false,
    "editable": false,
    "nbgrader": {
     "cell_type": "code",
     "checksum": "202ad9bc3193bd688fd001d7b28dd075",
     "grade": true,
     "grade_id": "Q3c-test",
     "locked": true,
     "points": 6,
     "schema_version": 3,
     "solution": false,
     "task": false
    },
    "tags": []
   },
   "outputs": [],
   "source": [
    "assert_equal(deadliest_month(dfs, 'Alabama'), 2)\n"
   ]
  },
  {
   "cell_type": "markdown",
   "id": "c0a47cc5-c990-4eb5-bc5a-9935727d46f1",
   "metadata": {
    "deletable": false,
    "editable": false,
    "nbgrader": {
     "cell_type": "markdown",
     "checksum": "4f1bf848144cf34254d87d099c74fc03",
     "grade": false,
     "grade_id": "Q3d-task",
     "locked": true,
     "schema_version": 3,
     "solution": false,
     "task": false
    },
    "tags": []
   },
   "source": [
    "## `daily_number_confirmed_cases` (8 points)\n",
    "\n",
    "- Write a function called `daily_number_confirmed_cases` that takes two inputs: a list of daily report dataframes and a list of state names.\n",
    "- The function should return the day (in `MM-DD-YYYY` format) with the highestt total number of newly confirmed cases for the given list of states together.\n",
    "- The data starts on 1 January 2022 and ends on 31 December 2022. Similar to the previous question, to get the newly confirmed cases count for a given day, you need to subtract the \"Confirmed\" value for two consecutive days. For example, the number of newly confirmed cases on January 2nd can be counted by subtracting the \"Confirmed\" count of January 2nd with January 1st.\n",
    "- Additionally, the function should not consider data for Dec 31, 2021, hence you may assume that there are 0 newly confirmed cases on January 1st."
   ]
  },
  {
   "cell_type": "code",
   "execution_count": 42,
   "id": "0ccc5703-a2f8-4674-9aa8-cc952ae89604",
   "metadata": {
    "deletable": false,
    "nbgrader": {
     "cell_type": "code",
     "checksum": "c68b48101d4e6fedb80504801b5db402",
     "grade": false,
     "grade_id": "Q3d-code",
     "locked": false,
     "schema_version": 3,
     "solution": true,
     "task": false
    },
    "tags": []
   },
   "outputs": [],
   "source": [
    "def daily_number_confirmed_cases(dfs: List[pd.DataFrame], states: List[str]) -> str:\n",
    "    concatenated= pd.concat(dfs)\n",
    "    filtered = concatenated[concatenated['Province_State'].isin(states)]\n",
    "    filtered = filtered.reset_index()\n",
    "    num_states = len(states)\n",
    "    net_confirmed_cases = []\n",
    "    # get confirmed cases \n",
    "    confirmed_cases = np.array(filtered['Confirmed'][:num_states])\n",
    "    for i in range(0, len(filtered), num_states):\n",
    "        # get new confirmed casses for next states\n",
    "        new_confirmed_cases = np.array(filtered.iloc[i: i+ num_states]['Confirmed'])\n",
    "        # calculate diff between net and confirmed cases\n",
    "        difference = new_confirmed_cases - confirmed_cases\n",
    "        net_confirmed_cases.append(difference)\n",
    "        # update fot next iteration\n",
    "        confirmed_cases = new_confirmed_cases\n",
    "    net_confirmed_cases = np.array(net_confirmed_cases)\n",
    "    # sum rach confirmed casess per day\n",
    "    confirmed_cases_per_day= net_confirmed_cases.sum(axis=1)\n",
    "    # index of max confirmed cases per day\n",
    "    max_index = np.argmax(confirmed_cases_per_day)\n",
    "    # get date for the max confirmed cases \n",
    "    max_date = filtered.iloc[max_index*num_states]['Date']\n",
    "    return max_date\n",
    "    \n",
    "    # YOUR CODE HERE\n",
    "##raise NotImplementedError()"
   ]
  },
  {
   "cell_type": "code",
   "execution_count": 43,
   "id": "99873789-03b3-4bdf-adb6-a000bae7bda5",
   "metadata": {
    "deletable": false,
    "editable": false,
    "nbgrader": {
     "cell_type": "code",
     "checksum": "10079d7770f2b67933d1562d13dc71d7",
     "grade": true,
     "grade_id": "Q3d-test",
     "locked": true,
     "points": 8,
     "schema_version": 3,
     "solution": false,
     "task": false
    },
    "tags": []
   },
   "outputs": [],
   "source": [
    "assert_equal(daily_number_confirmed_cases(dfs, ['California']), '01-16-2022')\n",
    "assert_equal(daily_number_confirmed_cases(dfs, ['California', 'Texas', 'New York']), '01-03-2022')\n"
   ]
  },
  {
   "cell_type": "markdown",
   "id": "a89f3afe",
   "metadata": {
    "deletable": false,
    "editable": false,
    "nbgrader": {
     "cell_type": "markdown",
     "checksum": "6d734b36badccec83dda01d893e7bdb8",
     "grade": false,
     "grade_id": "Q4",
     "locked": true,
     "schema_version": 3,
     "solution": false,
     "task": false
    },
    "tags": []
   },
   "source": [
    "# Exercise 4: Energy and emissions (22 points)\n",
    "In this exercise, we will be working with two datasets from Our World In Data on energy production and CO2 emissions. The original datasets can be found at the following links:\n",
    "- https://github.com/owid/co2-data/\n",
    "- https://github.com/owid/energy-data/\n",
    "\n",
    "The two data sets are loaded as `energy` and `emissions` variables below. We have modified the energy dataset to only contain a subset of the columns, but the emissions dataset is the same as the original version. Details about the data can be found in the \"codebooks\":\n",
    "- https://github.com/owid/energy-data/blob/master/owid-energy-codebook.csv\n",
    "- https://github.com/owid/co2-data/blob/master/owid-co2-codebook.csv"
   ]
  },
  {
   "cell_type": "code",
   "execution_count": 44,
   "id": "7cdbedc2",
   "metadata": {
    "deletable": false,
    "editable": false,
    "nbgrader": {
     "cell_type": "code",
     "checksum": "f888e4da09eafbe1a79ec148e429388a",
     "grade": false,
     "grade_id": "Q4-initalize",
     "locked": true,
     "schema_version": 3,
     "solution": false,
     "task": false
    },
    "tags": []
   },
   "outputs": [],
   "source": [
    "energy = pd.read_csv('data/owid/energy.csv')\n",
    "emissions = pd.read_csv('data/owid/emissions.csv')"
   ]
  },
  {
   "cell_type": "markdown",
   "id": "b337b777",
   "metadata": {
    "deletable": false,
    "editable": false,
    "nbgrader": {
     "cell_type": "markdown",
     "checksum": "f6f0b411605d3bfbfe8533bc26149f1d",
     "grade": false,
     "grade_id": "Q4a-task",
     "locked": true,
     "schema_version": 3,
     "solution": false,
     "task": false
    },
    "tags": []
   },
   "source": [
    "## ``electricity_surplus`` (2 points)\n",
    "- Write a function called `eletricity_surplus` that takes three arguments: a pandas DataFrame called `energy`, a string called `country`, and an integer called `year`. \n",
    "- The function should return a float representing the electricity surplus for the given country and year. \n",
    "- You may assume that `renewables_electricity` is a **separate** electricity production category, so it's different from `solar_electricity`, `wind_electricity` or `biofuel_electricity`."
   ]
  },
  {
   "cell_type": "code",
   "execution_count": 45,
   "id": "826691c9",
   "metadata": {
    "deletable": false,
    "nbgrader": {
     "cell_type": "code",
     "checksum": "42cdad7108dc2f8afdafb638781b828c",
     "grade": false,
     "grade_id": "Q4a-code",
     "locked": false,
     "schema_version": 3,
     "solution": true,
     "task": false
    },
    "tags": []
   },
   "outputs": [],
   "source": [
    "def eletricity_surplus(energy: pd.DataFrame, country: str, year: int) -> float:\n",
    "    data = energy[(energy['country'] == country) &(energy['year'] == year)]\n",
    "    # calculate the electricity surplus\n",
    "    renewables= data['renewables_electricity'].values[0]\n",
    "    solar = data['solar_electricity'].values[0]\n",
    "    wind= data['wind_electricity'].values[0]\n",
    "    biofuel = data['biofuel_electricity'].values[0]\n",
    "    oil = data['oil_electricity'].values[0]\n",
    "    nuclear = data['nuclear_electricity'].values[0]\n",
    "    gas = data['gas_electricity'].values[0]\n",
    "    coal = data['coal_electricity'].values[0]\n",
    "    # add them ton calculate production\n",
    "    production = renewables + solar + wind+ biofuel + oil + nuclear + gas + coal\n",
    "    demand = data['electricity_demand'].values[0]\n",
    "    surplus = production - demand\n",
    "    return round(surplus, 2)\n",
    "   \n",
    "# YOUR CODE HERE\n",
    "#raise NotImplementedError()"
   ]
  },
  {
   "cell_type": "code",
   "execution_count": 46,
   "id": "2e8f4594",
   "metadata": {
    "deletable": false,
    "editable": false,
    "nbgrader": {
     "cell_type": "code",
     "checksum": "9d541b9681b6fcfb724e161cfff47ab1",
     "grade": true,
     "grade_id": "Q4a-test",
     "locked": true,
     "points": 2,
     "schema_version": 3,
     "solution": false,
     "task": false
    },
    "tags": []
   },
   "outputs": [],
   "source": [
    "assert_equal(eletricity_surplus(energy, 'Netherlands', 2020), 35.36)\n"
   ]
  },
  {
   "cell_type": "markdown",
   "id": "9f053382",
   "metadata": {
    "deletable": false,
    "editable": false,
    "nbgrader": {
     "cell_type": "markdown",
     "checksum": "1065591e2b5f1180de0777b791d3bda6",
     "grade": false,
     "grade_id": "Q4b-task",
     "locked": true,
     "schema_version": 3,
     "solution": false,
     "task": false
    },
    "tags": []
   },
   "source": [
    "## ``most_relative_solar_production_by_year`` (6 points)\n",
    "- Write a function called `most_relative_solar_production_by_year` that takes a pandas DataFrame called `energy` as input. \n",
    "- The function should return a new DataFrame. Each row should contain the country name and the relative solar production (rounded to three decimal places). The row indices should correspond to the year.\n",
    "- The relative solar production is computed as the `solar_electricity / electricity_demand`.\n",
    "\n",
    "**Example using dummy data**:"
   ]
  },
  {
   "cell_type": "code",
   "execution_count": 47,
   "id": "80579281",
   "metadata": {
    "deletable": false,
    "editable": false,
    "nbgrader": {
     "cell_type": "code",
     "checksum": "94ba4b012515a88d78eb2d2595d06a19",
     "grade": false,
     "grade_id": "Q4b-initalize",
     "locked": true,
     "schema_version": 3,
     "solution": false,
     "task": false
    },
    "tags": []
   },
   "outputs": [],
   "source": [
    "# This is an example on dummy data that you can use to test your function.\n",
    "\n",
    "# df = pd.DataFrame({'country': ['USA', 'USA', 'USA', 'Canada', 'Canada', 'Canada'],\n",
    "#                        'year': [2010, 2011, 2012, 2010, 2011, 2012],\n",
    "#                        'electricity_demand': [101, 110, 120, 50, 60, 70],\n",
    "#                        'solar_electricity': [1, 20, 30, 5, 10, 15]})\n",
    "# result = most_relative_solar_production_by_year(df)\n",
    "# print(result)\n",
    "# #       country  solar_relative\n",
    "# # year                         \n",
    "# # 2010   Canada           0.100\n",
    "# # 2011      USA           0.182\n",
    "# # 2012      USA           0.250"
   ]
  },
  {
   "cell_type": "code",
   "execution_count": 48,
   "id": "87249118",
   "metadata": {
    "deletable": false,
    "nbgrader": {
     "cell_type": "code",
     "checksum": "6faf78b5cb6e0d91b620f87469688fde",
     "grade": false,
     "grade_id": "Q4b-code",
     "locked": false,
     "schema_version": 3,
     "solution": true,
     "task": false
    },
    "tags": []
   },
   "outputs": [],
   "source": [
    "def most_relative_solar_production_by_year(energy: pd.DataFrame) -> pd.DataFrame:\n",
    "    # generate new dataframe\n",
    "    new_df =energy[[\"year\", \"country\", \"electricity_demand\", \"solar_electricity\"]].copy()\n",
    "    # compute relative solar production\n",
    "    new_df[\"solar_relative\"] = round(new_df[\"solar_electricity\"] / new_df[\"electricity_demand\"], 3)\n",
    "    # best valıes per year\n",
    "    best_values = new_df.groupby(\"year\")[\"solar_relative\"].idxmax()\n",
    "    result = new_df.loc[best_values]\n",
    "    result.set_index(\"year\",inplace=True) # index to year\n",
    "    # drop the electricity demand and solar electritiy columns\n",
    "    result.drop(columns=[\"electricity_demand\", \"solar_electricity\"], inplace=True)\n",
    "    return result\n",
    "\n",
    "# YOUR CODE HERE\n",
    "#raise NotImplementedError()"
   ]
  },
  {
   "cell_type": "code",
   "execution_count": 49,
   "id": "114563fd",
   "metadata": {
    "deletable": false,
    "editable": false,
    "nbgrader": {
     "cell_type": "code",
     "checksum": "1fcefb895a1caa6b55608889bf2352a6",
     "grade": true,
     "grade_id": "Q4b-test",
     "locked": true,
     "points": 6,
     "schema_version": 3,
     "solution": false,
     "task": false
    },
    "tags": []
   },
   "outputs": [],
   "source": [
    "df = most_relative_solar_production_by_year(energy)\n",
    "\n",
    "# Check which country has the highest relative solar production in 2010\n",
    "actual = df.loc[2010].values.tolist()\n",
    "desired = ['Reunion', 0.028]\n",
    "\n",
    "assert_equal(actual, desired)"
   ]
  },
  {
   "cell_type": "markdown",
   "id": "e42eb438",
   "metadata": {
    "deletable": false,
    "editable": false,
    "nbgrader": {
     "cell_type": "markdown",
     "checksum": "62806130963cd1e49d395f415656e1c6",
     "grade": false,
     "grade_id": "Q4c-task",
     "locked": true,
     "schema_version": 3,
     "solution": false,
     "task": false
    },
    "tags": []
   },
   "source": [
    "## ``electricity_demand_growth`` (6 points)\n",
    "- Write a function called `electricity_demand_growth` that takes a pandas DataFrame called `energy` as input. \n",
    "- The function should compute the absolute growth in electricity demand from the previous year for each row in the `energy` DataFrame, and return a new DataFrame with the same columns as `energy`, plus a new column called `electricity_demand_growth` that contains the growth in electricity demand from the previous year. \n",
    "- When there is no electricity demand information available about the previous or current year, the growth value should be `NaN`.\n",
    "- You can assume that the input DataFrame contains subsequent year data for all countries. In other words, a country will always have data for a range of years (e.g., 2000-2020) without missing years.\n",
    "\n",
    "**Example using dummy data:**"
   ]
  },
  {
   "cell_type": "code",
   "execution_count": 50,
   "id": "5c8aa3b6",
   "metadata": {
    "deletable": false,
    "editable": false,
    "nbgrader": {
     "cell_type": "code",
     "checksum": "cd7bf865c41d3b16f97840487187611f",
     "grade": false,
     "grade_id": "Q4c-initalize",
     "locked": true,
     "schema_version": 3,
     "solution": false,
     "task": false
    },
    "tags": []
   },
   "outputs": [],
   "source": [
    "# df = pd.DataFrame({'country': ['Netherlands', 'Netherlands', 'Netherlands', 'Italy', 'Italy', 'Italy', 'India', 'India', 'India'],\n",
    "#                        'year': [2018, 2019, 2020, 2000, 2001, 2002, 2015, 2016, 2017],\n",
    "#                        'electricity_demand': [100, 100, 98, 100, 105, 110, 100, 159.46, np.nan]})\n",
    "# result = electricity_demand_growth(df)\n",
    "# print(result)\n",
    "# #         country  year  electricity_demand  electricity_demand_growth\n",
    "# # 0   Netherlands  2018              100.00                        NaN\n",
    "# # 1   Netherlands  2019              100.00                       0.00\n",
    "# # 2   Netherlands  2020               98.00                      -2.00\n",
    "# # 3         Italy  2000              100.00                        NaN\n",
    "# # 4         Italy  2001              105.00                       5.00                  \n",
    "# # 5         Italy  2002              110.00                       5.00 \n",
    "# # 6         India  2015              100.00                        NaN\n",
    "# # 7         India  2016              159.46                      59.46\n",
    "# # 8         India  2017              NaN                           NaN\n"
   ]
  },
  {
   "cell_type": "code",
   "execution_count": 51,
   "id": "cfd97b90",
   "metadata": {
    "deletable": false,
    "nbgrader": {
     "cell_type": "code",
     "checksum": "05892ff4ef90efb6965f0fca6a87c24f",
     "grade": false,
     "grade_id": "Q4c-code",
     "locked": false,
     "schema_version": 3,
     "solution": true,
     "task": false
    },
    "tags": []
   },
   "outputs": [],
   "source": [
    "def electricity_demand_growth(energy: pd.DataFrame) -> pd.DataFrame:\n",
    "    energy = energy.sort_values(['country', 'year'])\n",
    "    #calcualate electricity demand growth \n",
    "    energy['electricity_demand_growth'] = energy.groupby('country')['electricity_demand'].diff()\n",
    "    energy = energy.sort_index() # sort by index\n",
    "    return energy\n",
    "\n",
    "# YOUR CODE HERE\n",
    "#raise NotImplementedError()"
   ]
  },
  {
   "cell_type": "code",
   "execution_count": 52,
   "id": "7cb33ce8",
   "metadata": {
    "deletable": false,
    "editable": false,
    "nbgrader": {
     "cell_type": "code",
     "checksum": "28ac08c9d4ea4647882eeb388b195444",
     "grade": true,
     "grade_id": "Q4c-test",
     "locked": true,
     "points": 6,
     "schema_version": 3,
     "solution": false,
     "task": false
    },
    "tags": []
   },
   "outputs": [],
   "source": [
    "df = electricity_demand_growth(energy)\n",
    "\n",
    "# Check the electricity demand growth for the Netherlands in years 2000, 2019 and 2020.\n",
    "condition = (df['country'] == 'Netherlands') & (df['year'].isin([2000, 2019, 2020]))\n",
    "assert_allclose(df.loc[condition, 'electricity_demand_growth'].values, [np.nan, 0., -1.52])"
   ]
  },
  {
   "cell_type": "markdown",
   "id": "740791a5",
   "metadata": {
    "deletable": false,
    "editable": false,
    "nbgrader": {
     "cell_type": "markdown",
     "checksum": "4a2daba6a7d174e2b88159ab2b912e53",
     "grade": false,
     "grade_id": "Q4d-task",
     "locked": true,
     "schema_version": 3,
     "solution": false,
     "task": false
    },
    "tags": []
   },
   "source": [
    "## `correlation_electricity_demand_and_co2_emissions` (8 points)\n",
    "- Write a function called `correlation_electricity_demand_and_co2_emissions` that takes three pandas DataFrames called `energy`, `emissions`, and `country` as input. \n",
    "- The function should merge the `energy` and `emissions` DataFrames on the `country` and `year` columns and filter the resulting DataFrame to only include rows for the specified `country`.\n",
    "- Then, the function should compute the Pearson correlation between electricity demand (`energy.electricity_demand`) and CO2 emissions (`emissions.co2`) for the filtered DataFrame, and return the correlation rounded to two decimal places.\n",
    "- If a row contains no value for the electricity demand or CO2 emissions, then that row may be ignored."
   ]
  },
  {
   "cell_type": "code",
   "execution_count": 53,
   "id": "78d0eda6",
   "metadata": {
    "deletable": false,
    "nbgrader": {
     "cell_type": "code",
     "checksum": "5c15a6786848d2c55603172109ef294f",
     "grade": false,
     "grade_id": "Q4d-code",
     "locked": false,
     "schema_version": 3,
     "solution": true,
     "task": false
    },
    "tags": []
   },
   "outputs": [],
   "source": [
    "def correlation_electricity_demand_and_co2_emissions(energy: pd.DataFrame, emissions: pd.DataFrame, country: str) -> float:\n",
    "    #merge the energy and emissions DataFrames on the country and year columns\n",
    "    merged = pd.merge(energy, emissions, on=['country', 'year'])\n",
    "    #filter the resulting DataFrame to only include rows for the specified country.\n",
    "    filtered = merged[merged['country'] == country]\n",
    "    # compute the Pearson correlation between electricity demand (energy.electricity_demand) and CO2 emissions (emissions.co2) for the filtered DataFrame,\n",
    "    correlation = filtered['electricity_demand'].corr(filtered['co2'], method='pearson')\n",
    "    correlation = round(correlation, 2) # round to 2\n",
    "    return correlation\n",
    "# YOUR CODE HERE\n",
    "#raise NotImplementedError()"
   ]
  },
  {
   "cell_type": "code",
   "execution_count": 54,
   "id": "1555117f",
   "metadata": {
    "deletable": false,
    "editable": false,
    "nbgrader": {
     "cell_type": "code",
     "checksum": "91aa7840e10241a8597641f4dff38111",
     "grade": true,
     "grade_id": "Q4d-test",
     "locked": true,
     "points": 8,
     "schema_version": 3,
     "solution": false,
     "task": false
    },
    "tags": []
   },
   "outputs": [],
   "source": [
    "assert_equal(correlation_electricity_demand_and_co2_emissions(energy, emissions, 'Netherlands'), -0.34)\n"
   ]
  },
  {
   "cell_type": "code",
   "execution_count": null,
   "id": "7329750e",
   "metadata": {},
   "outputs": [],
   "source": []
  }
 ],
 "metadata": {
  "kernelspec": {
   "display_name": "Python 3 (ipykernel)",
   "language": "python",
   "name": "python3"
  },
  "language_info": {
   "codemirror_mode": {
    "name": "ipython",
    "version": 3
   },
   "file_extension": ".py",
   "mimetype": "text/x-python",
   "name": "python",
   "nbconvert_exporter": "python",
   "pygments_lexer": "ipython3",
   "version": "3.9.13"
  },
  "toc-autonumbering": true,
  "toc-showcode": false
 },
 "nbformat": 4,
 "nbformat_minor": 5
}
